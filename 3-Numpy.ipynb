{
 "cells": [
  {
   "cell_type": "markdown",
   "metadata": {
    "slideshow": {
     "slide_type": "slide"
    }
   },
   "source": [
    "# Programación y NumPy\n",
    "\n",
    "En la primera parte de este notebook seguiremos explorando algunas cuestiones de programación. En la segunda parte, empezaremos a trabajar con NumPy, nuestra primera librería.\n",
    "\n",
    "## 1. Programación\n",
    "\n",
    "### 1.1 Operaciones Lógicas\n",
    "\n",
    "Comencemos viendo cómo implementar lo que vimos en la bitácora de operaciones lógicas. Te recomendamos tener la bitácora cerca así puedes consultarla.\n",
    "\n",
    "En primer lugar, la operación `not` es simplemente la negación del booleano."
   ]
  },
  {
   "cell_type": "code",
   "execution_count": 1,
   "metadata": {
    "colab": {},
    "colab_type": "code",
    "id": "kv2eNRpePBOy",
    "outputId": "354f1f5a-3c36-48c3-865a-27c54046383f"
   },
   "outputs": [
    {
     "name": "stdout",
     "output_type": "stream",
     "text": [
      "False\n",
      "True\n"
     ]
    }
   ],
   "source": [
    "variable_1 = True\n",
    "print(not(variable_1))\n",
    "\n",
    "variable_2 = False\n",
    "print(not(variable_2))"
   ]
  },
  {
   "cell_type": "markdown",
   "metadata": {
    "colab": {},
    "colab_type": "code",
    "id": "kv2eNRpePBOy",
    "outputId": "354f1f5a-3c36-48c3-865a-27c54046383f"
   },
   "source": [
    "La operación `and` nos devuelve `True` unicamente cuando ambas variables son verdaderas. Experimentar con la celda inferior y comprobar su tabla de verdad."
   ]
  },
  {
   "cell_type": "code",
   "execution_count": 2,
   "metadata": {
    "colab": {},
    "colab_type": "code",
    "id": "mHPhaiiJPBOv",
    "outputId": "233add10-5ef8-4512-c53c-dcd73ba11a6e"
   },
   "outputs": [
    {
     "name": "stdout",
     "output_type": "stream",
     "text": [
      "False\n"
     ]
    }
   ],
   "source": [
    "variable_1 = True\n",
    "variable_2 = False\n",
    "print(variable_1 and variable_2)"
   ]
  },
  {
   "cell_type": "markdown",
   "metadata": {},
   "source": [
    "**Ejercicio:** comprobar la tabla de verdad de la operación `or` jugando con la celda siguiente. Viene con trampa(s)."
   ]
  },
  {
   "cell_type": "code",
   "execution_count": 3,
   "metadata": {
    "colab": {},
    "colab_type": "code",
    "id": "i9QxO0SgPBO3",
    "outputId": "ce1f57f7-67c9-46bc-8ced-59e1dd1c977e"
   },
   "outputs": [
    {
     "name": "stdout",
     "output_type": "stream",
     "text": [
      "True\n"
     ]
    }
   ],
   "source": [
    "A = False\n",
    "C = False\n",
    "A_or_B = variable_1 or variable_2\n",
    "print(A_or_B)"
   ]
  },
  {
   "cell_type": "markdown",
   "metadata": {
    "colab_type": "text",
    "id": "oa016g7sPBP2"
   },
   "source": [
    "### 1.2 Estructuras de control - Condicionales\n",
    "\n",
    "Los condicionales nos permiten ejecutar o no un bloque de codigo dependiendo de ciertas condiciones. En lenguaje coloquial, vendrían a ser del estilo de \"Si se cumple esta condición, hace A. Si no se cumple, hace B\", donde B puede ser, simplemente, no hacer nada. Veamos qué formas toman.\n",
    "\n",
    "### 1.2.1 If\n",
    "\n",
    "El condicional más simple es el `if`. Para mayor claridad escribiremos la condicion entre parentesis (), aunque esto no es necesario. Su estructura es \n",
    "\n",
    "``` python\n",
    "if condicion:\n",
    "    Si se cumple la condición, se ejecutan estas líneas de código\n",
    "```\n",
    "\n",
    "Veamos algunos ejemplos:"
   ]
  },
  {
   "cell_type": "code",
   "execution_count": 4,
   "metadata": {
    "colab": {},
    "colab_type": "code",
    "id": "TYisVuiEPBP4"
   },
   "outputs": [
    {
     "name": "stdout",
     "output_type": "stream",
     "text": [
      "El valor es mayor que 10\n"
     ]
    }
   ],
   "source": [
    "valor = 15\n",
    "if (valor > 10):\n",
    "    print('El valor es mayor que 10')"
   ]
  },
  {
   "cell_type": "markdown",
   "metadata": {
    "colab_type": "text",
    "id": "-hz-IXpJPBP6"
   },
   "source": [
    "Prestar atención a que la condición debe ser un booleano"
   ]
  },
  {
   "cell_type": "code",
   "execution_count": 5,
   "metadata": {
    "colab": {},
    "colab_type": "code",
    "id": "BCXXXwRMPBP7",
    "outputId": "bb39079d-bbb5-41fd-c147-2a9b0fab4dda"
   },
   "outputs": [
    {
     "name": "stdout",
     "output_type": "stream",
     "text": [
      "True\n",
      "<class 'bool'>\n"
     ]
    }
   ],
   "source": [
    "print(valor > 10)\n",
    "print(type(valor > 10))"
   ]
  },
  {
   "cell_type": "markdown",
   "metadata": {},
   "source": [
    "**Nota:** para comparar variables, tenemos las operaciones menor `<`, mayor `>`, igualdad `==`, menor o igual  `<=`, y mayor o igual `>=`."
   ]
  },
  {
   "cell_type": "code",
   "execution_count": 28,
   "metadata": {},
   "outputs": [
    {
     "name": "stdout",
     "output_type": "stream",
     "text": [
      "True\n",
      "True\n",
      "True\n",
      "True\n",
      "True\n"
     ]
    }
   ],
   "source": [
    "print(3 == 3)\n",
    "print(3 < 4)\n",
    "print(5 > 3)\n",
    "print(3 <= 3)\n",
    "print(3 >= 3)"
   ]
  },
  {
   "cell_type": "code",
   "execution_count": 33,
   "metadata": {},
   "outputs": [],
   "source": [
    "a = 'hola'\n",
    "b = 'chao'"
   ]
  },
  {
   "cell_type": "code",
   "execution_count": 34,
   "metadata": {},
   "outputs": [
    {
     "data": {
      "text/plain": [
       "True"
      ]
     },
     "execution_count": 34,
     "metadata": {},
     "output_type": "execute_result"
    }
   ],
   "source": [
    "a > b"
   ]
  },
  {
   "cell_type": "markdown",
   "metadata": {
    "colab_type": "text",
    "id": "zaIO1UwlPBP_"
   },
   "source": [
    "### 1.2.2 If, Else\n",
    "\n",
    "A la estrucutra con `if` se le puede agregar otro bloque de codigo que se ejecute si la condición exigida NO se cumple. Esto se logra mediante la expresión `else`.\n",
    "\n",
    "``` python\n",
    "if condicion:\n",
    "    Si se cumple la condición, se ejecutan estas líneas de código\n",
    "else:\n",
    "    Si NO se cumple la condición, se ejecutan estas líneas de código\n",
    "```"
   ]
  },
  {
   "cell_type": "code",
   "execution_count": 37,
   "metadata": {
    "colab": {},
    "colab_type": "code",
    "id": "Hf8xuG6iPBP_",
    "outputId": "648aeb46-8db8-4669-d339-68d15dd47413"
   },
   "outputs": [
    {
     "name": "stdout",
     "output_type": "stream",
     "text": [
      "Esta persona NO se llama Juan\n"
     ]
    }
   ],
   "source": [
    "nombre = 'Pedro'\n",
    "\n",
    "if (nombre == 'Juan'):\n",
    "    print('Esta persona se llama Juan')\n",
    "else:\n",
    "    print('Esta persona NO se llama Juan')"
   ]
  },
  {
   "cell_type": "markdown",
   "metadata": {},
   "source": [
    "Prestar atención, nuevamente, a que la condición - lo que está entre paréntesis - es un booleano."
   ]
  },
  {
   "cell_type": "code",
   "execution_count": 8,
   "metadata": {
    "colab": {},
    "colab_type": "code",
    "id": "GVfCLIQyPBQB",
    "outputId": "4adefa9e-a63d-4f36-8ce8-300987c706d1"
   },
   "outputs": [
    {
     "data": {
      "text/plain": [
       "False"
      ]
     },
     "execution_count": 8,
     "metadata": {},
     "output_type": "execute_result"
    }
   ],
   "source": [
    "'Juan'=='Pedro'"
   ]
  },
  {
   "cell_type": "markdown",
   "metadata": {
    "colab_type": "text",
    "id": "1AJNWoqhPBQJ"
   },
   "source": [
    "### 1.2.3 If, Elif, Else\n",
    "A esta estructura se le pueden sumar tantas condiciones encadenadas como uno desee, mediante la expresión `elif`. El orden en que se van chequeando las condiciones depende de su posición, priemero se chequea el `if`, luego el primer `elif`, luego el segundo, y así sucesivamente.\n",
    "\n",
    "``` python\n",
    "if condicion_1:\n",
    "    Si se cumple la condicion_1 , se ejecutan estas líneas de código\n",
    "elif condicion_2:\n",
    "    Si se cumple la condicion_2 , se ejecutan estas líneas de código\n",
    "elif condicion_3:\n",
    "    Si se cumple la condicion_3 , se ejecutan estas líneas de código\n",
    "else:\n",
    "    Si NO se cumple ninguna de las condiciones anteriores, se ejecutan líneas celdas de código\n",
    "```\n"
   ]
  },
  {
   "cell_type": "code",
   "execution_count": 38,
   "metadata": {
    "colab": {},
    "colab_type": "code",
    "id": "psA9onaFPBQL",
    "outputId": "6ea15df0-f8cd-4bf0-f932-5f706e18ffa0"
   },
   "outputs": [
    {
     "name": "stdout",
     "output_type": "stream",
     "text": [
      "Esta persona tiene mas de 18 años\n"
     ]
    }
   ],
   "source": [
    "edad = 20\n",
    "\n",
    "if (edad < 18):\n",
    "    print('Esta persona tiene menos de 18 años')\n",
    "elif (edad > 18):\n",
    "    print('Esta persona tiene mas de 18 años')\n",
    "else:\n",
    "    print('Esta persona tiene justo 18 años')"
   ]
  },
  {
   "cell_type": "code",
   "execution_count": 57,
   "metadata": {},
   "outputs": [],
   "source": [
    "edad = 61\n",
    "\n",
    "if (edad < 10):\n",
    "    print('es un niño')\n",
    "elif (edad < 18):\n",
    "    print('es un adolescente')\n",
    "elif (edad < 60):\n",
    "    print('es un adulto')\n",
    "else:\n",
    "    print('es un anciano')"
   ]
  },
  {
   "cell_type": "code",
   "execution_count": 53,
   "metadata": {},
   "outputs": [
    {
     "name": "stdout",
     "output_type": "stream",
     "text": [
      "es un adolescente\n"
     ]
    }
   ],
   "source": [
    "if (edad < 10):\n",
    "    print('es un niño')\n",
    "else:\n",
    "    if (edad < 18):\n",
    "        print('es un adolescente')\n",
    "    else:\n",
    "        if (edad < 60):\n",
    "            print('es un adulto')\n",
    "        else:\n",
    "            print('es un anciano')"
   ]
  },
  {
   "cell_type": "code",
   "execution_count": 47,
   "metadata": {},
   "outputs": [
    {
     "name": "stdout",
     "output_type": "stream",
     "text": [
      "es un adolescente\n",
      "es un adulto\n"
     ]
    }
   ],
   "source": [
    "if (edad < 10):\n",
    "    print('es un niño')\n",
    "if (edad < 18):\n",
    "    print('es un adolescente')\n",
    "if (edad < 60):\n",
    "    print('es un adulto')\n",
    "else:\n",
    "    print('es un anciano')"
   ]
  },
  {
   "cell_type": "code",
   "execution_count": 49,
   "metadata": {},
   "outputs": [],
   "source": [
    "mensaje = 'es un niño' if edad < 18 else 'es un adulto'"
   ]
  },
  {
   "cell_type": "code",
   "execution_count": 51,
   "metadata": {},
   "outputs": [
    {
     "name": "stdout",
     "output_type": "stream",
     "text": [
      "es un niño\n"
     ]
    }
   ],
   "source": [
    "if edad < 18:\n",
    "    mensaje = 'es un niño'\n",
    "else:\n",
    "    mensaje = 'es un adulto'\n",
    "print(mensaje)"
   ]
  },
  {
   "cell_type": "code",
   "execution_count": null,
   "metadata": {},
   "outputs": [],
   "source": [
    "edad < 18 ? print('es un niño') : print('es un adulto')"
   ]
  },
  {
   "cell_type": "markdown",
   "metadata": {
    "colab_type": "text",
    "id": "ZHXdIEkSW6wa"
   },
   "source": [
    "**Ejercicio**: Escriba un bloque de código que, dado un número, imprima la frase \"El numero es par\" si el número es par o la frase \"El numero es impar\" si no lo es."
   ]
  },
  {
   "cell_type": "code",
   "execution_count": 10,
   "metadata": {
    "colab": {},
    "colab_type": "code",
    "id": "7uWbEw9BYAL4"
   },
   "outputs": [
    {
     "name": "stdout",
     "output_type": "stream",
     "text": [
      "Es impar\n"
     ]
    }
   ],
   "source": [
    "numero = 17\n",
    "if numero%2==0:\n",
    "    print('Es par')\n",
    "else:\n",
    "    print('Es impar')"
   ]
  },
  {
   "cell_type": "markdown",
   "metadata": {
    "colab_type": "text",
    "id": "qecxWClXPBQM"
   },
   "source": [
    "### 1.3 Combinando estructuras de código\n",
    "\n",
    "Las estructuras de loops que vimos en la bitácora anterior y condicionales que aprendimos se pueden combinar para generar comportamientos más complejos. Supongamos que tenemos una lista de edades y nos queremos quedar con aquellas que sean mayores que 18 años. Podemos hacer lo siguiente:"
   ]
  },
  {
   "cell_type": "code",
   "execution_count": 11,
   "metadata": {
    "colab": {},
    "colab_type": "code",
    "id": "69DHgsOjPBQN",
    "outputId": "deb7b751-5678-47ff-9949-3b5712256120"
   },
   "outputs": [
    {
     "name": "stdout",
     "output_type": "stream",
     "text": [
      "[20, 29, 42, 18]\n"
     ]
    }
   ],
   "source": [
    "lista_de_edades = [4,20,15,29,11,42,10,18]\n",
    "lista_mayores = []\n",
    "\n",
    "for edad in lista_de_edades:\n",
    "    if (edad >= 18):\n",
    "        # Agremos a la lista de mayores\n",
    "        lista_mayores.append(edad)\n",
    "\n",
    "print(lista_mayores)"
   ]
  },
  {
   "cell_type": "markdown",
   "metadata": {},
   "source": [
    "### 1.4 Operaciones lógicas y estructuras de control\n",
    "\n",
    "A veces, queremos ejecutar una línea de código si se cumple más de una condición. Esto se puede lograr fácilmente usando las operaciones lógicas que vimos. Supongamos que tenemos una lista de números, y queremos seleccionar aquellos que cumplan ciertas propiedades. Por ejemplo, que son mayores o iguales que 5 y menores que 20. Podríamos hacer lo siguiente:"
   ]
  },
  {
   "cell_type": "code",
   "execution_count": 12,
   "metadata": {},
   "outputs": [
    {
     "name": "stdout",
     "output_type": "stream",
     "text": [
      "[6, 17, 5, 6, 13, 15]\n"
     ]
    }
   ],
   "source": [
    "numeros = [0,3,1,4,6,17,3,89,5,6,4,13,25,4,3,23,1,15,2]\n",
    "seleccionados = []\n",
    "for numero in numeros:\n",
    "    if numero >= 5:\n",
    "        if numero < 20:\n",
    "            seleccionados.append(numero)\n",
    "print(seleccionados)"
   ]
  },
  {
   "cell_type": "markdown",
   "metadata": {},
   "source": [
    "Notar que los números seleccionados cumplen los requisitos que pedimos. Pero también podríamos hacerlo así:"
   ]
  },
  {
   "cell_type": "code",
   "execution_count": 13,
   "metadata": {},
   "outputs": [
    {
     "name": "stdout",
     "output_type": "stream",
     "text": [
      "[6, 17, 5, 6, 13, 15]\n"
     ]
    }
   ],
   "source": [
    "numeros = [0,3,1,4,6,17,3,89,5,6,4,13,25,4,3,23,1,15,2]\n",
    "seleccionados = []\n",
    "for numero in numeros:\n",
    "    if numero >= 5 and numero < 20:\n",
    "        seleccionados.append(numero)\n",
    "print(seleccionados)"
   ]
  },
  {
   "cell_type": "markdown",
   "metadata": {},
   "source": [
    "El resultado es el mismo. Si bien esta forma es más compacta, no necesariamente implica que sea mejor. Uno/a elije hacerlo de una u otra forma según lo que le parezca más claro; si ambas condiciones juntas son difíciles de leer, tal vez puedes usar la primera forma.\n",
    "\n",
    "**Ejercicio**: Modifica el ejemplo anterior para que seleccione aquellos números **mayores** que 5 **o** impares."
   ]
  },
  {
   "cell_type": "code",
   "execution_count": 14,
   "metadata": {},
   "outputs": [
    {
     "name": "stdout",
     "output_type": "stream",
     "text": [
      "[3, 1, 6, 17, 3, 89, 5, 6, 13, 25, 3, 23, 1, 15]\n"
     ]
    }
   ],
   "source": [
    "numeros = [0,3,1,4,6,17,3,89,5,6,4,13,25,4,3,23,1,15,2]\n",
    "seleccionados = []\n",
    "for numero in numeros:\n",
    "    if numero > 5 or numero%2 == 1:\n",
    "        seleccionados.append(numero)\n",
    "print(seleccionados)"
   ]
  },
  {
   "cell_type": "markdown",
   "metadata": {},
   "source": [
    "### Ejercitación\n",
    "\n",
    "**Ejercicio 1**: ¿Qué pasa si sumás, restás, multiplicás o dividís booleanos? Pruébalo e interpreta."
   ]
  },
  {
   "cell_type": "code",
   "execution_count": 15,
   "metadata": {},
   "outputs": [
    {
     "name": "stdout",
     "output_type": "stream",
     "text": [
      "2\n",
      "1\n",
      "0\n",
      "0\n",
      "1\n",
      "0\n",
      "1\n",
      "0\n",
      "0\n",
      "1.0\n"
     ]
    },
    {
     "ename": "ZeroDivisionError",
     "evalue": "division by zero",
     "output_type": "error",
     "traceback": [
      "\u001b[0;31m---------------------------------------------------------------------------\u001b[0m",
      "\u001b[0;31mZeroDivisionError\u001b[0m                         Traceback (most recent call last)",
      "\u001b[0;32m<ipython-input-15-1d49c386c869>\u001b[0m in \u001b[0;36m<module>\u001b[0;34m\u001b[0m\n\u001b[1;32m      9\u001b[0m \u001b[0mprint\u001b[0m\u001b[0;34m(\u001b[0m\u001b[0;32mFalse\u001b[0m \u001b[0;34m*\u001b[0m \u001b[0;32mFalse\u001b[0m\u001b[0;34m)\u001b[0m\u001b[0;34m\u001b[0m\u001b[0;34m\u001b[0m\u001b[0m\n\u001b[1;32m     10\u001b[0m \u001b[0mprint\u001b[0m\u001b[0;34m(\u001b[0m\u001b[0;32mTrue\u001b[0m \u001b[0;34m/\u001b[0m \u001b[0;32mTrue\u001b[0m\u001b[0;34m)\u001b[0m\u001b[0;34m\u001b[0m\u001b[0;34m\u001b[0m\u001b[0m\n\u001b[0;32m---> 11\u001b[0;31m \u001b[0mprint\u001b[0m\u001b[0;34m(\u001b[0m\u001b[0;32mTrue\u001b[0m \u001b[0;34m/\u001b[0m \u001b[0;32mFalse\u001b[0m\u001b[0;34m)\u001b[0m\u001b[0;34m\u001b[0m\u001b[0;34m\u001b[0m\u001b[0m\n\u001b[0m\u001b[1;32m     12\u001b[0m \u001b[0mprint\u001b[0m\u001b[0;34m(\u001b[0m\u001b[0;32mFalse\u001b[0m \u001b[0;34m/\u001b[0m \u001b[0;32mFalse\u001b[0m\u001b[0;34m)\u001b[0m\u001b[0;34m\u001b[0m\u001b[0;34m\u001b[0m\u001b[0m\n",
      "\u001b[0;31mZeroDivisionError\u001b[0m: division by zero"
     ]
    }
   ],
   "source": [
    "print(True + True)\n",
    "print(True + False)\n",
    "print(False + False)\n",
    "print(True - True)\n",
    "print(True - False)\n",
    "print(False - False)\n",
    "print(True * True)\n",
    "print(True * False)\n",
    "print(False * False)\n",
    "print(True / True)\n",
    "print(True / False)\n",
    "print(False / False)"
   ]
  },
  {
   "cell_type": "markdown",
   "metadata": {},
   "source": [
    "**Ejercicio 2**: Hacer una estructur `if/else` que compare dos variables numéricas `A` y `B` y que decida cuál es mayor e imprima en pantalla \"A es mayor que B\" o \"B es mayor que A\" . "
   ]
  },
  {
   "cell_type": "code",
   "execution_count": 16,
   "metadata": {},
   "outputs": [
    {
     "name": "stdout",
     "output_type": "stream",
     "text": [
      "B es mayor a A\n"
     ]
    }
   ],
   "source": [
    "A = 3\n",
    "B = 4\n",
    "if A>B :\n",
    "    print('A es mayor a B' )\n",
    "else:\n",
    "    print('B es mayor a A')"
   ]
  },
  {
   "cell_type": "markdown",
   "metadata": {},
   "source": [
    "**Ejercicio 3 - Challenge**: Dada la siguiente lista de numeros:"
   ]
  },
  {
   "cell_type": "code",
   "execution_count": 21,
   "metadata": {},
   "outputs": [],
   "source": [
    "import time"
   ]
  },
  {
   "cell_type": "code",
   "execution_count": 26,
   "metadata": {
    "colab": {},
    "colab_type": "code",
    "id": "nixTh2uwPBQQ",
    "outputId": "e672c504-2e87-4152-81ce-c628698ef2f0"
   },
   "outputs": [],
   "source": [
    "numeros = [4,5,1,3,5,7,8,1,3,4,1,7,8,1,3,4,5,2,1,2,4,5] * 100000000\n",
    "nums = np.array(numeros)"
   ]
  },
  {
   "cell_type": "markdown",
   "metadata": {
    "colab_type": "text",
    "id": "XLWP4dKfPBQS"
   },
   "source": [
    "Escribir una rutina que calcule la suma de los números **pares menores que 5** en esta lista. **Pistas:** \n",
    "* Hay muchas formas de hacerlo, si piensas en más de una, mejor. Pero trata de tomar los ejemplos que vimos en este notebook.\n",
    "* El resultado es 20. \n",
    "* Recuerda que puedes inicializar una variable en cero, y luego ir modificándola en un loop. Hicimos algo así en el notebook de la bitácora anterior con una variable que llamamos `i` y en el ejercicio 5 del mismo notebook."
   ]
  },
  {
   "cell_type": "code",
   "execution_count": 24,
   "metadata": {},
   "outputs": [
    {
     "name": "stdout",
     "output_type": "stream",
     "text": [
      "200000000\n",
      "tiempo de ejecución: 21.20628833770752\n"
     ]
    }
   ],
   "source": [
    "start = time.time()\n",
    "\n",
    "suma = 0\n",
    "for numero in numeros:\n",
    "    if numero < 5 and numero % 2 == 0:\n",
    "        suma = suma + numero\n",
    "print(suma)\n",
    "\n",
    "end = time.time()\n",
    "print(f'tiempo de ejecución: {end - start}')"
   ]
  },
  {
   "cell_type": "code",
   "execution_count": 20,
   "metadata": {},
   "outputs": [
    {
     "name": "stdout",
     "output_type": "stream",
     "text": [
      "20000000\n",
      "tiempo de ejecución: 2.0601370334625244\n"
     ]
    }
   ],
   "source": [
    "start = time.time()\n",
    "\n",
    "suma = 0\n",
    "for numero in numeros:\n",
    "    if numero < 5 and not numero % 2:\n",
    "        suma += numero\n",
    "print(suma)\n",
    "\n",
    "end = time.time()\n",
    "print(f'tiempo de ejecución: {end - start}')"
   ]
  },
  {
   "cell_type": "code",
   "execution_count": 21,
   "metadata": {},
   "outputs": [
    {
     "name": "stdout",
     "output_type": "stream",
     "text": [
      "20000000\n",
      "tiempo de ejecución: 2.225005865097046\n"
     ]
    }
   ],
   "source": [
    "start = time.time()\n",
    "\n",
    "suma = sum(filter(lambda x: x < 5 and not x % 2, numeros))\n",
    "print(suma)\n",
    "\n",
    "end = time.time()\n",
    "print(f'tiempo de ejecución: {end - start}')"
   ]
  },
  {
   "cell_type": "code",
   "execution_count": 25,
   "metadata": {},
   "outputs": [
    {
     "name": "stdout",
     "output_type": "stream",
     "text": [
      "200000000\n",
      "tiempo de ejecución: 5.291609048843384\n"
     ]
    }
   ],
   "source": [
    "start = time.time()\n",
    "\n",
    "numeros = [4,5,1,3,5,7,8,1,3,4,1,7,8,1,3,4,5,2,1,2,4,5] * 100000000\n",
    "nums = np.array(numeros)\n",
    "suma = np.extract((nums < 5) &  ~(nums % 2), nums).sum()\n",
    "print(suma)\n",
    "\n",
    "end = time.time()\n",
    "print(f'tiempo de ejecución: {end - start}')"
   ]
  },
  {
   "cell_type": "code",
   "execution_count": 27,
   "metadata": {},
   "outputs": [
    {
     "name": "stdout",
     "output_type": "stream",
     "text": [
      "tiempo de ejecución: 862.5959858894348\n"
     ]
    }
   ],
   "source": [
    "start = time.time()\n",
    "\n",
    "elevado = list()\n",
    "for numero in numeros:\n",
    "    elevado.append(numero ** 2)\n",
    "#print(elevado)\n",
    "\n",
    "end = time.time()\n",
    "print(f'tiempo de ejecución: {end - start}')"
   ]
  },
  {
   "cell_type": "code",
   "execution_count": 28,
   "metadata": {},
   "outputs": [
    {
     "name": "stdout",
     "output_type": "stream",
     "text": [
      "tiempo de ejecución: 124.51768708229065\n"
     ]
    }
   ],
   "source": [
    "start = time.time()\n",
    "\n",
    "elevado = np.power(nums, 2)\n",
    "#print(elevado)\n",
    "\n",
    "end = time.time()\n",
    "print(f'tiempo de ejecución: {end - start}')"
   ]
  },
  {
   "cell_type": "code",
   "execution_count": 29,
   "metadata": {},
   "outputs": [
    {
     "name": "stdout",
     "output_type": "stream",
     "text": [
      "tiempo de ejecución: 68.23077201843262\n"
     ]
    }
   ],
   "source": [
    "start = time.time()\n",
    "\n",
    "elevado = nums ** 2\n",
    "#print(elevado)\n",
    "\n",
    "end = time.time()\n",
    "print(f'tiempo de ejecución: {end - start}')"
   ]
  },
  {
   "cell_type": "markdown",
   "metadata": {},
   "source": [
    "**Ejercicio 4 - Challenge Opcional**: Dada la siguiente lista de numeros:"
   ]
  },
  {
   "cell_type": "code",
   "execution_count": 1,
   "metadata": {
    "colab": {},
    "colab_type": "code",
    "id": "nixTh2uwPBQQ",
    "outputId": "e672c504-2e87-4152-81ce-c628698ef2f0"
   },
   "outputs": [
    {
     "name": "stdout",
     "output_type": "stream",
     "text": [
      "['2', '3', '2', '3', '2', '2', '2', '2', '3', '2', '3', '1', '3', '1', '2', '2', '2', '2', '2', '2', '2', '2', '1', '2', '3', '2', '2', '2', '2', '1', '2', '3', '2', '2', '3', '2', '3', '3', '2', '2', '1', '3', '3', '2', '3', '2', '2', '1', '2', '1', '1', '2', '2', '3', '2', '2', '2', '3', '2', '2', '2', '1', '2', '2', '3', '2', '2', '2', '2', '1', '2', '2', '2', '2', '3', '1', '2', '3', '3', '2', '3', '2', '2', '3', '3', '1', '1', '3', '2', '1', '2', '2', '2', '1', '1', '2', '2', '2', '2', '2', '2', '2', '3', '3', '1', '3', '3', '3', '2', '2', '2', '2', '2', '2', '2', '3', '3', '2', '2', '3', '2', '2', '2', '2', '2', '3', '3', '2', '2', '1', '3', '2', '2', '2', '3', '2', '3', '1', '3', '3', '2', '3', '3', '2', '2', '2', '2', '2', '2', '1', '2', '2', '1', '2', '3', '2', '1', '3', '1', '2', '3', '3', '3', '2', '3', '1', '3', '2', '3', '1', '2', '2', '2', '3', '3', '2', '2', '2', '2', '2', '3', '1', '2', '3', '3', '2', '2', '3', '2', '2', '2', '3', '2', '2', '2', '2', '1', '2', '3', '1', '3', '2', '2', '3', '3', '3', '2', '2', '1', '1']\n"
     ]
    }
   ],
   "source": [
    "numeros_en_texto = ['2', '3', '2', '3', '2', '2', '2', '2', '3', '2', '3', '1', '3', '1', '2', '2', '2', '2', '2', '2', '2', '2', '1', '2', '3', '2', '2', '2', '2', '1', '2', '3', '2', '2', '3', '2', '3', '3', '2', '2', '1', '3', '3', '2', '3', '2', '2', '1', '2', '1', '1', '2', '2', '3', '2', '2', '2', '3', '2', '2', '2', '1', '2', '2', '3', '2', '2', '2', '2', '1', '2', '2', '2', '2', '3', '1', '2', '3', '3', '2', '3', '2', '2', '3', '3', '1', '1', '3', '2', '1', '2', '2', '2', '1', '1', '2', '2', '2', '2', '2', '2', '2', '3', '3', '1', '3', '3', '3', '2', '2', '2', '2', '2', '2', '2', '3', '3', '2', '2', '3', '2', '2', '2', '2', '2', '3', '3', '2', '2', '1', '3', '2', '2', '2', '3', '2', '3', '1', '3', '3', '2', '3', '3', '2', '2', '2', '2', '2', '2', '1', '2', '2', '1', '2', '3', '2', '1', '3', '1', '2', '3', '3', '3', '2', '3', '1', '3', '2', '3', '1', '2', '2', '2', '3', '3', '2', '2', '2', '2', '2', '3', '1', '2', '3', '3', '2', '2', '3', '2', '2', '2', '3', '2', '2', '2', '2', '1', '2', '3', '1', '3', '2', '2', '3', '3', '3', '2', '2', '1', '1']\n",
    "print(numeros_en_texto)"
   ]
  },
  {
   "cell_type": "markdown",
   "metadata": {
    "colab_type": "text",
    "id": "XLWP4dKfPBQS"
   },
   "source": [
    "Calcule la suma de los unos (1) y los tres (3) en esta lista. Nuevamente, hay muchas formas de hacerlo. **Pistas:** \n",
    "* El resultado es 210.\n",
    "* Puede reciclar código de ejemplos anteriores y del ejercicio anterior.\n",
    "* Se pueden comparar strings, ver ejemplo más arriba.\n",
    "* También se pueden forzar tipos de datos. Por ejemplo, `int('4')` nos devuelve un 4, entero.\n",
    "* Se puede resolver sin usar todas las pistas"
   ]
  },
  {
   "cell_type": "code",
   "execution_count": 4,
   "metadata": {},
   "outputs": [
    {
     "name": "stdout",
     "output_type": "stream",
     "text": [
      "210\n"
     ]
    }
   ],
   "source": [
    "### Les dejamos una de las formas mas compactas\n",
    "suma = 0\n",
    "for numero in numeros_en_texto:\n",
    "    if numero == '1' or numero == '3':\n",
    "        suma+=int(numero) # es equivalente suma = suma + numero\n",
    "    \n",
    "print(suma)"
   ]
  },
  {
   "cell_type": "markdown",
   "metadata": {
    "slideshow": {
     "slide_type": "slide"
    }
   },
   "source": [
    "## 2. Numpy\n",
    "\n",
    "Empezaremos a dar nuestros primeros pasos con NumPy. Es muy importante que googlees y consultes la documentación. Si no la instalaste, ahora es un buen momento.\n",
    "\n",
    "Cuando queremos usar una librería, primero debemos importarla. Más adelante veremos qué significa importar una librería, pero podemos entenderlo como que es un aviso a Python de que vamos a incorporar nuevas funcionalidades; en este caso, desde NumPy."
   ]
  },
  {
   "cell_type": "code",
   "execution_count": 6,
   "metadata": {},
   "outputs": [],
   "source": [
    "import numpy as np"
   ]
  },
  {
   "cell_type": "markdown",
   "metadata": {},
   "source": [
    "Ahora nuestro ambiente de trabajo sabe que si ponemos algo del estilo `np.` significa que esa funcionalidad la debe buscar en NumPy. **Importante:** Si la librería NO se instaló correctamente, te saltará un mensaje de error.\n",
    "\n",
    "El principal tipo de dato sobre el que trabaja NumPy son los arreglos o arrays. Los arreglos son parecidos a listas y, de hecho, se pueden crear a partir de ellas."
   ]
  },
  {
   "cell_type": "code",
   "execution_count": 7,
   "metadata": {},
   "outputs": [
    {
     "name": "stdout",
     "output_type": "stream",
     "text": [
      "[0, 1, 2, 3, 4, 5]\n",
      "[0 1 2 3 4 5]\n"
     ]
    }
   ],
   "source": [
    "lista = [0,1,2,3,4,5]\n",
    "arreglo = np.array(lista)\n",
    "print(lista)\n",
    "print(arreglo)"
   ]
  },
  {
   "cell_type": "markdown",
   "metadata": {},
   "source": [
    "Pero son más que una lista. Algunas cosas que no se podían hacer con las listas ahora sí se pueden con arreglos. Recordemos que sumarle un número a toda la lista no estaba permitido"
   ]
  },
  {
   "cell_type": "code",
   "execution_count": 13,
   "metadata": {},
   "outputs": [
    {
     "data": {
      "text/plain": [
       "[0,\n",
       " 1,\n",
       " 2,\n",
       " 3,\n",
       " 4,\n",
       " 5,\n",
       " 0,\n",
       " 1,\n",
       " 2,\n",
       " 3,\n",
       " 4,\n",
       " 5,\n",
       " 0,\n",
       " 1,\n",
       " 2,\n",
       " 3,\n",
       " 4,\n",
       " 5,\n",
       " 0,\n",
       " 1,\n",
       " 2,\n",
       " 3,\n",
       " 4,\n",
       " 5,\n",
       " 0,\n",
       " 1,\n",
       " 2,\n",
       " 3,\n",
       " 4,\n",
       " 5]"
      ]
     },
     "execution_count": 13,
     "metadata": {},
     "output_type": "execute_result"
    }
   ],
   "source": [
    "lista * 5"
   ]
  },
  {
   "cell_type": "markdown",
   "metadata": {},
   "source": [
    "¡Pero ahora con los arreglos sí!"
   ]
  },
  {
   "cell_type": "code",
   "execution_count": 14,
   "metadata": {},
   "outputs": [
    {
     "data": {
      "text/plain": [
       "array([ 0,  5, 10, 15, 20, 25])"
      ]
     },
     "execution_count": 14,
     "metadata": {},
     "output_type": "execute_result"
    }
   ],
   "source": [
    "arreglo * 5"
   ]
  },
  {
   "cell_type": "markdown",
   "metadata": {},
   "source": [
    "Esto simplifica mucho hacer cuéntas. Pero no es sólo sumar, también muchas otras operaciones:"
   ]
  },
  {
   "cell_type": "code",
   "execution_count": 17,
   "metadata": {},
   "outputs": [
    {
     "name": "stdout",
     "output_type": "stream",
     "text": [
      "[-5 -4 -3 -2 -1  0]\n",
      "[-2 -1  0  1  2  3]\n",
      "[ 0  4  8 12 16 20]\n",
      "[ 0  1  4  9 16 25]\n"
     ]
    }
   ],
   "source": [
    "print(arreglo - 5)\n",
    "print(arreglo - 2)\n",
    "print(arreglo * 4)\n",
    "print(arreglo ** 2)"
   ]
  },
  {
   "cell_type": "code",
   "execution_count": 18,
   "metadata": {},
   "outputs": [
    {
     "data": {
      "text/plain": [
       "array([ 0,  1,  4,  9, 16, 25])"
      ]
     },
     "execution_count": 18,
     "metadata": {},
     "output_type": "execute_result"
    }
   ],
   "source": [
    "np.power(arreglo, 2)"
   ]
  },
  {
   "cell_type": "markdown",
   "metadata": {},
   "source": [
    "Comprobar que, salvo la multiplicación, ninguno estaba permitido en listas. ¿Qué hace la multiplicación en el caso de una lista?"
   ]
  },
  {
   "cell_type": "markdown",
   "metadata": {},
   "source": [
    "### 2.1 Creación de arreglos"
   ]
  },
  {
   "cell_type": "markdown",
   "metadata": {},
   "source": [
    "Si bien podemos crear arreglos a partir de listas, NumPy viene con muchas funciones para hacerlo. Veamos algunas.\n",
    "\n",
    "Una muy utilizada es `np.arange()`. Consulta su documentación. Otra opción es que, en una celda de código, escribas `np.arange` y aprietes `shift` + `tab`. De esa forma, te aparecerá la ayuda.\n",
    "\n",
    "Juega un poco con el ejemplo a continuación."
   ]
  },
  {
   "cell_type": "code",
   "execution_count": 28,
   "metadata": {},
   "outputs": [
    {
     "name": "stdout",
     "output_type": "stream",
     "text": [
      "[ 3  5  7  9 11 13 15 17 19]\n"
     ]
    }
   ],
   "source": [
    "arreglo = np.arange(3,20,2)\n",
    "print(arreglo)"
   ]
  },
  {
   "cell_type": "code",
   "execution_count": 111,
   "metadata": {},
   "outputs": [
    {
     "data": {
      "text/plain": [
       "[1, 2, 3, 4, 5, 6, 7, 8, 9]"
      ]
     },
     "execution_count": 111,
     "metadata": {},
     "output_type": "execute_result"
    }
   ],
   "source": [
    "list(range(1,10,1))"
   ]
  },
  {
   "cell_type": "code",
   "execution_count": 112,
   "metadata": {},
   "outputs": [
    {
     "data": {
      "text/plain": [
       "array([1, 2, 3, 4, 5, 6, 7, 8, 9])"
      ]
     },
     "execution_count": 112,
     "metadata": {},
     "output_type": "execute_result"
    }
   ],
   "source": [
    "np.arange(1,10,1)"
   ]
  },
  {
   "cell_type": "markdown",
   "metadata": {},
   "source": [
    "**Ejercicio:** investiga y crea ejemplos con las siguientes funciones\n",
    "* `np.linspace`. Presta particular atención a cómo se diferencia de `np.arange`.\n",
    "* `np.zeros` y `np.ones`.\n",
    "\n",
    "### 2.2 Shape de los arreglos\n",
    "\n",
    "Los arreglos tienen muchos más propiedades que las listas. En particular, pueden tener más de un *eje* o dimensión. Veamos a qué nos referimos:"
   ]
  },
  {
   "cell_type": "code",
   "execution_count": 29,
   "metadata": {},
   "outputs": [
    {
     "name": "stdout",
     "output_type": "stream",
     "text": [
      "[[1 2 3 4]\n",
      " [5 6 7 8]]\n"
     ]
    }
   ],
   "source": [
    "arreglo_2d = np.array([[1,2,3,4],[5,6,7,8]])\n",
    "print(arreglo_2d)"
   ]
  },
  {
   "cell_type": "markdown",
   "metadata": {},
   "source": [
    "Notar que tiene dos filas y cuatro columnas. Podemos descubrir esto sin imprimirlo en pantalla, sino usando la propiedad `.shape` del arreglo."
   ]
  },
  {
   "cell_type": "code",
   "execution_count": 30,
   "metadata": {},
   "outputs": [
    {
     "name": "stdout",
     "output_type": "stream",
     "text": [
      "(2, 4)\n"
     ]
    }
   ],
   "source": [
    "print(arreglo_2d.shape)"
   ]
  },
  {
   "cell_type": "markdown",
   "metadata": {},
   "source": [
    "Primero aparece el número de filas y luego el de columnas. ¿Qué estructura de dato es `(2, 4)`? Otro ejemplo:"
   ]
  },
  {
   "cell_type": "code",
   "execution_count": 31,
   "metadata": {},
   "outputs": [
    {
     "name": "stdout",
     "output_type": "stream",
     "text": [
      "[[1 2]\n",
      " [3 4]\n",
      " [5 6]\n",
      " [7 8]]\n",
      "(4, 2)\n"
     ]
    }
   ],
   "source": [
    "arreglo_2d = np.array([[1,2],[3,4],[5,6],[7,8]])\n",
    "print(arreglo_2d)\n",
    "print(arreglo_2d.shape)"
   ]
  },
  {
   "cell_type": "markdown",
   "metadata": {},
   "source": [
    "Si queremos saber cuántos elementos tiene, podemos usar `.size`"
   ]
  },
  {
   "cell_type": "code",
   "execution_count": 32,
   "metadata": {},
   "outputs": [
    {
     "name": "stdout",
     "output_type": "stream",
     "text": [
      "8\n"
     ]
    }
   ],
   "source": [
    "print(arreglo_2d.size)"
   ]
  },
  {
   "cell_type": "markdown",
   "metadata": {},
   "source": [
    "### 2.3 Funciones que operan sobre arreglos\n",
    "\n",
    "Los arreglos de NumPy incorporan un montón de funciones que operan sobre los arreglos. Veamos algunos ejemplos."
   ]
  },
  {
   "cell_type": "code",
   "execution_count": 33,
   "metadata": {},
   "outputs": [
    {
     "name": "stdout",
     "output_type": "stream",
     "text": [
      "-100\n",
      "95\n"
     ]
    }
   ],
   "source": [
    "un_arreglo = np.array([-100,2,3,17,25,1,95])\n",
    "print(un_arreglo.min())\n",
    "print(un_arreglo.max())"
   ]
  },
  {
   "cell_type": "markdown",
   "metadata": {},
   "source": [
    "En el caso 2D, podemos pedir que estas funciones operen sobre todo el arreglo, o por ejes.\n",
    "\n"
   ]
  },
  {
   "cell_type": "code",
   "execution_count": 57,
   "metadata": {},
   "outputs": [
    {
     "name": "stdout",
     "output_type": "stream",
     "text": [
      "[[4 7 5]\n",
      " [1 0 8]\n",
      " [2 3 6]]\n"
     ]
    }
   ],
   "source": [
    "# No te preocupes si no entiendes lo que hace esta celda\n",
    "arreglo_2d = np.arange(9)\n",
    "np.random.shuffle(arreglo_2d)\n",
    "arreglo_2d = arreglo_2d.reshape((3,3))\n",
    "print(arreglo_2d)"
   ]
  },
  {
   "cell_type": "markdown",
   "metadata": {},
   "source": [
    "Trata de entender la diferencia entre las siguientes instrucciones:"
   ]
  },
  {
   "cell_type": "code",
   "execution_count": 58,
   "metadata": {},
   "outputs": [
    {
     "name": "stdout",
     "output_type": "stream",
     "text": [
      "8\n",
      "[4 7 8]\n",
      "[7 8 6]\n"
     ]
    }
   ],
   "source": [
    "print(arreglo_2d.max())\n",
    "print(arreglo_2d.max(axis = 0))\n",
    "print(arreglo_2d.max(axis = 1))"
   ]
  },
  {
   "cell_type": "markdown",
   "metadata": {},
   "source": [
    "### Últimos comentarios\n",
    "\n",
    "* No dijimos nada sobre indexado ni slicing. Esto se debe a que, para arreglos 1D, es similar que para la listas. Para arreglos 2D, es apenas más complicado. Para estudiarlo, jugar con la siguiente celda:"
   ]
  },
  {
   "cell_type": "code",
   "execution_count": 61,
   "metadata": {},
   "outputs": [
    {
     "name": "stdout",
     "output_type": "stream",
     "text": [
      "[[0 1 2]\n",
      " [3 4 5]\n",
      " [6 7 8]]\n",
      "[3 4 5]\n"
     ]
    }
   ],
   "source": [
    "arreglo_2d = np.arange(9).reshape(3,3)\n",
    "print(arreglo_2d)\n",
    "print(arreglo_2d[1,:])"
   ]
  },
  {
   "cell_type": "markdown",
   "metadata": {},
   "source": [
    "* Podemos usar `arreglo.max()` o `np.max(arreglo)`. Esto no es válido solamente para la función `max()`, sino también para casi todas las funciones que operen sobre arreglos. "
   ]
  },
  {
   "cell_type": "code",
   "execution_count": 62,
   "metadata": {},
   "outputs": [
    {
     "name": "stdout",
     "output_type": "stream",
     "text": [
      "-100 -100\n"
     ]
    }
   ],
   "source": [
    "print(np.min(un_arreglo), un_arreglo.min())"
   ]
  },
  {
   "cell_type": "markdown",
   "metadata": {},
   "source": [
    "Existe mucho más - realmente mucho más - para decir sobre NumPy. Pero mucho irá apareciendo a medida que lo vayamos necesitando. Y, además, ¡este notebook ya es muy largo!\n",
    "\n",
    "### Ejercitación\n",
    "\n",
    "**Ejercicio 1**: Escribir un arreglo con 100 números equiespaciados del 0 al 9. Pista: `linspace`"
   ]
  },
  {
   "cell_type": "code",
   "execution_count": 63,
   "metadata": {},
   "outputs": [
    {
     "name": "stdout",
     "output_type": "stream",
     "text": [
      "[0.         0.09090909 0.18181818 0.27272727 0.36363636 0.45454545\n",
      " 0.54545455 0.63636364 0.72727273 0.81818182 0.90909091 1.\n",
      " 1.09090909 1.18181818 1.27272727 1.36363636 1.45454545 1.54545455\n",
      " 1.63636364 1.72727273 1.81818182 1.90909091 2.         2.09090909\n",
      " 2.18181818 2.27272727 2.36363636 2.45454545 2.54545455 2.63636364\n",
      " 2.72727273 2.81818182 2.90909091 3.         3.09090909 3.18181818\n",
      " 3.27272727 3.36363636 3.45454545 3.54545455 3.63636364 3.72727273\n",
      " 3.81818182 3.90909091 4.         4.09090909 4.18181818 4.27272727\n",
      " 4.36363636 4.45454545 4.54545455 4.63636364 4.72727273 4.81818182\n",
      " 4.90909091 5.         5.09090909 5.18181818 5.27272727 5.36363636\n",
      " 5.45454545 5.54545455 5.63636364 5.72727273 5.81818182 5.90909091\n",
      " 6.         6.09090909 6.18181818 6.27272727 6.36363636 6.45454545\n",
      " 6.54545455 6.63636364 6.72727273 6.81818182 6.90909091 7.\n",
      " 7.09090909 7.18181818 7.27272727 7.36363636 7.45454545 7.54545455\n",
      " 7.63636364 7.72727273 7.81818182 7.90909091 8.         8.09090909\n",
      " 8.18181818 8.27272727 8.36363636 8.45454545 8.54545455 8.63636364\n",
      " 8.72727273 8.81818182 8.90909091 9.        ]\n"
     ]
    }
   ],
   "source": [
    "arreglo = np.linspace(0,9,100)\n",
    "print(arreglo)"
   ]
  },
  {
   "cell_type": "markdown",
   "metadata": {},
   "source": [
    "**Ejercicio 2:** crear un arreglo 1D de 20 ceros. Reemplazar los primeros 15 elementos por unos."
   ]
  },
  {
   "cell_type": "code",
   "execution_count": 21,
   "metadata": {},
   "outputs": [
    {
     "name": "stdout",
     "output_type": "stream",
     "text": [
      "[1. 1. 1. 1. 1. 1. 1. 1. 1. 1. 1. 1. 1. 1. 1. 0. 0. 0. 0. 0.]\n"
     ]
    }
   ],
   "source": [
    "arreglo = np.zeros(20)\n",
    "arreglo[:15] = 1\n",
    "print(arreglo)"
   ]
  },
  {
   "cell_type": "code",
   "execution_count": 39,
   "metadata": {},
   "outputs": [],
   "source": [
    "arreglo = np.array([0] * 20)"
   ]
  },
  {
   "cell_type": "code",
   "execution_count": 33,
   "metadata": {},
   "outputs": [],
   "source": [
    "arreglo[:15] = 1"
   ]
  },
  {
   "cell_type": "code",
   "execution_count": 42,
   "metadata": {},
   "outputs": [
    {
     "ename": "ValueError",
     "evalue": "cannot reshape array of size 20 into shape (100,2)",
     "output_type": "error",
     "traceback": [
      "\u001b[0;31m---------------------------------------------------------------------------\u001b[0m",
      "\u001b[0;31mValueError\u001b[0m                                Traceback (most recent call last)",
      "\u001b[0;32m<ipython-input-42-88b7a0d4afb6>\u001b[0m in \u001b[0;36m<module>\u001b[0;34m\u001b[0m\n\u001b[0;32m----> 1\u001b[0;31m \u001b[0marreglo\u001b[0m\u001b[0;34m.\u001b[0m\u001b[0mreshape\u001b[0m\u001b[0;34m(\u001b[0m\u001b[0;36m100\u001b[0m\u001b[0;34m,\u001b[0m\u001b[0;36m2\u001b[0m\u001b[0;34m)\u001b[0m\u001b[0;34m\u001b[0m\u001b[0;34m\u001b[0m\u001b[0m\n\u001b[0m",
      "\u001b[0;31mValueError\u001b[0m: cannot reshape array of size 20 into shape (100,2)"
     ]
    }
   ],
   "source": [
    "arreglo.reshape(100,2)"
   ]
  },
  {
   "cell_type": "code",
   "execution_count": 36,
   "metadata": {},
   "outputs": [
    {
     "data": {
      "text/plain": [
       "array([1, 1, 1, 1, 1, 1, 1, 1, 1, 1, 1, 1, 1, 1, 1, 0, 0, 0, 0, 0])"
      ]
     },
     "execution_count": 36,
     "metadata": {},
     "output_type": "execute_result"
    }
   ],
   "source": [
    "arreglo[:]"
   ]
  },
  {
   "cell_type": "code",
   "execution_count": 37,
   "metadata": {},
   "outputs": [],
   "source": [
    "arreglo = 10"
   ]
  },
  {
   "cell_type": "code",
   "execution_count": 40,
   "metadata": {},
   "outputs": [],
   "source": [
    "arreglo[:] = 10"
   ]
  },
  {
   "cell_type": "code",
   "execution_count": 41,
   "metadata": {},
   "outputs": [
    {
     "data": {
      "text/plain": [
       "array([10, 10, 10, 10, 10, 10, 10, 10, 10, 10, 10, 10, 10, 10, 10, 10, 10,\n",
       "       10, 10, 10])"
      ]
     },
     "execution_count": 41,
     "metadata": {},
     "output_type": "execute_result"
    }
   ],
   "source": [
    "arreglo"
   ]
  },
  {
   "cell_type": "markdown",
   "metadata": {},
   "source": [
    "**Ejercicio 3:** crear un arreglo 1D de 50 ceros. Reemplazar los primeros 25 elementos por los números naturales del 0 al 24."
   ]
  },
  {
   "cell_type": "code",
   "execution_count": 22,
   "metadata": {},
   "outputs": [
    {
     "name": "stdout",
     "output_type": "stream",
     "text": [
      "[ 0.  1.  2.  3.  4.  5.  6.  7.  8.  9. 10. 11. 12. 13. 14. 15. 16. 17.\n",
      " 18. 19. 20. 21. 22. 23. 24.  0.  0.  0.  0.  0.  0.  0.  0.  0.  0.  0.\n",
      "  0.  0.  0.  0.  0.  0.  0.  0.  0.  0.  0.  0.  0.  0.]\n"
     ]
    }
   ],
   "source": [
    "arreglo = np.zeros(50)\n",
    "arreglo[:25] = np.arange(25)\n",
    "print(arreglo)"
   ]
  },
  {
   "cell_type": "markdown",
   "metadata": {},
   "source": [
    "**Ejercicio 4:** crear un arreglo 2D de 3 filas y 3 columnas, lleno de ceros. Reemplazar los elemento de la segunda columna por los números 1, 2 y 3 respectivamente. Es decir, crear la siguiente matriz:\n",
    "\n",
    "```\n",
    "0 1 0 \n",
    "0 2 0\n",
    "0 3 0\n",
    "```"
   ]
  },
  {
   "cell_type": "code",
   "execution_count": 1,
   "metadata": {},
   "outputs": [],
   "source": [
    "import numpy as np"
   ]
  },
  {
   "cell_type": "code",
   "execution_count": 3,
   "metadata": {},
   "outputs": [
    {
     "name": "stdout",
     "output_type": "stream",
     "text": [
      "[[0. 1. 0.]\n",
      " [0. 2. 0.]\n",
      " [0. 3. 0.]]\n"
     ]
    }
   ],
   "source": [
    "arreglo = np.zeros((3,3))\n",
    "arreglo[:,1] = np.arange(1,4)\n",
    "print(arreglo)"
   ]
  },
  {
   "cell_type": "code",
   "execution_count": 5,
   "metadata": {},
   "outputs": [
    {
     "name": "stdout",
     "output_type": "stream",
     "text": [
      "[[0. 1. 0.]\n",
      " [0. 2. 0.]\n",
      " [0. 3. 0.]]\n"
     ]
    }
   ],
   "source": [
    "arreglo = np.zeros(9)\n",
    "arreglo = arreglo.reshape(3,3)\n",
    "arreglo[:, 1] = np.arange(1,4)\n",
    "print(arreglo)"
   ]
  },
  {
   "cell_type": "code",
   "execution_count": 7,
   "metadata": {},
   "outputs": [
    {
     "data": {
      "text/plain": [
       "array([[1., 0., 0., ..., 0., 0., 0.],\n",
       "       [0., 1., 0., ..., 0., 0., 0.],\n",
       "       [0., 0., 1., ..., 0., 0., 0.],\n",
       "       ...,\n",
       "       [0., 0., 0., ..., 1., 0., 0.],\n",
       "       [0., 0., 0., ..., 0., 1., 0.],\n",
       "       [0., 0., 0., ..., 0., 0., 1.]])"
      ]
     },
     "execution_count": 7,
     "metadata": {},
     "output_type": "execute_result"
    }
   ],
   "source": [
    "np.eye(100)"
   ]
  },
  {
   "cell_type": "code",
   "execution_count": null,
   "metadata": {},
   "outputs": [],
   "source": [
    "print('a')"
   ]
  },
  {
   "cell_type": "markdown",
   "metadata": {},
   "source": [
    "**Ejercicio 5:** crear un arreglo 2D de 3 filas y 3 columnas, lleno de ceros. Reemplazar los elemento de la diagonal por unos. Es decir, crear la siguiente matriz:\n",
    "\n",
    "```\n",
    "1 0 0 \n",
    "0 1 0\n",
    "0 0 1\n",
    "```"
   ]
  },
  {
   "cell_type": "code",
   "execution_count": 25,
   "metadata": {},
   "outputs": [
    {
     "name": "stdout",
     "output_type": "stream",
     "text": [
      "[[1. 0. 0.]\n",
      " [0. 1. 0.]\n",
      " [0. 0. 1.]]\n"
     ]
    }
   ],
   "source": [
    "arreglo = np.zeros((3,3))\n",
    "arreglo[0,0] = 1\n",
    "arreglo[1,1] = 1\n",
    "arreglo[2,2] = 1\n",
    "\n",
    "print(arreglo)"
   ]
  },
  {
   "cell_type": "markdown",
   "metadata": {},
   "source": [
    "**Ejercicio 6:** crear un arreglo 2D de 100 filas y 100 columnas, lleno de ceros. Reemplazar los elemento de la diagonal por unos. Es decir, crear la siguiente matriz:\n",
    "\n",
    "```\n",
    "1 0 0 ... 0 0 0 \n",
    "0 1 0 ... 0 0 0\n",
    "0 0 1 ... 0 0 0\n",
    "...  \n",
    "0 0 0 ... 1 0 0\n",
    "0 0 0 ... 0 1 0\n",
    "0 0 0 ... 0 0 1\n",
    "```"
   ]
  },
  {
   "cell_type": "code",
   "execution_count": 16,
   "metadata": {
    "scrolled": true
   },
   "outputs": [
    {
     "name": "stdout",
     "output_type": "stream",
     "text": [
      "[[   1.    0.    0. ...    0.    0.    0.]\n",
      " [   0.    2. 1000. ...    0.    0.    0.]\n",
      " [   0.    0.    3. ...    0.    0.    0.]\n",
      " ...\n",
      " [   0.    0.    0. ...   98.    0.    0.]\n",
      " [   0.    0.    0. ...    0.   99.    0.]\n",
      " [   0.    0.    0. ...    0.    0.  100.]]\n"
     ]
    }
   ],
   "source": [
    "arreglo = np.zeros((100,100))\n",
    "diag = np.arange(1,101)\n",
    "for i in range(arreglo.shape[1]):\n",
    "    arreglo[i,i] = diag[i]\n",
    "\n",
    "arreglo[1,2] = 1000\n",
    "print(arreglo)"
   ]
  },
  {
   "cell_type": "code",
   "execution_count": 24,
   "metadata": {},
   "outputs": [],
   "source": [
    "d = np.diag(arreglo).copy()"
   ]
  },
  {
   "cell_type": "code",
   "execution_count": 25,
   "metadata": {},
   "outputs": [],
   "source": [
    "d[:] = 1"
   ]
  },
  {
   "cell_type": "code",
   "execution_count": 26,
   "metadata": {},
   "outputs": [
    {
     "data": {
      "text/plain": [
       "array([1., 1., 1., 1., 1., 1., 1., 1., 1., 1., 1., 1., 1., 1., 1., 1., 1.,\n",
       "       1., 1., 1., 1., 1., 1., 1., 1., 1., 1., 1., 1., 1., 1., 1., 1., 1.,\n",
       "       1., 1., 1., 1., 1., 1., 1., 1., 1., 1., 1., 1., 1., 1., 1., 1., 1.,\n",
       "       1., 1., 1., 1., 1., 1., 1., 1., 1., 1., 1., 1., 1., 1., 1., 1., 1.,\n",
       "       1., 1., 1., 1., 1., 1., 1., 1., 1., 1., 1., 1., 1., 1., 1., 1., 1.,\n",
       "       1., 1., 1., 1., 1., 1., 1., 1., 1., 1., 1., 1., 1., 1., 1.])"
      ]
     },
     "execution_count": 26,
     "metadata": {},
     "output_type": "execute_result"
    }
   ],
   "source": [
    "d"
   ]
  },
  {
   "cell_type": "code",
   "execution_count": 20,
   "metadata": {},
   "outputs": [],
   "source": [
    "diagonal = np.array([arreglo[i][i] for i in range(arreglo.shape[0])])"
   ]
  },
  {
   "cell_type": "code",
   "execution_count": 21,
   "metadata": {},
   "outputs": [
    {
     "data": {
      "text/plain": [
       "array([  1.,   2.,   3.,   4.,   5.,   6.,   7.,   8.,   9.,  10.,  11.,\n",
       "        12.,  13.,  14.,  15.,  16.,  17.,  18.,  19.,  20.,  21.,  22.,\n",
       "        23.,  24.,  25.,  26.,  27.,  28.,  29.,  30.,  31.,  32.,  33.,\n",
       "        34.,  35.,  36.,  37.,  38.,  39.,  40.,  41.,  42.,  43.,  44.,\n",
       "        45.,  46.,  47.,  48.,  49.,  50.,  51.,  52.,  53.,  54.,  55.,\n",
       "        56.,  57.,  58.,  59.,  60.,  61.,  62.,  63.,  64.,  65.,  66.,\n",
       "        67.,  68.,  69.,  70.,  71.,  72.,  73.,  74.,  75.,  76.,  77.,\n",
       "        78.,  79.,  80.,  81.,  82.,  83.,  84.,  85.,  86.,  87.,  88.,\n",
       "        89.,  90.,  91.,  92.,  93.,  94.,  95.,  96.,  97.,  98.,  99.,\n",
       "       100.])"
      ]
     },
     "execution_count": 21,
     "metadata": {},
     "output_type": "execute_result"
    }
   ],
   "source": [
    "diagonal"
   ]
  },
  {
   "cell_type": "markdown",
   "metadata": {},
   "source": [
    "**Extra:** ¿Qué tipo de dato está usando NumPy cuando crea los arreglos?¿Y si queremos cambiarle el tipo de dato, por ejemplo a `int`? Googlear \"numpy astype\". ¿Qué pasa si usamos `astype(bool)`?"
   ]
  },
  {
   "cell_type": "code",
   "execution_count": 114,
   "metadata": {},
   "outputs": [
    {
     "data": {
      "text/plain": [
       "{'__name__': '__main__',\n",
       " '__doc__': 'Automatically created module for IPython interactive environment',\n",
       " '__package__': None,\n",
       " '__loader__': None,\n",
       " '__spec__': None,\n",
       " '__builtin__': <module 'builtins' (built-in)>,\n",
       " '__builtins__': <module 'builtins' (built-in)>,\n",
       " '_ih': ['',\n",
       "  \"a = [1,2,'lala',True]\",\n",
       "  'import numpy as np',\n",
       "  'b = np.array(a)',\n",
       "  'b = np.array(a)',\n",
       "  'b',\n",
       "  'b + 1',\n",
       "  \"a = [1,2,'lala',True]\\naa = [1,2,3,4]\",\n",
       "  'b = np.array(a)',\n",
       "  'b',\n",
       "  'b + 1',\n",
       "  'b = np.array(a)\\nbb = np.array(aa)',\n",
       "  'b',\n",
       "  'b + 1',\n",
       "  'bb + 1',\n",
       "  'any(bb)',\n",
       "  'all(bb)',\n",
       "  'c = [1,0,1]',\n",
       "  'any(c)',\n",
       "  'all(c)',\n",
       "  'c = [True,False,True]',\n",
       "  'any(c)',\n",
       "  'all(c)',\n",
       "  'numeros = [4,5,1,3,5,7,8,1,3,4,1,7,8,1,3,4,5,2,1,2,4,5]',\n",
       "  'suma = 0\\nfor numero in numeros:\\n    if numero < 5 and numero%2 == 0:\\n        suma = suma + numero\\nprint(suma)',\n",
       "  'x % 2',\n",
       "  'x = 11\\nx % 2',\n",
       "  'x = 11\\nx % 2 == 0',\n",
       "  'x = 11\\nnot (x % 2)',\n",
       "  'x = 10\\nnot (x % 2)',\n",
       "  'x = 10\\nnot (x !% 2)',\n",
       "  'x = 10\\nnot (x % 2)',\n",
       "  'filter(lambda x: x < 5 and not x % 2,numeros)',\n",
       "  'sum(filter(lambda x: x < 5 and not x % 2,numeros))',\n",
       "  'sum(filter(lambda x: x < 5 and not x % 2, numeros))',\n",
       "  'import time',\n",
       "  'start = time.time()\\nsuma = 0\\nfor numero in numeros:\\n    if numero < 5 and numero%2 == 0:\\n        suma = suma + numero\\nprint(suma)\\nend = time.time()\\nprint(end - start)',\n",
       "  'start = time.time()\\nprint(sum(filter(lambda x: x < 5 and not x % 2, numeros)))\\nend = time.time()\\nprint(end - start)',\n",
       "  'start = time.time()\\nsuma = 0\\nfor numero in numeros:\\n    if numero < 5 and numero%2 == 0:\\n        suma = suma + numero\\nprint(suma)\\nend = time.time()\\nprint(end - start)',\n",
       "  'start = time.time()\\nprint(sum(filter(lambda x: x < 5 and not x % 2, numeros)))\\nend = time.time()\\nprint(end - start)',\n",
       "  'start = time.time()\\nsuma = 0\\nfor numero in numeros:\\n    if numero < 5 and numero%2 == 0:\\n        suma = suma + numero\\nprint(suma)\\nend = time.time()\\nprint(end - start)',\n",
       "  'start = time.time()\\nprint(sum(filter(lambda x: x < 5 and not x % 2, numeros)))\\nend = time.time()\\nprint(end - start)',\n",
       "  'start = time.time()\\nsuma = 0\\nfor numero in numeros:\\n    if numero < 5 and numero%2 == 0:\\n        suma = suma + numero\\nprint(suma)\\nend = time.time()\\nprint(end - start)',\n",
       "  'start = time.time()\\nprint(sum(filter(lambda x: x < 5 and not x % 2, numeros)))\\nend = time.time()\\nprint(end - start)',\n",
       "  'start = time.time()\\nsuma = 0\\nfor numero in numeros:\\n    if numero < 5 and numero%2 == 0:\\n        suma = suma + numero\\nprint(suma)\\nend = time.time()\\nprint(end - start)',\n",
       "  'start = time.time()\\nprint(sum(filter(lambda x: x < 5 and not x % 2, numeros)))\\nend = time.time()\\nprint(end - start)',\n",
       "  'start = time.time()\\nsuma = 0\\nfor numero in numeros:\\n    if numero < 5 and numero%2 == 0:\\n        suma = suma + numero\\nprint(suma)\\nend = time.time()\\nprint(end - start)',\n",
       "  'start = time.time()\\nprint(sum(filter(lambda x: x < 5 and not x % 2, numeros)))\\nend = time.time()\\nprint(end - start)',\n",
       "  'start = time.time()\\nsuma = 0\\nfor numero in numeros:\\n    if numero < 5 and numero%2 == 0:\\n        suma = suma + numero\\nprint(suma)\\nend = time.time()\\nprint(end - start)',\n",
       "  'start = time.time()\\nprint(sum(filter(lambda x: x < 5 and not x % 2, numeros)))\\nend = time.time()\\nprint(end - start)',\n",
       "  'numeros = [4,5,1,3,5,7,8,1,3,4,1,7,8,1,3,4,5,2,1,2,4,5] * 100',\n",
       "  'start = time.time()\\nsuma = 0\\nfor numero in numeros:\\n    if numero < 5 and numero%2 == 0:\\n        suma = suma + numero\\nprint(suma)\\nend = time.time()\\nprint(end - start)',\n",
       "  'start = time.time()\\nprint(sum(filter(lambda x: x < 5 and not x % 2, numeros)))\\nend = time.time()\\nprint(end - start)',\n",
       "  'numeros = [4,5,1,3,5,7,8,1,3,4,1,7,8,1,3,4,5,2,1,2,4,5] * 10000',\n",
       "  'start = time.time()\\nsuma = 0\\nfor numero in numeros:\\n    if numero < 5 and numero%2 == 0:\\n        suma = suma + numero\\nprint(suma)\\nend = time.time()\\nprint(end - start)',\n",
       "  'start = time.time()\\nprint(sum(filter(lambda x: x < 5 and not x % 2, numeros)))\\nend = time.time()\\nprint(end - start)',\n",
       "  'numeros = [4,5,1,3,5,7,8,1,3,4,1,7,8,1,3,4,5,2,1,2,4,5] * 100000',\n",
       "  'start = time.time()\\nsuma = 0\\nfor numero in numeros:\\n    if numero < 5 and numero%2 == 0:\\n        suma = suma + numero\\nprint(suma)\\nend = time.time()\\nprint(end - start)',\n",
       "  'start = time.time()\\nprint(sum(filter(lambda x: x < 5 and not x % 2, numeros)))\\nend = time.time()\\nprint(end - start)',\n",
       "  'start = time.time()\\nsuma = 0\\nfor numero in numeros:\\n    if numero < 5 and numero%2 == 0:\\n        suma = suma + numero\\nprint(suma)\\nend = time.time()\\nprint(end - start)',\n",
       "  'start = time.time()\\nprint(sum(filter(lambda x: x < 5 and not x % 2, numeros)))\\nend = time.time()\\nprint(end - start)',\n",
       "  'start = time.time()\\nsuma = 0\\nfor numero in numeros:\\n    if numero < 5 and numero%2 == 0:\\n        suma = suma + numero\\nprint(suma)\\nend = time.time()\\nprint(end - start)',\n",
       "  'start = time.time()\\nprint(sum(filter(lambda x: x < 5 and not x % 2, numeros)))\\nend = time.time()\\nprint(end - start)',\n",
       "  'start = time.time()\\nsuma = 0\\nfor numero in numeros:\\n    if numero < 5 and numero%2 == 0:\\n        suma = suma + numero\\nprint(suma)\\nend = time.time()\\nprint(end - start)',\n",
       "  'start = time.time()\\nprint(sum(filter(lambda x: x < 5 and not x % 2, numeros)))\\nend = time.time()\\nprint(end - start)',\n",
       "  'start = time.time()\\nsuma = 0\\nfor numero in numeros:\\n    if numero < 5 and numero%2 == 0:\\n        suma = suma + numero\\nprint(suma)\\nend = time.time()\\nprint(end - start)',\n",
       "  'start = time.time()\\nprint(sum(filter(lambda x: x < 5 and not x % 2, numeros)))\\nend = time.time()\\nprint(end - start)',\n",
       "  'start = time.time()\\nsuma = 0\\nfor numero in numeros:\\n    if numero < 5 and numero%2 == 0:\\n        suma = suma + numero\\nprint(suma)\\nend = time.time()\\nprint(end - start)',\n",
       "  'start = time.time()\\nprint(sum(filter(lambda x: x < 5 and not x % 2, numeros)))\\nend = time.time()\\nprint(end - start)',\n",
       "  'numeros = [4,5,1,3,5,7,8,1,3,4,1,7,8,1,3,4,5,2,1,2,4,5] * 1000000',\n",
       "  'start = time.time()\\nsuma = 0\\nfor numero in numeros:\\n    if numero < 5 and numero%2 == 0:\\n        suma = suma + numero\\nprint(suma)\\nend = time.time()\\nprint(end - start)',\n",
       "  'start = time.time()\\nprint(sum(filter(lambda x: x < 5 and not x % 2, numeros)))\\nend = time.time()\\nprint(end - start)',\n",
       "  'start = time.time()\\nsuma = 0\\nfor numero in numeros:\\n    if numero < 5 and numero%2 == 0:\\n        suma = suma + numero\\nprint(suma)\\nend = time.time()\\nprint(end - start)',\n",
       "  'start = time.time()\\nprint(sum(filter(lambda x: x < 5 and not x % 2, numeros)))\\nend = time.time()\\nprint(end - start)',\n",
       "  'nums = np.array(numeros)\\nnp.extract(nums < 5 and not nums % 2, nums)',\n",
       "  'nums = np.array(numeros)\\nnp.extract((nums < 5) && (not nums % 2), nums)',\n",
       "  'nums = np.array(numeros)\\nnp.extract((nums < 5) & (not nums % 2), nums)',\n",
       "  'nums = np.array(numeros)\\nnp.extract((nums < 5) & (! nums % 2), nums)',\n",
       "  'nums = np.array(numeros)\\nnp.extract((nums < 5) & !(nums % 2), nums)',\n",
       "  'nums = np.array(numeros)\\nnp.extract((nums < 5) & (nums % 2), nums)',\n",
       "  'nums = np.array(numeros)\\nnp.extract((nums < 5) & not (nums % 2), nums)',\n",
       "  'nums = np.array(numeros)\\nnp.extract((nums < 5) &  (!(nums % 2), nums)',\n",
       "  'nums = np.array(numeros)\\nnp.extract((nums < 5) &  (!(nums % 2)), nums)',\n",
       "  'nums = np.array(numeros)\\nnp.extract((nums < 5) &  (not(nums % 2)), nums)',\n",
       "  'nums = np.array(numeros)\\nnp.extract((nums < 5) &  (~(nums % 2)), nums)',\n",
       "  'nums = np.array(numeros)\\nnp.extract((nums < 5) &  ~(nums % 2), nums)',\n",
       "  'nums = np.array(numeros)\\nnp.extract((nums < 5) &  ~(nums % 2), nums).sum()',\n",
       "  'start = time.time()\\nnums = np.array(numeros)\\nnp.extract((nums < 5) &  ~(nums % 2), nums).sum()\\nend = time.time()\\nprint(end - start)',\n",
       "  'start = time.time()\\nsuma = 0\\nfor numero in numeros:\\n    if numero < 5 and numero%2 == 0:\\n        suma = suma + numero\\nprint(suma)\\nend = time.time()\\nprint(end - start)',\n",
       "  'start = time.time()\\nprint(sum(filter(lambda x: x < 5 and not x % 2, numeros)))\\nend = time.time()\\nprint(end - start)',\n",
       "  'start = time.time()\\nnums = np.array(numeros)\\nnp.extract((nums < 5) &  ~(nums % 2), nums).sum()\\nend = time.time()\\nprint(end - start)',\n",
       "  'numeros = [4,5,1,3,5,7,8,1,3,4,1,7,8,1,3,4,5,2,1,2,4,5] * 10000000',\n",
       "  'start = time.time()\\nsuma = 0\\nfor numero in numeros:\\n    if numero < 5 and numero%2 == 0:\\n        suma = suma + numero\\nprint(suma)\\nend = time.time()\\nprint(end - start)',\n",
       "  'start = time.time()\\nprint(sum(filter(lambda x: x < 5 and not x % 2, numeros)))\\nend = time.time()\\nprint(end - start)',\n",
       "  'start = time.time()\\nnums = np.array(numeros)\\nnp.extract((nums < 5) &  ~(nums % 2), nums).sum()\\nend = time.time()\\nprint(end - start)',\n",
       "  'nums = np.array(numeros)\\nstart = time.time()\\nnp.extract((nums < 5) &  ~(nums % 2), nums).sum()\\nend = time.time()\\nprint(end - start)',\n",
       "  'nums = np.array(numeros)\\nstart = time.time()\\nnp.extract((nums < 5) &  ~(nums % 2), nums).sum()\\nend = time.time()\\nprint(end - start)',\n",
       "  'numeros = [4,5,1,3,5,7,8,1,3,4,1,7,8,1,3,4,5,2,1,2,4,5] * 10000000\\nnums = np.array(numeros)',\n",
       "  'start = time.time()\\nsuma = 0\\nfor numero in numeros:\\n    if numero < 5 and numero%2 == 0:\\n        suma = suma + numero\\nprint(suma)\\nend = time.time()\\nprint(end - start)',\n",
       "  'start = time.time()\\nprint(sum(filter(lambda x: x < 5 and not x % 2, numeros)))\\nend = time.time()\\nprint(end - start)',\n",
       "  'start = time.time()\\nnp.extract((nums < 5) &  ~(nums % 2), nums).sum()\\nend = time.time()\\nprint(end - start)',\n",
       "  'import time',\n",
       "  'numeros = [4,5,1,3,5,7,8,1,3,4,1,7,8,1,3,4,5,2,1,2,4,5] * 10000000\\nnums = np.array(numeros)',\n",
       "  \"start = time.time()\\nsuma = 0\\nfor numero in numeros:\\n    if numero < 5 and numero%2 == 0:\\n        suma = suma + numero\\nprint(suma)\\nend = time.time()\\nprint(f'tiempo de ejecución: {end - start}')\",\n",
       "  \"start = time.time()\\nprint(sum(filter(lambda x: x < 5 and not x % 2, numeros)))\\nend = time.time()\\nprint(f'tiempo de ejecución: {end - start}')\",\n",
       "  \"start = time.time()\\nnp.extract((nums < 5) &  ~(nums % 2), nums).sum()\\nend = time.time()\\nprint(f'tiempo de ejecución: {end - start}')\",\n",
       "  \"start = time.time()\\nsuma = 0\\nfor numero in numeros:\\n    if numero < 5 and numero%2 == 0:\\n        suma = suma + numero\\nprint(suma)\\nend = time.time()\\nprint(f'tiempo de ejecución: {end - start}')\",\n",
       "  \"start = time.time()\\nsum = sum(filter(lambda x: x < 5 and not x % 2, numeros))\\nprint(suma)\\nend = time.time()\\nprint(f'tiempo de ejecución: {end - start}')\",\n",
       "  \"start = time.time()\\nsuma = np.extract((nums < 5) &  ~(nums % 2), nums).sum()\\nprint(suma)\\nend = time.time()\\nprint(f'tiempo de ejecución: {end - start}')\",\n",
       "  'rage(1,10,1)',\n",
       "  'range(1,10,1)',\n",
       "  'list(range(1,10,1))',\n",
       "  'np.arange(1,10,1)',\n",
       "  'local()',\n",
       "  'locals()'],\n",
       " '_oh': {5: array(['1', '2', 'lala', 'True'], dtype='<U21'),\n",
       "  9: array(['1', '2', 'lala', 'True'], dtype='<U21'),\n",
       "  12: array(['1', '2', 'lala', 'True'], dtype='<U21'),\n",
       "  14: array([2, 3, 4, 5]),\n",
       "  15: True,\n",
       "  16: True,\n",
       "  18: True,\n",
       "  19: False,\n",
       "  21: True,\n",
       "  22: False,\n",
       "  26: 1,\n",
       "  27: False,\n",
       "  28: False,\n",
       "  29: True,\n",
       "  31: True,\n",
       "  32: <filter at 0x111cdaa90>,\n",
       "  33: 20,\n",
       "  34: 20,\n",
       "  79: array([1, 3, 1, ..., 1, 3, 1]),\n",
       "  84: array([4, 4, 4, ..., 2, 2, 4]),\n",
       "  85: array([4, 4, 4, ..., 2, 2, 4]),\n",
       "  86: 20000000,\n",
       "  110: range(1, 10),\n",
       "  111: [1, 2, 3, 4, 5, 6, 7, 8, 9],\n",
       "  112: array([1, 2, 3, 4, 5, 6, 7, 8, 9])},\n",
       " '_dh': ['/Users/iramirez/Dropbox/Clases/Acamica'],\n",
       " 'In': ['',\n",
       "  \"a = [1,2,'lala',True]\",\n",
       "  'import numpy as np',\n",
       "  'b = np.array(a)',\n",
       "  'b = np.array(a)',\n",
       "  'b',\n",
       "  'b + 1',\n",
       "  \"a = [1,2,'lala',True]\\naa = [1,2,3,4]\",\n",
       "  'b = np.array(a)',\n",
       "  'b',\n",
       "  'b + 1',\n",
       "  'b = np.array(a)\\nbb = np.array(aa)',\n",
       "  'b',\n",
       "  'b + 1',\n",
       "  'bb + 1',\n",
       "  'any(bb)',\n",
       "  'all(bb)',\n",
       "  'c = [1,0,1]',\n",
       "  'any(c)',\n",
       "  'all(c)',\n",
       "  'c = [True,False,True]',\n",
       "  'any(c)',\n",
       "  'all(c)',\n",
       "  'numeros = [4,5,1,3,5,7,8,1,3,4,1,7,8,1,3,4,5,2,1,2,4,5]',\n",
       "  'suma = 0\\nfor numero in numeros:\\n    if numero < 5 and numero%2 == 0:\\n        suma = suma + numero\\nprint(suma)',\n",
       "  'x % 2',\n",
       "  'x = 11\\nx % 2',\n",
       "  'x = 11\\nx % 2 == 0',\n",
       "  'x = 11\\nnot (x % 2)',\n",
       "  'x = 10\\nnot (x % 2)',\n",
       "  'x = 10\\nnot (x !% 2)',\n",
       "  'x = 10\\nnot (x % 2)',\n",
       "  'filter(lambda x: x < 5 and not x % 2,numeros)',\n",
       "  'sum(filter(lambda x: x < 5 and not x % 2,numeros))',\n",
       "  'sum(filter(lambda x: x < 5 and not x % 2, numeros))',\n",
       "  'import time',\n",
       "  'start = time.time()\\nsuma = 0\\nfor numero in numeros:\\n    if numero < 5 and numero%2 == 0:\\n        suma = suma + numero\\nprint(suma)\\nend = time.time()\\nprint(end - start)',\n",
       "  'start = time.time()\\nprint(sum(filter(lambda x: x < 5 and not x % 2, numeros)))\\nend = time.time()\\nprint(end - start)',\n",
       "  'start = time.time()\\nsuma = 0\\nfor numero in numeros:\\n    if numero < 5 and numero%2 == 0:\\n        suma = suma + numero\\nprint(suma)\\nend = time.time()\\nprint(end - start)',\n",
       "  'start = time.time()\\nprint(sum(filter(lambda x: x < 5 and not x % 2, numeros)))\\nend = time.time()\\nprint(end - start)',\n",
       "  'start = time.time()\\nsuma = 0\\nfor numero in numeros:\\n    if numero < 5 and numero%2 == 0:\\n        suma = suma + numero\\nprint(suma)\\nend = time.time()\\nprint(end - start)',\n",
       "  'start = time.time()\\nprint(sum(filter(lambda x: x < 5 and not x % 2, numeros)))\\nend = time.time()\\nprint(end - start)',\n",
       "  'start = time.time()\\nsuma = 0\\nfor numero in numeros:\\n    if numero < 5 and numero%2 == 0:\\n        suma = suma + numero\\nprint(suma)\\nend = time.time()\\nprint(end - start)',\n",
       "  'start = time.time()\\nprint(sum(filter(lambda x: x < 5 and not x % 2, numeros)))\\nend = time.time()\\nprint(end - start)',\n",
       "  'start = time.time()\\nsuma = 0\\nfor numero in numeros:\\n    if numero < 5 and numero%2 == 0:\\n        suma = suma + numero\\nprint(suma)\\nend = time.time()\\nprint(end - start)',\n",
       "  'start = time.time()\\nprint(sum(filter(lambda x: x < 5 and not x % 2, numeros)))\\nend = time.time()\\nprint(end - start)',\n",
       "  'start = time.time()\\nsuma = 0\\nfor numero in numeros:\\n    if numero < 5 and numero%2 == 0:\\n        suma = suma + numero\\nprint(suma)\\nend = time.time()\\nprint(end - start)',\n",
       "  'start = time.time()\\nprint(sum(filter(lambda x: x < 5 and not x % 2, numeros)))\\nend = time.time()\\nprint(end - start)',\n",
       "  'start = time.time()\\nsuma = 0\\nfor numero in numeros:\\n    if numero < 5 and numero%2 == 0:\\n        suma = suma + numero\\nprint(suma)\\nend = time.time()\\nprint(end - start)',\n",
       "  'start = time.time()\\nprint(sum(filter(lambda x: x < 5 and not x % 2, numeros)))\\nend = time.time()\\nprint(end - start)',\n",
       "  'numeros = [4,5,1,3,5,7,8,1,3,4,1,7,8,1,3,4,5,2,1,2,4,5] * 100',\n",
       "  'start = time.time()\\nsuma = 0\\nfor numero in numeros:\\n    if numero < 5 and numero%2 == 0:\\n        suma = suma + numero\\nprint(suma)\\nend = time.time()\\nprint(end - start)',\n",
       "  'start = time.time()\\nprint(sum(filter(lambda x: x < 5 and not x % 2, numeros)))\\nend = time.time()\\nprint(end - start)',\n",
       "  'numeros = [4,5,1,3,5,7,8,1,3,4,1,7,8,1,3,4,5,2,1,2,4,5] * 10000',\n",
       "  'start = time.time()\\nsuma = 0\\nfor numero in numeros:\\n    if numero < 5 and numero%2 == 0:\\n        suma = suma + numero\\nprint(suma)\\nend = time.time()\\nprint(end - start)',\n",
       "  'start = time.time()\\nprint(sum(filter(lambda x: x < 5 and not x % 2, numeros)))\\nend = time.time()\\nprint(end - start)',\n",
       "  'numeros = [4,5,1,3,5,7,8,1,3,4,1,7,8,1,3,4,5,2,1,2,4,5] * 100000',\n",
       "  'start = time.time()\\nsuma = 0\\nfor numero in numeros:\\n    if numero < 5 and numero%2 == 0:\\n        suma = suma + numero\\nprint(suma)\\nend = time.time()\\nprint(end - start)',\n",
       "  'start = time.time()\\nprint(sum(filter(lambda x: x < 5 and not x % 2, numeros)))\\nend = time.time()\\nprint(end - start)',\n",
       "  'start = time.time()\\nsuma = 0\\nfor numero in numeros:\\n    if numero < 5 and numero%2 == 0:\\n        suma = suma + numero\\nprint(suma)\\nend = time.time()\\nprint(end - start)',\n",
       "  'start = time.time()\\nprint(sum(filter(lambda x: x < 5 and not x % 2, numeros)))\\nend = time.time()\\nprint(end - start)',\n",
       "  'start = time.time()\\nsuma = 0\\nfor numero in numeros:\\n    if numero < 5 and numero%2 == 0:\\n        suma = suma + numero\\nprint(suma)\\nend = time.time()\\nprint(end - start)',\n",
       "  'start = time.time()\\nprint(sum(filter(lambda x: x < 5 and not x % 2, numeros)))\\nend = time.time()\\nprint(end - start)',\n",
       "  'start = time.time()\\nsuma = 0\\nfor numero in numeros:\\n    if numero < 5 and numero%2 == 0:\\n        suma = suma + numero\\nprint(suma)\\nend = time.time()\\nprint(end - start)',\n",
       "  'start = time.time()\\nprint(sum(filter(lambda x: x < 5 and not x % 2, numeros)))\\nend = time.time()\\nprint(end - start)',\n",
       "  'start = time.time()\\nsuma = 0\\nfor numero in numeros:\\n    if numero < 5 and numero%2 == 0:\\n        suma = suma + numero\\nprint(suma)\\nend = time.time()\\nprint(end - start)',\n",
       "  'start = time.time()\\nprint(sum(filter(lambda x: x < 5 and not x % 2, numeros)))\\nend = time.time()\\nprint(end - start)',\n",
       "  'start = time.time()\\nsuma = 0\\nfor numero in numeros:\\n    if numero < 5 and numero%2 == 0:\\n        suma = suma + numero\\nprint(suma)\\nend = time.time()\\nprint(end - start)',\n",
       "  'start = time.time()\\nprint(sum(filter(lambda x: x < 5 and not x % 2, numeros)))\\nend = time.time()\\nprint(end - start)',\n",
       "  'numeros = [4,5,1,3,5,7,8,1,3,4,1,7,8,1,3,4,5,2,1,2,4,5] * 1000000',\n",
       "  'start = time.time()\\nsuma = 0\\nfor numero in numeros:\\n    if numero < 5 and numero%2 == 0:\\n        suma = suma + numero\\nprint(suma)\\nend = time.time()\\nprint(end - start)',\n",
       "  'start = time.time()\\nprint(sum(filter(lambda x: x < 5 and not x % 2, numeros)))\\nend = time.time()\\nprint(end - start)',\n",
       "  'start = time.time()\\nsuma = 0\\nfor numero in numeros:\\n    if numero < 5 and numero%2 == 0:\\n        suma = suma + numero\\nprint(suma)\\nend = time.time()\\nprint(end - start)',\n",
       "  'start = time.time()\\nprint(sum(filter(lambda x: x < 5 and not x % 2, numeros)))\\nend = time.time()\\nprint(end - start)',\n",
       "  'nums = np.array(numeros)\\nnp.extract(nums < 5 and not nums % 2, nums)',\n",
       "  'nums = np.array(numeros)\\nnp.extract((nums < 5) && (not nums % 2), nums)',\n",
       "  'nums = np.array(numeros)\\nnp.extract((nums < 5) & (not nums % 2), nums)',\n",
       "  'nums = np.array(numeros)\\nnp.extract((nums < 5) & (! nums % 2), nums)',\n",
       "  'nums = np.array(numeros)\\nnp.extract((nums < 5) & !(nums % 2), nums)',\n",
       "  'nums = np.array(numeros)\\nnp.extract((nums < 5) & (nums % 2), nums)',\n",
       "  'nums = np.array(numeros)\\nnp.extract((nums < 5) & not (nums % 2), nums)',\n",
       "  'nums = np.array(numeros)\\nnp.extract((nums < 5) &  (!(nums % 2), nums)',\n",
       "  'nums = np.array(numeros)\\nnp.extract((nums < 5) &  (!(nums % 2)), nums)',\n",
       "  'nums = np.array(numeros)\\nnp.extract((nums < 5) &  (not(nums % 2)), nums)',\n",
       "  'nums = np.array(numeros)\\nnp.extract((nums < 5) &  (~(nums % 2)), nums)',\n",
       "  'nums = np.array(numeros)\\nnp.extract((nums < 5) &  ~(nums % 2), nums)',\n",
       "  'nums = np.array(numeros)\\nnp.extract((nums < 5) &  ~(nums % 2), nums).sum()',\n",
       "  'start = time.time()\\nnums = np.array(numeros)\\nnp.extract((nums < 5) &  ~(nums % 2), nums).sum()\\nend = time.time()\\nprint(end - start)',\n",
       "  'start = time.time()\\nsuma = 0\\nfor numero in numeros:\\n    if numero < 5 and numero%2 == 0:\\n        suma = suma + numero\\nprint(suma)\\nend = time.time()\\nprint(end - start)',\n",
       "  'start = time.time()\\nprint(sum(filter(lambda x: x < 5 and not x % 2, numeros)))\\nend = time.time()\\nprint(end - start)',\n",
       "  'start = time.time()\\nnums = np.array(numeros)\\nnp.extract((nums < 5) &  ~(nums % 2), nums).sum()\\nend = time.time()\\nprint(end - start)',\n",
       "  'numeros = [4,5,1,3,5,7,8,1,3,4,1,7,8,1,3,4,5,2,1,2,4,5] * 10000000',\n",
       "  'start = time.time()\\nsuma = 0\\nfor numero in numeros:\\n    if numero < 5 and numero%2 == 0:\\n        suma = suma + numero\\nprint(suma)\\nend = time.time()\\nprint(end - start)',\n",
       "  'start = time.time()\\nprint(sum(filter(lambda x: x < 5 and not x % 2, numeros)))\\nend = time.time()\\nprint(end - start)',\n",
       "  'start = time.time()\\nnums = np.array(numeros)\\nnp.extract((nums < 5) &  ~(nums % 2), nums).sum()\\nend = time.time()\\nprint(end - start)',\n",
       "  'nums = np.array(numeros)\\nstart = time.time()\\nnp.extract((nums < 5) &  ~(nums % 2), nums).sum()\\nend = time.time()\\nprint(end - start)',\n",
       "  'nums = np.array(numeros)\\nstart = time.time()\\nnp.extract((nums < 5) &  ~(nums % 2), nums).sum()\\nend = time.time()\\nprint(end - start)',\n",
       "  'numeros = [4,5,1,3,5,7,8,1,3,4,1,7,8,1,3,4,5,2,1,2,4,5] * 10000000\\nnums = np.array(numeros)',\n",
       "  'start = time.time()\\nsuma = 0\\nfor numero in numeros:\\n    if numero < 5 and numero%2 == 0:\\n        suma = suma + numero\\nprint(suma)\\nend = time.time()\\nprint(end - start)',\n",
       "  'start = time.time()\\nprint(sum(filter(lambda x: x < 5 and not x % 2, numeros)))\\nend = time.time()\\nprint(end - start)',\n",
       "  'start = time.time()\\nnp.extract((nums < 5) &  ~(nums % 2), nums).sum()\\nend = time.time()\\nprint(end - start)',\n",
       "  'import time',\n",
       "  'numeros = [4,5,1,3,5,7,8,1,3,4,1,7,8,1,3,4,5,2,1,2,4,5] * 10000000\\nnums = np.array(numeros)',\n",
       "  \"start = time.time()\\nsuma = 0\\nfor numero in numeros:\\n    if numero < 5 and numero%2 == 0:\\n        suma = suma + numero\\nprint(suma)\\nend = time.time()\\nprint(f'tiempo de ejecución: {end - start}')\",\n",
       "  \"start = time.time()\\nprint(sum(filter(lambda x: x < 5 and not x % 2, numeros)))\\nend = time.time()\\nprint(f'tiempo de ejecución: {end - start}')\",\n",
       "  \"start = time.time()\\nnp.extract((nums < 5) &  ~(nums % 2), nums).sum()\\nend = time.time()\\nprint(f'tiempo de ejecución: {end - start}')\",\n",
       "  \"start = time.time()\\nsuma = 0\\nfor numero in numeros:\\n    if numero < 5 and numero%2 == 0:\\n        suma = suma + numero\\nprint(suma)\\nend = time.time()\\nprint(f'tiempo de ejecución: {end - start}')\",\n",
       "  \"start = time.time()\\nsum = sum(filter(lambda x: x < 5 and not x % 2, numeros))\\nprint(suma)\\nend = time.time()\\nprint(f'tiempo de ejecución: {end - start}')\",\n",
       "  \"start = time.time()\\nsuma = np.extract((nums < 5) &  ~(nums % 2), nums).sum()\\nprint(suma)\\nend = time.time()\\nprint(f'tiempo de ejecución: {end - start}')\",\n",
       "  'rage(1,10,1)',\n",
       "  'range(1,10,1)',\n",
       "  'list(range(1,10,1))',\n",
       "  'np.arange(1,10,1)',\n",
       "  'local()',\n",
       "  'locals()'],\n",
       " 'Out': {5: array(['1', '2', 'lala', 'True'], dtype='<U21'),\n",
       "  9: array(['1', '2', 'lala', 'True'], dtype='<U21'),\n",
       "  12: array(['1', '2', 'lala', 'True'], dtype='<U21'),\n",
       "  14: array([2, 3, 4, 5]),\n",
       "  15: True,\n",
       "  16: True,\n",
       "  18: True,\n",
       "  19: False,\n",
       "  21: True,\n",
       "  22: False,\n",
       "  26: 1,\n",
       "  27: False,\n",
       "  28: False,\n",
       "  29: True,\n",
       "  31: True,\n",
       "  32: <filter at 0x111cdaa90>,\n",
       "  33: 20,\n",
       "  34: 20,\n",
       "  79: array([1, 3, 1, ..., 1, 3, 1]),\n",
       "  84: array([4, 4, 4, ..., 2, 2, 4]),\n",
       "  85: array([4, 4, 4, ..., 2, 2, 4]),\n",
       "  86: 20000000,\n",
       "  110: range(1, 10),\n",
       "  111: [1, 2, 3, 4, 5, 6, 7, 8, 9],\n",
       "  112: array([1, 2, 3, 4, 5, 6, 7, 8, 9])},\n",
       " 'get_ipython': <bound method InteractiveShell.get_ipython of <ipykernel.zmqshell.ZMQInteractiveShell object at 0x1050d4820>>,\n",
       " 'exit': <IPython.core.autocall.ZMQExitAutocall at 0x1050ed670>,\n",
       " 'quit': <IPython.core.autocall.ZMQExitAutocall at 0x1050ed670>,\n",
       " '_': array([1, 2, 3, 4, 5, 6, 7, 8, 9]),\n",
       " '__': [1, 2, 3, 4, 5, 6, 7, 8, 9],\n",
       " '___': range(1, 10),\n",
       " '_i': 'local()',\n",
       " '_ii': 'np.arange(1,10,1)',\n",
       " '_iii': 'list(range(1,10,1))',\n",
       " '_i1': \"a = [1,2,'lala',True]\",\n",
       " 'a': [1, 2, 'lala', True],\n",
       " '_i2': 'import numpy as np',\n",
       " 'np': <module 'numpy' from '/Users/iramirez/Library/Python/3.8/lib/python/site-packages/numpy/__init__.py'>,\n",
       " '_i3': 'b = np.array(a)',\n",
       " 'b': array(['1', '2', 'lala', 'True'], dtype='<U21'),\n",
       " '_i4': 'b = np.array(a)',\n",
       " '_i5': 'b',\n",
       " '_5': array(['1', '2', 'lala', 'True'], dtype='<U21'),\n",
       " '_i6': 'b + 1',\n",
       " '_i7': \"a = [1,2,'lala',True]\\naa = [1,2,3,4]\",\n",
       " 'aa': [1, 2, 3, 4],\n",
       " '_i8': 'b = np.array(a)',\n",
       " '_i9': 'b',\n",
       " '_9': array(['1', '2', 'lala', 'True'], dtype='<U21'),\n",
       " '_i10': 'b + 1',\n",
       " '_i11': 'b = np.array(a)\\nbb = np.array(aa)',\n",
       " 'bb': array([1, 2, 3, 4]),\n",
       " '_i12': 'b',\n",
       " '_12': array(['1', '2', 'lala', 'True'], dtype='<U21'),\n",
       " '_i13': 'b + 1',\n",
       " '_i14': 'bb + 1',\n",
       " '_14': array([2, 3, 4, 5]),\n",
       " '_i15': 'any(bb)',\n",
       " '_15': True,\n",
       " '_i16': 'all(bb)',\n",
       " '_16': True,\n",
       " '_i17': 'c = [1,0,1]',\n",
       " 'c': [True, False, True],\n",
       " '_i18': 'any(c)',\n",
       " '_18': True,\n",
       " '_i19': 'all(c)',\n",
       " '_19': False,\n",
       " '_i20': 'c = [True,False,True]',\n",
       " '_i21': 'any(c)',\n",
       " '_21': True,\n",
       " '_i22': 'all(c)',\n",
       " '_22': False,\n",
       " '_i23': 'numeros = [4,5,1,3,5,7,8,1,3,4,1,7,8,1,3,4,5,2,1,2,4,5]',\n",
       " 'numeros': [4,\n",
       "  5,\n",
       "  1,\n",
       "  3,\n",
       "  5,\n",
       "  7,\n",
       "  8,\n",
       "  1,\n",
       "  3,\n",
       "  4,\n",
       "  1,\n",
       "  7,\n",
       "  8,\n",
       "  1,\n",
       "  3,\n",
       "  4,\n",
       "  5,\n",
       "  2,\n",
       "  1,\n",
       "  2,\n",
       "  4,\n",
       "  5,\n",
       "  4,\n",
       "  5,\n",
       "  1,\n",
       "  3,\n",
       "  5,\n",
       "  7,\n",
       "  8,\n",
       "  1,\n",
       "  3,\n",
       "  4,\n",
       "  1,\n",
       "  7,\n",
       "  8,\n",
       "  1,\n",
       "  3,\n",
       "  4,\n",
       "  5,\n",
       "  2,\n",
       "  1,\n",
       "  2,\n",
       "  4,\n",
       "  5,\n",
       "  4,\n",
       "  5,\n",
       "  1,\n",
       "  3,\n",
       "  5,\n",
       "  7,\n",
       "  8,\n",
       "  1,\n",
       "  3,\n",
       "  4,\n",
       "  1,\n",
       "  7,\n",
       "  8,\n",
       "  1,\n",
       "  3,\n",
       "  4,\n",
       "  5,\n",
       "  2,\n",
       "  1,\n",
       "  2,\n",
       "  4,\n",
       "  5,\n",
       "  4,\n",
       "  5,\n",
       "  1,\n",
       "  3,\n",
       "  5,\n",
       "  7,\n",
       "  8,\n",
       "  1,\n",
       "  3,\n",
       "  4,\n",
       "  1,\n",
       "  7,\n",
       "  8,\n",
       "  1,\n",
       "  3,\n",
       "  4,\n",
       "  5,\n",
       "  2,\n",
       "  1,\n",
       "  2,\n",
       "  4,\n",
       "  5,\n",
       "  4,\n",
       "  5,\n",
       "  1,\n",
       "  3,\n",
       "  5,\n",
       "  7,\n",
       "  8,\n",
       "  1,\n",
       "  3,\n",
       "  4,\n",
       "  1,\n",
       "  7,\n",
       "  8,\n",
       "  1,\n",
       "  3,\n",
       "  4,\n",
       "  5,\n",
       "  2,\n",
       "  1,\n",
       "  2,\n",
       "  4,\n",
       "  5,\n",
       "  4,\n",
       "  5,\n",
       "  1,\n",
       "  3,\n",
       "  5,\n",
       "  7,\n",
       "  8,\n",
       "  1,\n",
       "  3,\n",
       "  4,\n",
       "  1,\n",
       "  7,\n",
       "  8,\n",
       "  1,\n",
       "  3,\n",
       "  4,\n",
       "  5,\n",
       "  2,\n",
       "  1,\n",
       "  2,\n",
       "  4,\n",
       "  5,\n",
       "  4,\n",
       "  5,\n",
       "  1,\n",
       "  3,\n",
       "  5,\n",
       "  7,\n",
       "  8,\n",
       "  1,\n",
       "  3,\n",
       "  4,\n",
       "  1,\n",
       "  7,\n",
       "  8,\n",
       "  1,\n",
       "  3,\n",
       "  4,\n",
       "  5,\n",
       "  2,\n",
       "  1,\n",
       "  2,\n",
       "  4,\n",
       "  5,\n",
       "  4,\n",
       "  5,\n",
       "  1,\n",
       "  3,\n",
       "  5,\n",
       "  7,\n",
       "  8,\n",
       "  1,\n",
       "  3,\n",
       "  4,\n",
       "  1,\n",
       "  7,\n",
       "  8,\n",
       "  1,\n",
       "  3,\n",
       "  4,\n",
       "  5,\n",
       "  2,\n",
       "  1,\n",
       "  2,\n",
       "  4,\n",
       "  5,\n",
       "  4,\n",
       "  5,\n",
       "  1,\n",
       "  3,\n",
       "  5,\n",
       "  7,\n",
       "  8,\n",
       "  1,\n",
       "  3,\n",
       "  4,\n",
       "  1,\n",
       "  7,\n",
       "  8,\n",
       "  1,\n",
       "  3,\n",
       "  4,\n",
       "  5,\n",
       "  2,\n",
       "  1,\n",
       "  2,\n",
       "  4,\n",
       "  5,\n",
       "  4,\n",
       "  5,\n",
       "  1,\n",
       "  3,\n",
       "  5,\n",
       "  7,\n",
       "  8,\n",
       "  1,\n",
       "  3,\n",
       "  4,\n",
       "  1,\n",
       "  7,\n",
       "  8,\n",
       "  1,\n",
       "  3,\n",
       "  4,\n",
       "  5,\n",
       "  2,\n",
       "  1,\n",
       "  2,\n",
       "  4,\n",
       "  5,\n",
       "  4,\n",
       "  5,\n",
       "  1,\n",
       "  3,\n",
       "  5,\n",
       "  7,\n",
       "  8,\n",
       "  1,\n",
       "  3,\n",
       "  4,\n",
       "  1,\n",
       "  7,\n",
       "  8,\n",
       "  1,\n",
       "  3,\n",
       "  4,\n",
       "  5,\n",
       "  2,\n",
       "  1,\n",
       "  2,\n",
       "  4,\n",
       "  5,\n",
       "  4,\n",
       "  5,\n",
       "  1,\n",
       "  3,\n",
       "  5,\n",
       "  7,\n",
       "  8,\n",
       "  1,\n",
       "  3,\n",
       "  4,\n",
       "  1,\n",
       "  7,\n",
       "  8,\n",
       "  1,\n",
       "  3,\n",
       "  4,\n",
       "  5,\n",
       "  2,\n",
       "  1,\n",
       "  2,\n",
       "  4,\n",
       "  5,\n",
       "  4,\n",
       "  5,\n",
       "  1,\n",
       "  3,\n",
       "  5,\n",
       "  7,\n",
       "  8,\n",
       "  1,\n",
       "  3,\n",
       "  4,\n",
       "  1,\n",
       "  7,\n",
       "  8,\n",
       "  1,\n",
       "  3,\n",
       "  4,\n",
       "  5,\n",
       "  2,\n",
       "  1,\n",
       "  2,\n",
       "  4,\n",
       "  5,\n",
       "  4,\n",
       "  5,\n",
       "  1,\n",
       "  3,\n",
       "  5,\n",
       "  7,\n",
       "  8,\n",
       "  1,\n",
       "  3,\n",
       "  4,\n",
       "  1,\n",
       "  7,\n",
       "  8,\n",
       "  1,\n",
       "  3,\n",
       "  4,\n",
       "  5,\n",
       "  2,\n",
       "  1,\n",
       "  2,\n",
       "  4,\n",
       "  5,\n",
       "  4,\n",
       "  5,\n",
       "  1,\n",
       "  3,\n",
       "  5,\n",
       "  7,\n",
       "  8,\n",
       "  1,\n",
       "  3,\n",
       "  4,\n",
       "  1,\n",
       "  7,\n",
       "  8,\n",
       "  1,\n",
       "  3,\n",
       "  4,\n",
       "  5,\n",
       "  2,\n",
       "  1,\n",
       "  2,\n",
       "  4,\n",
       "  5,\n",
       "  4,\n",
       "  5,\n",
       "  1,\n",
       "  3,\n",
       "  5,\n",
       "  7,\n",
       "  8,\n",
       "  1,\n",
       "  3,\n",
       "  4,\n",
       "  1,\n",
       "  7,\n",
       "  8,\n",
       "  1,\n",
       "  3,\n",
       "  4,\n",
       "  5,\n",
       "  2,\n",
       "  1,\n",
       "  2,\n",
       "  4,\n",
       "  5,\n",
       "  4,\n",
       "  5,\n",
       "  1,\n",
       "  3,\n",
       "  5,\n",
       "  7,\n",
       "  8,\n",
       "  1,\n",
       "  3,\n",
       "  4,\n",
       "  1,\n",
       "  7,\n",
       "  8,\n",
       "  1,\n",
       "  3,\n",
       "  4,\n",
       "  5,\n",
       "  2,\n",
       "  1,\n",
       "  2,\n",
       "  4,\n",
       "  5,\n",
       "  4,\n",
       "  5,\n",
       "  1,\n",
       "  3,\n",
       "  5,\n",
       "  7,\n",
       "  8,\n",
       "  1,\n",
       "  3,\n",
       "  4,\n",
       "  1,\n",
       "  7,\n",
       "  8,\n",
       "  1,\n",
       "  3,\n",
       "  4,\n",
       "  5,\n",
       "  2,\n",
       "  1,\n",
       "  2,\n",
       "  4,\n",
       "  5,\n",
       "  4,\n",
       "  5,\n",
       "  1,\n",
       "  3,\n",
       "  5,\n",
       "  7,\n",
       "  8,\n",
       "  1,\n",
       "  3,\n",
       "  4,\n",
       "  1,\n",
       "  7,\n",
       "  8,\n",
       "  1,\n",
       "  3,\n",
       "  4,\n",
       "  5,\n",
       "  2,\n",
       "  1,\n",
       "  2,\n",
       "  4,\n",
       "  5,\n",
       "  4,\n",
       "  5,\n",
       "  1,\n",
       "  3,\n",
       "  5,\n",
       "  7,\n",
       "  8,\n",
       "  1,\n",
       "  3,\n",
       "  4,\n",
       "  1,\n",
       "  7,\n",
       "  8,\n",
       "  1,\n",
       "  3,\n",
       "  4,\n",
       "  5,\n",
       "  2,\n",
       "  1,\n",
       "  2,\n",
       "  4,\n",
       "  5,\n",
       "  4,\n",
       "  5,\n",
       "  1,\n",
       "  3,\n",
       "  5,\n",
       "  7,\n",
       "  8,\n",
       "  1,\n",
       "  3,\n",
       "  4,\n",
       "  1,\n",
       "  7,\n",
       "  8,\n",
       "  1,\n",
       "  3,\n",
       "  4,\n",
       "  5,\n",
       "  2,\n",
       "  1,\n",
       "  2,\n",
       "  4,\n",
       "  5,\n",
       "  4,\n",
       "  5,\n",
       "  1,\n",
       "  3,\n",
       "  5,\n",
       "  7,\n",
       "  8,\n",
       "  1,\n",
       "  3,\n",
       "  4,\n",
       "  1,\n",
       "  7,\n",
       "  8,\n",
       "  1,\n",
       "  3,\n",
       "  4,\n",
       "  5,\n",
       "  2,\n",
       "  1,\n",
       "  2,\n",
       "  4,\n",
       "  5,\n",
       "  4,\n",
       "  5,\n",
       "  1,\n",
       "  3,\n",
       "  5,\n",
       "  7,\n",
       "  8,\n",
       "  1,\n",
       "  3,\n",
       "  4,\n",
       "  1,\n",
       "  7,\n",
       "  8,\n",
       "  1,\n",
       "  3,\n",
       "  4,\n",
       "  5,\n",
       "  2,\n",
       "  1,\n",
       "  2,\n",
       "  4,\n",
       "  5,\n",
       "  4,\n",
       "  5,\n",
       "  1,\n",
       "  3,\n",
       "  5,\n",
       "  7,\n",
       "  8,\n",
       "  1,\n",
       "  3,\n",
       "  4,\n",
       "  1,\n",
       "  7,\n",
       "  8,\n",
       "  1,\n",
       "  3,\n",
       "  4,\n",
       "  5,\n",
       "  2,\n",
       "  1,\n",
       "  2,\n",
       "  4,\n",
       "  5,\n",
       "  4,\n",
       "  5,\n",
       "  1,\n",
       "  3,\n",
       "  5,\n",
       "  7,\n",
       "  8,\n",
       "  1,\n",
       "  3,\n",
       "  4,\n",
       "  1,\n",
       "  7,\n",
       "  8,\n",
       "  1,\n",
       "  3,\n",
       "  4,\n",
       "  5,\n",
       "  2,\n",
       "  1,\n",
       "  2,\n",
       "  4,\n",
       "  5,\n",
       "  4,\n",
       "  5,\n",
       "  1,\n",
       "  3,\n",
       "  5,\n",
       "  7,\n",
       "  8,\n",
       "  1,\n",
       "  3,\n",
       "  4,\n",
       "  1,\n",
       "  7,\n",
       "  8,\n",
       "  1,\n",
       "  3,\n",
       "  4,\n",
       "  5,\n",
       "  2,\n",
       "  1,\n",
       "  2,\n",
       "  4,\n",
       "  5,\n",
       "  4,\n",
       "  5,\n",
       "  1,\n",
       "  3,\n",
       "  5,\n",
       "  7,\n",
       "  8,\n",
       "  1,\n",
       "  3,\n",
       "  4,\n",
       "  1,\n",
       "  7,\n",
       "  8,\n",
       "  1,\n",
       "  3,\n",
       "  4,\n",
       "  5,\n",
       "  2,\n",
       "  1,\n",
       "  2,\n",
       "  4,\n",
       "  5,\n",
       "  4,\n",
       "  5,\n",
       "  1,\n",
       "  3,\n",
       "  5,\n",
       "  7,\n",
       "  8,\n",
       "  1,\n",
       "  3,\n",
       "  4,\n",
       "  1,\n",
       "  7,\n",
       "  8,\n",
       "  1,\n",
       "  3,\n",
       "  4,\n",
       "  5,\n",
       "  2,\n",
       "  1,\n",
       "  2,\n",
       "  4,\n",
       "  5,\n",
       "  4,\n",
       "  5,\n",
       "  1,\n",
       "  3,\n",
       "  5,\n",
       "  7,\n",
       "  8,\n",
       "  1,\n",
       "  3,\n",
       "  4,\n",
       "  1,\n",
       "  7,\n",
       "  8,\n",
       "  1,\n",
       "  3,\n",
       "  4,\n",
       "  5,\n",
       "  2,\n",
       "  1,\n",
       "  2,\n",
       "  4,\n",
       "  5,\n",
       "  4,\n",
       "  5,\n",
       "  1,\n",
       "  3,\n",
       "  5,\n",
       "  7,\n",
       "  8,\n",
       "  1,\n",
       "  3,\n",
       "  4,\n",
       "  1,\n",
       "  7,\n",
       "  8,\n",
       "  1,\n",
       "  3,\n",
       "  4,\n",
       "  5,\n",
       "  2,\n",
       "  1,\n",
       "  2,\n",
       "  4,\n",
       "  5,\n",
       "  4,\n",
       "  5,\n",
       "  1,\n",
       "  3,\n",
       "  5,\n",
       "  7,\n",
       "  8,\n",
       "  1,\n",
       "  3,\n",
       "  4,\n",
       "  1,\n",
       "  7,\n",
       "  8,\n",
       "  1,\n",
       "  3,\n",
       "  4,\n",
       "  5,\n",
       "  2,\n",
       "  1,\n",
       "  2,\n",
       "  4,\n",
       "  5,\n",
       "  4,\n",
       "  5,\n",
       "  1,\n",
       "  3,\n",
       "  5,\n",
       "  7,\n",
       "  8,\n",
       "  1,\n",
       "  3,\n",
       "  4,\n",
       "  1,\n",
       "  7,\n",
       "  8,\n",
       "  1,\n",
       "  3,\n",
       "  4,\n",
       "  5,\n",
       "  2,\n",
       "  1,\n",
       "  2,\n",
       "  4,\n",
       "  5,\n",
       "  4,\n",
       "  5,\n",
       "  1,\n",
       "  3,\n",
       "  5,\n",
       "  7,\n",
       "  8,\n",
       "  1,\n",
       "  3,\n",
       "  4,\n",
       "  1,\n",
       "  7,\n",
       "  8,\n",
       "  1,\n",
       "  3,\n",
       "  4,\n",
       "  5,\n",
       "  2,\n",
       "  1,\n",
       "  2,\n",
       "  4,\n",
       "  5,\n",
       "  4,\n",
       "  5,\n",
       "  1,\n",
       "  3,\n",
       "  5,\n",
       "  7,\n",
       "  8,\n",
       "  1,\n",
       "  3,\n",
       "  4,\n",
       "  1,\n",
       "  7,\n",
       "  8,\n",
       "  1,\n",
       "  3,\n",
       "  4,\n",
       "  5,\n",
       "  2,\n",
       "  1,\n",
       "  2,\n",
       "  4,\n",
       "  5,\n",
       "  4,\n",
       "  5,\n",
       "  1,\n",
       "  3,\n",
       "  5,\n",
       "  7,\n",
       "  8,\n",
       "  1,\n",
       "  3,\n",
       "  4,\n",
       "  1,\n",
       "  7,\n",
       "  8,\n",
       "  1,\n",
       "  3,\n",
       "  4,\n",
       "  5,\n",
       "  2,\n",
       "  1,\n",
       "  2,\n",
       "  4,\n",
       "  5,\n",
       "  4,\n",
       "  5,\n",
       "  1,\n",
       "  3,\n",
       "  5,\n",
       "  7,\n",
       "  8,\n",
       "  1,\n",
       "  3,\n",
       "  4,\n",
       "  1,\n",
       "  7,\n",
       "  8,\n",
       "  1,\n",
       "  3,\n",
       "  4,\n",
       "  5,\n",
       "  2,\n",
       "  1,\n",
       "  2,\n",
       "  4,\n",
       "  5,\n",
       "  4,\n",
       "  5,\n",
       "  1,\n",
       "  3,\n",
       "  5,\n",
       "  7,\n",
       "  8,\n",
       "  1,\n",
       "  3,\n",
       "  4,\n",
       "  1,\n",
       "  7,\n",
       "  8,\n",
       "  1,\n",
       "  3,\n",
       "  4,\n",
       "  5,\n",
       "  2,\n",
       "  1,\n",
       "  2,\n",
       "  4,\n",
       "  5,\n",
       "  4,\n",
       "  5,\n",
       "  1,\n",
       "  3,\n",
       "  5,\n",
       "  7,\n",
       "  8,\n",
       "  1,\n",
       "  3,\n",
       "  4,\n",
       "  1,\n",
       "  7,\n",
       "  8,\n",
       "  1,\n",
       "  3,\n",
       "  4,\n",
       "  5,\n",
       "  2,\n",
       "  1,\n",
       "  2,\n",
       "  4,\n",
       "  5,\n",
       "  4,\n",
       "  5,\n",
       "  1,\n",
       "  3,\n",
       "  5,\n",
       "  7,\n",
       "  8,\n",
       "  1,\n",
       "  3,\n",
       "  4,\n",
       "  1,\n",
       "  7,\n",
       "  8,\n",
       "  1,\n",
       "  3,\n",
       "  4,\n",
       "  5,\n",
       "  2,\n",
       "  1,\n",
       "  2,\n",
       "  4,\n",
       "  5,\n",
       "  4,\n",
       "  5,\n",
       "  1,\n",
       "  3,\n",
       "  5,\n",
       "  7,\n",
       "  8,\n",
       "  1,\n",
       "  3,\n",
       "  4,\n",
       "  1,\n",
       "  7,\n",
       "  8,\n",
       "  1,\n",
       "  3,\n",
       "  4,\n",
       "  5,\n",
       "  2,\n",
       "  1,\n",
       "  2,\n",
       "  4,\n",
       "  5,\n",
       "  4,\n",
       "  5,\n",
       "  1,\n",
       "  3,\n",
       "  5,\n",
       "  7,\n",
       "  8,\n",
       "  1,\n",
       "  3,\n",
       "  4,\n",
       "  1,\n",
       "  7,\n",
       "  8,\n",
       "  1,\n",
       "  3,\n",
       "  4,\n",
       "  5,\n",
       "  2,\n",
       "  1,\n",
       "  2,\n",
       "  4,\n",
       "  5,\n",
       "  4,\n",
       "  5,\n",
       "  1,\n",
       "  3,\n",
       "  5,\n",
       "  7,\n",
       "  8,\n",
       "  1,\n",
       "  3,\n",
       "  4,\n",
       "  1,\n",
       "  7,\n",
       "  8,\n",
       "  1,\n",
       "  3,\n",
       "  4,\n",
       "  5,\n",
       "  2,\n",
       "  1,\n",
       "  2,\n",
       "  4,\n",
       "  5,\n",
       "  4,\n",
       "  5,\n",
       "  1,\n",
       "  3,\n",
       "  5,\n",
       "  7,\n",
       "  8,\n",
       "  1,\n",
       "  3,\n",
       "  4,\n",
       "  1,\n",
       "  7,\n",
       "  8,\n",
       "  1,\n",
       "  3,\n",
       "  4,\n",
       "  5,\n",
       "  2,\n",
       "  1,\n",
       "  2,\n",
       "  4,\n",
       "  5,\n",
       "  4,\n",
       "  5,\n",
       "  1,\n",
       "  3,\n",
       "  5,\n",
       "  7,\n",
       "  8,\n",
       "  1,\n",
       "  3,\n",
       "  4,\n",
       "  1,\n",
       "  7,\n",
       "  8,\n",
       "  1,\n",
       "  3,\n",
       "  4,\n",
       "  5,\n",
       "  2,\n",
       "  1,\n",
       "  2,\n",
       "  4,\n",
       "  5,\n",
       "  4,\n",
       "  5,\n",
       "  1,\n",
       "  3,\n",
       "  5,\n",
       "  7,\n",
       "  8,\n",
       "  1,\n",
       "  3,\n",
       "  4,\n",
       "  1,\n",
       "  7,\n",
       "  8,\n",
       "  1,\n",
       "  3,\n",
       "  4,\n",
       "  5,\n",
       "  2,\n",
       "  1,\n",
       "  2,\n",
       "  4,\n",
       "  5,\n",
       "  4,\n",
       "  5,\n",
       "  1,\n",
       "  3,\n",
       "  5,\n",
       "  7,\n",
       "  8,\n",
       "  1,\n",
       "  3,\n",
       "  4,\n",
       "  ...],\n",
       " '_i24': 'suma = 0\\nfor numero in numeros:\\n    if numero < 5 and numero%2 == 0:\\n        suma = suma + numero\\nprint(suma)',\n",
       " 'suma': 200000000,\n",
       " 'numero': 5,\n",
       " '_i25': 'x % 2',\n",
       " '_i26': 'x = 11\\nx % 2',\n",
       " 'x': 10,\n",
       " '_26': 1,\n",
       " '_i27': 'x = 11\\nx % 2 == 0',\n",
       " '_27': False,\n",
       " '_i28': 'x = 11\\nnot (x % 2)',\n",
       " '_28': False,\n",
       " '_i29': 'x = 10\\nnot (x % 2)',\n",
       " '_29': True,\n",
       " '_i30': 'x = 10\\nnot (x !% 2)',\n",
       " '_i31': 'x = 10\\nnot (x % 2)',\n",
       " '_31': True,\n",
       " '_i32': 'filter(lambda x: x < 5 and not x % 2,numeros)',\n",
       " '_32': <filter at 0x111cdaa90>,\n",
       " '_i33': 'sum(filter(lambda x: x < 5 and not x % 2,numeros))',\n",
       " '_33': 20,\n",
       " '_i34': 'sum(filter(lambda x: x < 5 and not x % 2, numeros))',\n",
       " '_34': 20,\n",
       " '_i35': 'import time',\n",
       " 'time': <module 'time' (built-in)>,\n",
       " '_i36': 'start = time.time()\\nsuma = 0\\nfor numero in numeros:\\n    if numero < 5 and numero%2 == 0:\\n        suma = suma + numero\\nprint(suma)\\nend = time.time()\\nprint(end - start)',\n",
       " 'start': 1613504579.776274,\n",
       " 'end': 1613504583.246458,\n",
       " '_i37': 'start = time.time()\\nprint(sum(filter(lambda x: x < 5 and not x % 2, numeros)))\\nend = time.time()\\nprint(end - start)',\n",
       " '_i38': 'start = time.time()\\nsuma = 0\\nfor numero in numeros:\\n    if numero < 5 and numero%2 == 0:\\n        suma = suma + numero\\nprint(suma)\\nend = time.time()\\nprint(end - start)',\n",
       " '_i39': 'start = time.time()\\nprint(sum(filter(lambda x: x < 5 and not x % 2, numeros)))\\nend = time.time()\\nprint(end - start)',\n",
       " '_i40': 'start = time.time()\\nsuma = 0\\nfor numero in numeros:\\n    if numero < 5 and numero%2 == 0:\\n        suma = suma + numero\\nprint(suma)\\nend = time.time()\\nprint(end - start)',\n",
       " '_i41': 'start = time.time()\\nprint(sum(filter(lambda x: x < 5 and not x % 2, numeros)))\\nend = time.time()\\nprint(end - start)',\n",
       " '_i42': 'start = time.time()\\nsuma = 0\\nfor numero in numeros:\\n    if numero < 5 and numero%2 == 0:\\n        suma = suma + numero\\nprint(suma)\\nend = time.time()\\nprint(end - start)',\n",
       " '_i43': 'start = time.time()\\nprint(sum(filter(lambda x: x < 5 and not x % 2, numeros)))\\nend = time.time()\\nprint(end - start)',\n",
       " '_i44': 'start = time.time()\\nsuma = 0\\nfor numero in numeros:\\n    if numero < 5 and numero%2 == 0:\\n        suma = suma + numero\\nprint(suma)\\nend = time.time()\\nprint(end - start)',\n",
       " '_i45': 'start = time.time()\\nprint(sum(filter(lambda x: x < 5 and not x % 2, numeros)))\\nend = time.time()\\nprint(end - start)',\n",
       " '_i46': 'start = time.time()\\nsuma = 0\\nfor numero in numeros:\\n    if numero < 5 and numero%2 == 0:\\n        suma = suma + numero\\nprint(suma)\\nend = time.time()\\nprint(end - start)',\n",
       " '_i47': 'start = time.time()\\nprint(sum(filter(lambda x: x < 5 and not x % 2, numeros)))\\nend = time.time()\\nprint(end - start)',\n",
       " '_i48': 'start = time.time()\\nsuma = 0\\nfor numero in numeros:\\n    if numero < 5 and numero%2 == 0:\\n        suma = suma + numero\\nprint(suma)\\nend = time.time()\\nprint(end - start)',\n",
       " '_i49': 'start = time.time()\\nprint(sum(filter(lambda x: x < 5 and not x % 2, numeros)))\\nend = time.time()\\nprint(end - start)',\n",
       " '_i50': 'numeros = [4,5,1,3,5,7,8,1,3,4,1,7,8,1,3,4,5,2,1,2,4,5] * 100',\n",
       " '_i51': 'start = time.time()\\nsuma = 0\\nfor numero in numeros:\\n    if numero < 5 and numero%2 == 0:\\n        suma = suma + numero\\nprint(suma)\\nend = time.time()\\nprint(end - start)',\n",
       " '_i52': 'start = time.time()\\nprint(sum(filter(lambda x: x < 5 and not x % 2, numeros)))\\nend = time.time()\\nprint(end - start)',\n",
       " '_i53': 'numeros = [4,5,1,3,5,7,8,1,3,4,1,7,8,1,3,4,5,2,1,2,4,5] * 10000',\n",
       " '_i54': 'start = time.time()\\nsuma = 0\\nfor numero in numeros:\\n    if numero < 5 and numero%2 == 0:\\n        suma = suma + numero\\nprint(suma)\\nend = time.time()\\nprint(end - start)',\n",
       " '_i55': 'start = time.time()\\nprint(sum(filter(lambda x: x < 5 and not x % 2, numeros)))\\nend = time.time()\\nprint(end - start)',\n",
       " '_i56': 'numeros = [4,5,1,3,5,7,8,1,3,4,1,7,8,1,3,4,5,2,1,2,4,5] * 100000',\n",
       " '_i57': 'start = time.time()\\nsuma = 0\\nfor numero in numeros:\\n    if numero < 5 and numero%2 == 0:\\n        suma = suma + numero\\nprint(suma)\\nend = time.time()\\nprint(end - start)',\n",
       " '_i58': 'start = time.time()\\nprint(sum(filter(lambda x: x < 5 and not x % 2, numeros)))\\nend = time.time()\\nprint(end - start)',\n",
       " '_i59': 'start = time.time()\\nsuma = 0\\nfor numero in numeros:\\n    if numero < 5 and numero%2 == 0:\\n        suma = suma + numero\\nprint(suma)\\nend = time.time()\\nprint(end - start)',\n",
       " '_i60': 'start = time.time()\\nprint(sum(filter(lambda x: x < 5 and not x % 2, numeros)))\\nend = time.time()\\nprint(end - start)',\n",
       " '_i61': 'start = time.time()\\nsuma = 0\\nfor numero in numeros:\\n    if numero < 5 and numero%2 == 0:\\n        suma = suma + numero\\nprint(suma)\\nend = time.time()\\nprint(end - start)',\n",
       " '_i62': 'start = time.time()\\nprint(sum(filter(lambda x: x < 5 and not x % 2, numeros)))\\nend = time.time()\\nprint(end - start)',\n",
       " '_i63': 'start = time.time()\\nsuma = 0\\nfor numero in numeros:\\n    if numero < 5 and numero%2 == 0:\\n        suma = suma + numero\\nprint(suma)\\nend = time.time()\\nprint(end - start)',\n",
       " '_i64': 'start = time.time()\\nprint(sum(filter(lambda x: x < 5 and not x % 2, numeros)))\\nend = time.time()\\nprint(end - start)',\n",
       " '_i65': 'start = time.time()\\nsuma = 0\\nfor numero in numeros:\\n    if numero < 5 and numero%2 == 0:\\n        suma = suma + numero\\nprint(suma)\\nend = time.time()\\nprint(end - start)',\n",
       " '_i66': 'start = time.time()\\nprint(sum(filter(lambda x: x < 5 and not x % 2, numeros)))\\nend = time.time()\\nprint(end - start)',\n",
       " '_i67': 'start = time.time()\\nsuma = 0\\nfor numero in numeros:\\n    if numero < 5 and numero%2 == 0:\\n        suma = suma + numero\\nprint(suma)\\nend = time.time()\\nprint(end - start)',\n",
       " '_i68': 'start = time.time()\\nprint(sum(filter(lambda x: x < 5 and not x % 2, numeros)))\\nend = time.time()\\nprint(end - start)',\n",
       " '_i69': 'numeros = [4,5,1,3,5,7,8,1,3,4,1,7,8,1,3,4,5,2,1,2,4,5] * 1000000',\n",
       " '_i70': 'start = time.time()\\nsuma = 0\\nfor numero in numeros:\\n    if numero < 5 and numero%2 == 0:\\n        suma = suma + numero\\nprint(suma)\\nend = time.time()\\nprint(end - start)',\n",
       " '_i71': 'start = time.time()\\nprint(sum(filter(lambda x: x < 5 and not x % 2, numeros)))\\nend = time.time()\\nprint(end - start)',\n",
       " '_i72': 'start = time.time()\\nsuma = 0\\nfor numero in numeros:\\n    if numero < 5 and numero%2 == 0:\\n        suma = suma + numero\\nprint(suma)\\nend = time.time()\\nprint(end - start)',\n",
       " '_i73': 'start = time.time()\\nprint(sum(filter(lambda x: x < 5 and not x % 2, numeros)))\\nend = time.time()\\nprint(end - start)',\n",
       " '_i74': 'nums = np.array(numeros)\\nnp.extract(nums < 5 and not nums % 2, nums)',\n",
       " 'nums': array([4, 5, 1, ..., 2, 4, 5]),\n",
       " '_i75': 'nums = np.array(numeros)\\nnp.extract((nums < 5) && (not nums % 2), nums)',\n",
       " '_i76': 'nums = np.array(numeros)\\nnp.extract((nums < 5) & (not nums % 2), nums)',\n",
       " '_i77': 'nums = np.array(numeros)\\nnp.extract((nums < 5) & (! nums % 2), nums)',\n",
       " '_i78': 'nums = np.array(numeros)\\nnp.extract((nums < 5) & !(nums % 2), nums)',\n",
       " '_i79': 'nums = np.array(numeros)\\nnp.extract((nums < 5) & (nums % 2), nums)',\n",
       " '_79': array([1, 3, 1, ..., 1, 3, 1]),\n",
       " '_i80': 'nums = np.array(numeros)\\nnp.extract((nums < 5) & not (nums % 2), nums)',\n",
       " '_i81': 'nums = np.array(numeros)\\nnp.extract((nums < 5) &  (!(nums % 2), nums)',\n",
       " '_i82': 'nums = np.array(numeros)\\nnp.extract((nums < 5) &  (!(nums % 2)), nums)',\n",
       " '_i83': 'nums = np.array(numeros)\\nnp.extract((nums < 5) &  (not(nums % 2)), nums)',\n",
       " '_i84': 'nums = np.array(numeros)\\nnp.extract((nums < 5) &  (~(nums % 2)), nums)',\n",
       " '_84': array([4, 4, 4, ..., 2, 2, 4]),\n",
       " '_i85': 'nums = np.array(numeros)\\nnp.extract((nums < 5) &  ~(nums % 2), nums)',\n",
       " '_85': array([4, 4, 4, ..., 2, 2, 4]),\n",
       " '_i86': 'nums = np.array(numeros)\\nnp.extract((nums < 5) &  ~(nums % 2), nums).sum()',\n",
       " '_86': 20000000,\n",
       " '_i87': 'start = time.time()\\nnums = np.array(numeros)\\nnp.extract((nums < 5) &  ~(nums % 2), nums).sum()\\nend = time.time()\\nprint(end - start)',\n",
       " '_i88': 'start = time.time()\\nsuma = 0\\nfor numero in numeros:\\n    if numero < 5 and numero%2 == 0:\\n        suma = suma + numero\\nprint(suma)\\nend = time.time()\\nprint(end - start)',\n",
       " '_i89': 'start = time.time()\\nprint(sum(filter(lambda x: x < 5 and not x % 2, numeros)))\\nend = time.time()\\nprint(end - start)',\n",
       " '_i90': 'start = time.time()\\nnums = np.array(numeros)\\nnp.extract((nums < 5) &  ~(nums % 2), nums).sum()\\nend = time.time()\\nprint(end - start)',\n",
       " '_i91': 'numeros = [4,5,1,3,5,7,8,1,3,4,1,7,8,1,3,4,5,2,1,2,4,5] * 10000000',\n",
       " '_i92': 'start = time.time()\\nsuma = 0\\nfor numero in numeros:\\n    if numero < 5 and numero%2 == 0:\\n        suma = suma + numero\\nprint(suma)\\nend = time.time()\\nprint(end - start)',\n",
       " '_i93': 'start = time.time()\\nprint(sum(filter(lambda x: x < 5 and not x % 2, numeros)))\\nend = time.time()\\nprint(end - start)',\n",
       " '_i94': 'start = time.time()\\nnums = np.array(numeros)\\nnp.extract((nums < 5) &  ~(nums % 2), nums).sum()\\nend = time.time()\\nprint(end - start)',\n",
       " '_i95': 'nums = np.array(numeros)\\nstart = time.time()\\nnp.extract((nums < 5) &  ~(nums % 2), nums).sum()\\nend = time.time()\\nprint(end - start)',\n",
       " '_i96': 'nums = np.array(numeros)\\nstart = time.time()\\nnp.extract((nums < 5) &  ~(nums % 2), nums).sum()\\nend = time.time()\\nprint(end - start)',\n",
       " '_i97': 'numeros = [4,5,1,3,5,7,8,1,3,4,1,7,8,1,3,4,5,2,1,2,4,5] * 10000000\\nnums = np.array(numeros)',\n",
       " '_i98': 'start = time.time()\\nsuma = 0\\nfor numero in numeros:\\n    if numero < 5 and numero%2 == 0:\\n        suma = suma + numero\\nprint(suma)\\nend = time.time()\\nprint(end - start)',\n",
       " '_i99': 'start = time.time()\\nprint(sum(filter(lambda x: x < 5 and not x % 2, numeros)))\\nend = time.time()\\nprint(end - start)',\n",
       " '_i100': 'start = time.time()\\nnp.extract((nums < 5) &  ~(nums % 2), nums).sum()\\nend = time.time()\\nprint(end - start)',\n",
       " '_i101': 'import time',\n",
       " '_i102': 'numeros = [4,5,1,3,5,7,8,1,3,4,1,7,8,1,3,4,5,2,1,2,4,5] * 10000000\\nnums = np.array(numeros)',\n",
       " '_i103': \"start = time.time()\\nsuma = 0\\nfor numero in numeros:\\n    if numero < 5 and numero%2 == 0:\\n        suma = suma + numero\\nprint(suma)\\nend = time.time()\\nprint(f'tiempo de ejecución: {end - start}')\",\n",
       " '_i104': \"start = time.time()\\nprint(sum(filter(lambda x: x < 5 and not x % 2, numeros)))\\nend = time.time()\\nprint(f'tiempo de ejecución: {end - start}')\",\n",
       " '_i105': \"start = time.time()\\nnp.extract((nums < 5) &  ~(nums % 2), nums).sum()\\nend = time.time()\\nprint(f'tiempo de ejecución: {end - start}')\",\n",
       " '_i106': \"start = time.time()\\nsuma = 0\\nfor numero in numeros:\\n    if numero < 5 and numero%2 == 0:\\n        suma = suma + numero\\nprint(suma)\\nend = time.time()\\nprint(f'tiempo de ejecución: {end - start}')\",\n",
       " '_i107': \"start = time.time()\\nsum = sum(filter(lambda x: x < 5 and not x % 2, numeros))\\nprint(suma)\\nend = time.time()\\nprint(f'tiempo de ejecución: {end - start}')\",\n",
       " 'sum': 200000000,\n",
       " '_i108': \"start = time.time()\\nsuma = np.extract((nums < 5) &  ~(nums % 2), nums).sum()\\nprint(suma)\\nend = time.time()\\nprint(f'tiempo de ejecución: {end - start}')\",\n",
       " '_i109': 'rage(1,10,1)',\n",
       " '_i110': 'range(1,10,1)',\n",
       " '_110': range(1, 10),\n",
       " '_i111': 'list(range(1,10,1))',\n",
       " '_111': [1, 2, 3, 4, 5, 6, 7, 8, 9],\n",
       " '_i112': 'np.arange(1,10,1)',\n",
       " '_112': array([1, 2, 3, 4, 5, 6, 7, 8, 9]),\n",
       " '_i113': 'local()',\n",
       " '_i114': 'locals()'}"
      ]
     },
     "execution_count": 114,
     "metadata": {},
     "output_type": "execute_result"
    }
   ],
   "source": [
    "locals()"
   ]
  },
  {
   "cell_type": "code",
   "execution_count": 115,
   "metadata": {},
   "outputs": [],
   "source": [
    "a = True"
   ]
  },
  {
   "cell_type": "code",
   "execution_count": 116,
   "metadata": {},
   "outputs": [],
   "source": [
    "b = False"
   ]
  },
  {
   "cell_type": "code",
   "execution_count": 122,
   "metadata": {},
   "outputs": [
    {
     "ename": "NameError",
     "evalue": "name 'z' is not defined",
     "output_type": "error",
     "traceback": [
      "\u001b[0;31m---------------------------------------------------------------------------\u001b[0m",
      "\u001b[0;31mNameError\u001b[0m                                 Traceback (most recent call last)",
      "\u001b[0;32m<ipython-input-122-e2d18723f1cb>\u001b[0m in \u001b[0;36m<module>\u001b[0;34m\u001b[0m\n\u001b[0;32m----> 1\u001b[0;31m \u001b[0many\u001b[0m\u001b[0;34m(\u001b[0m\u001b[0;34m[\u001b[0m\u001b[0ma\u001b[0m\u001b[0;34m,\u001b[0m\u001b[0mz\u001b[0m\u001b[0;34m]\u001b[0m\u001b[0;34m)\u001b[0m\u001b[0;34m\u001b[0m\u001b[0;34m\u001b[0m\u001b[0m\n\u001b[0m",
      "\u001b[0;31mNameError\u001b[0m: name 'z' is not defined"
     ]
    }
   ],
   "source": [
    "any([a,z])"
   ]
  },
  {
   "cell_type": "code",
   "execution_count": 119,
   "metadata": {},
   "outputs": [
    {
     "data": {
      "text/plain": [
       "[True, False, True]"
      ]
     },
     "execution_count": 119,
     "metadata": {},
     "output_type": "execute_result"
    }
   ],
   "source": []
  },
  {
   "cell_type": "code",
   "execution_count": 29,
   "metadata": {},
   "outputs": [
    {
     "data": {
      "text/plain": [
       "-1"
      ]
     },
     "execution_count": 29,
     "metadata": {},
     "output_type": "execute_result"
    }
   ],
   "source": [
    "~ False"
   ]
  },
  {
   "cell_type": "code",
   "execution_count": 30,
   "metadata": {},
   "outputs": [
    {
     "data": {
      "text/plain": [
       "-2"
      ]
     },
     "execution_count": 30,
     "metadata": {},
     "output_type": "execute_result"
    }
   ],
   "source": [
    "~ True"
   ]
  },
  {
   "cell_type": "code",
   "execution_count": 31,
   "metadata": {},
   "outputs": [
    {
     "data": {
      "text/plain": [
       "-11"
      ]
     },
     "execution_count": 31,
     "metadata": {},
     "output_type": "execute_result"
    }
   ],
   "source": [
    "~10"
   ]
  },
  {
   "cell_type": "code",
   "execution_count": 32,
   "metadata": {},
   "outputs": [
    {
     "name": "stdout",
     "output_type": "stream",
     "text": [
      "True\n",
      "True\n",
      "-1\n"
     ]
    }
   ],
   "source": [
    "p = True\n",
    "q = False\n",
    "print(p or q)\n",
    "print(p or not q)\n",
    "print(p | ~ q)"
   ]
  },
  {
   "cell_type": "code",
   "execution_count": 33,
   "metadata": {},
   "outputs": [
    {
     "data": {
      "text/plain": [
       "-2"
      ]
     },
     "execution_count": 33,
     "metadata": {},
     "output_type": "execute_result"
    }
   ],
   "source": [
    "~True"
   ]
  },
  {
   "cell_type": "code",
   "execution_count": 34,
   "metadata": {},
   "outputs": [
    {
     "data": {
      "text/plain": [
       "-1"
      ]
     },
     "execution_count": 34,
     "metadata": {},
     "output_type": "execute_result"
    }
   ],
   "source": [
    "~False"
   ]
  },
  {
   "cell_type": "code",
   "execution_count": 35,
   "metadata": {},
   "outputs": [
    {
     "data": {
      "text/plain": [
       "1"
      ]
     },
     "execution_count": 35,
     "metadata": {},
     "output_type": "execute_result"
    }
   ],
   "source": [
    "~-2"
   ]
  },
  {
   "cell_type": "code",
   "execution_count": null,
   "metadata": {},
   "outputs": [],
   "source": []
  }
 ],
 "metadata": {
  "kernelspec": {
   "display_name": "Python 3",
   "language": "python",
   "name": "python3"
  },
  "language_info": {
   "codemirror_mode": {
    "name": "ipython",
    "version": 3
   },
   "file_extension": ".py",
   "mimetype": "text/x-python",
   "name": "python",
   "nbconvert_exporter": "python",
   "pygments_lexer": "ipython3",
   "version": "3.8.2"
  }
 },
 "nbformat": 4,
 "nbformat_minor": 4
}
