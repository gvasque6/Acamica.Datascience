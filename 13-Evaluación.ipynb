{
 "cells": [
  {
   "cell_type": "markdown",
   "metadata": {
    "id": "Jf0EsBX92WWk"
   },
   "source": [
    "# Evaluación de Modelos\n",
    "\n",
    "\n",
    "En este notebook veremos cómo implementar los pasos necesarios para una correcta evaluación de modelos. Las secciones del notebook son:\n",
    "1. Comenzaremos con nuestro infaltable ejemplo con el dataset de Iris, implementando un `train_test_split` y, luego, optimización de hiperparámetros. A esta altura, ya debés estar cansado/a de este dataset. Pero si entiendes bien este ejemplo, el resto será más fácil.\n",
    "2. En esta sección, debes aplicar lo aprendido en el dataset de Titanic.\n",
    "\n",
    "## 1. Train-Test Split y Optimización de Hiperparámetros\n",
    "\n",
    "### 1.1 Train-Test Split\n",
    "\n",
    "1. Carga del dataset y separa en `X` e `y` como venimos haciendo."
   ]
  },
  {
   "cell_type": "code",
   "execution_count": 61,
   "metadata": {
    "executionInfo": {
     "elapsed": 449,
     "status": "ok",
     "timestamp": 1615946078243,
     "user": {
      "displayName": "mario puentes",
      "photoUrl": "",
      "userId": "06193586855972744289"
     },
     "user_tz": 300
    },
    "id": "4WOTktcG2WWt",
    "scrolled": true
   },
   "outputs": [],
   "source": [
    "import pandas as pd\n",
    "import numpy as np\n",
    "\n",
    "import matplotlib.pyplot as plt\n",
    "import seaborn as sns\n",
    "\n",
    "from sklearn.datasets import load_iris"
   ]
  },
  {
   "cell_type": "code",
   "execution_count": 62,
   "metadata": {
    "colab": {
     "base_uri": "https://localhost:8080/",
     "height": 204
    },
    "executionInfo": {
     "elapsed": 431,
     "status": "ok",
     "timestamp": 1615946080862,
     "user": {
      "displayName": "mario puentes",
      "photoUrl": "",
      "userId": "06193586855972744289"
     },
     "user_tz": 300
    },
    "id": "UOxvkXsQ2WWu",
    "outputId": "a6696158-e904-4747-bc9b-aa16f2591779"
   },
   "outputs": [
    {
     "data": {
      "text/html": [
       "<div>\n",
       "<style scoped>\n",
       "    .dataframe tbody tr th:only-of-type {\n",
       "        vertical-align: middle;\n",
       "    }\n",
       "\n",
       "    .dataframe tbody tr th {\n",
       "        vertical-align: top;\n",
       "    }\n",
       "\n",
       "    .dataframe thead th {\n",
       "        text-align: right;\n",
       "    }\n",
       "</style>\n",
       "<table border=\"1\" class=\"dataframe\">\n",
       "  <thead>\n",
       "    <tr style=\"text-align: right;\">\n",
       "      <th></th>\n",
       "      <th>sepal length (cm)</th>\n",
       "      <th>sepal width (cm)</th>\n",
       "      <th>petal length (cm)</th>\n",
       "      <th>petal width (cm)</th>\n",
       "      <th>target</th>\n",
       "    </tr>\n",
       "  </thead>\n",
       "  <tbody>\n",
       "    <tr>\n",
       "      <th>0</th>\n",
       "      <td>5.1</td>\n",
       "      <td>3.5</td>\n",
       "      <td>1.4</td>\n",
       "      <td>0.2</td>\n",
       "      <td>0.0</td>\n",
       "    </tr>\n",
       "    <tr>\n",
       "      <th>1</th>\n",
       "      <td>4.9</td>\n",
       "      <td>3.0</td>\n",
       "      <td>1.4</td>\n",
       "      <td>0.2</td>\n",
       "      <td>0.0</td>\n",
       "    </tr>\n",
       "    <tr>\n",
       "      <th>2</th>\n",
       "      <td>4.7</td>\n",
       "      <td>3.2</td>\n",
       "      <td>1.3</td>\n",
       "      <td>0.2</td>\n",
       "      <td>0.0</td>\n",
       "    </tr>\n",
       "    <tr>\n",
       "      <th>3</th>\n",
       "      <td>4.6</td>\n",
       "      <td>3.1</td>\n",
       "      <td>1.5</td>\n",
       "      <td>0.2</td>\n",
       "      <td>0.0</td>\n",
       "    </tr>\n",
       "    <tr>\n",
       "      <th>4</th>\n",
       "      <td>5.0</td>\n",
       "      <td>3.6</td>\n",
       "      <td>1.4</td>\n",
       "      <td>0.2</td>\n",
       "      <td>0.0</td>\n",
       "    </tr>\n",
       "  </tbody>\n",
       "</table>\n",
       "</div>"
      ],
      "text/plain": [
       "   sepal length (cm)  sepal width (cm)  petal length (cm)  petal width (cm)  \\\n",
       "0                5.1               3.5                1.4               0.2   \n",
       "1                4.9               3.0                1.4               0.2   \n",
       "2                4.7               3.2                1.3               0.2   \n",
       "3                4.6               3.1                1.5               0.2   \n",
       "4                5.0               3.6                1.4               0.2   \n",
       "\n",
       "   target  \n",
       "0     0.0  \n",
       "1     0.0  \n",
       "2     0.0  \n",
       "3     0.0  \n",
       "4     0.0  "
      ]
     },
     "execution_count": 62,
     "metadata": {},
     "output_type": "execute_result"
    }
   ],
   "source": [
    "iris = load_iris()\n",
    "data = pd.DataFrame(data= np.c_[iris['data'], iris['target']],\n",
    "                     columns= iris['feature_names'] + ['target'])\n",
    "data.head()"
   ]
  },
  {
   "cell_type": "code",
   "execution_count": 63,
   "metadata": {
    "executionInfo": {
     "elapsed": 461,
     "status": "ok",
     "timestamp": 1615946095663,
     "user": {
      "displayName": "mario puentes",
      "photoUrl": "",
      "userId": "06193586855972744289"
     },
     "user_tz": 300
    },
    "id": "z5rkzbQF2WWv"
   },
   "outputs": [],
   "source": [
    "X = data.drop(\"target\", axis=1)\n",
    "# X = data[['petal length (cm)', 'petal width (cm)']]\n",
    "y = data.target"
   ]
  },
  {
   "cell_type": "code",
   "execution_count": 68,
   "metadata": {
    "colab": {
     "base_uri": "https://localhost:8080/",
     "height": 204
    },
    "executionInfo": {
     "elapsed": 466,
     "status": "ok",
     "timestamp": 1615946097166,
     "user": {
      "displayName": "mario puentes",
      "photoUrl": "",
      "userId": "06193586855972744289"
     },
     "user_tz": 300
    },
    "id": "llbRkA242WWw",
    "outputId": "7abd2996-bfe7-48b8-8773-83eef3b8c329"
   },
   "outputs": [
    {
     "data": {
      "text/html": [
       "<div>\n",
       "<style scoped>\n",
       "    .dataframe tbody tr th:only-of-type {\n",
       "        vertical-align: middle;\n",
       "    }\n",
       "\n",
       "    .dataframe tbody tr th {\n",
       "        vertical-align: top;\n",
       "    }\n",
       "\n",
       "    .dataframe thead th {\n",
       "        text-align: right;\n",
       "    }\n",
       "</style>\n",
       "<table border=\"1\" class=\"dataframe\">\n",
       "  <thead>\n",
       "    <tr style=\"text-align: right;\">\n",
       "      <th></th>\n",
       "      <th>sepal length (cm)</th>\n",
       "      <th>sepal width (cm)</th>\n",
       "      <th>petal length (cm)</th>\n",
       "      <th>petal width (cm)</th>\n",
       "    </tr>\n",
       "  </thead>\n",
       "  <tbody>\n",
       "    <tr>\n",
       "      <th>0</th>\n",
       "      <td>5.1</td>\n",
       "      <td>3.5</td>\n",
       "      <td>1.4</td>\n",
       "      <td>0.2</td>\n",
       "    </tr>\n",
       "    <tr>\n",
       "      <th>1</th>\n",
       "      <td>4.9</td>\n",
       "      <td>3.0</td>\n",
       "      <td>1.4</td>\n",
       "      <td>0.2</td>\n",
       "    </tr>\n",
       "    <tr>\n",
       "      <th>2</th>\n",
       "      <td>4.7</td>\n",
       "      <td>3.2</td>\n",
       "      <td>1.3</td>\n",
       "      <td>0.2</td>\n",
       "    </tr>\n",
       "    <tr>\n",
       "      <th>3</th>\n",
       "      <td>4.6</td>\n",
       "      <td>3.1</td>\n",
       "      <td>1.5</td>\n",
       "      <td>0.2</td>\n",
       "    </tr>\n",
       "    <tr>\n",
       "      <th>4</th>\n",
       "      <td>5.0</td>\n",
       "      <td>3.6</td>\n",
       "      <td>1.4</td>\n",
       "      <td>0.2</td>\n",
       "    </tr>\n",
       "    <tr>\n",
       "      <th>...</th>\n",
       "      <td>...</td>\n",
       "      <td>...</td>\n",
       "      <td>...</td>\n",
       "      <td>...</td>\n",
       "    </tr>\n",
       "    <tr>\n",
       "      <th>145</th>\n",
       "      <td>6.7</td>\n",
       "      <td>3.0</td>\n",
       "      <td>5.2</td>\n",
       "      <td>2.3</td>\n",
       "    </tr>\n",
       "    <tr>\n",
       "      <th>146</th>\n",
       "      <td>6.3</td>\n",
       "      <td>2.5</td>\n",
       "      <td>5.0</td>\n",
       "      <td>1.9</td>\n",
       "    </tr>\n",
       "    <tr>\n",
       "      <th>147</th>\n",
       "      <td>6.5</td>\n",
       "      <td>3.0</td>\n",
       "      <td>5.2</td>\n",
       "      <td>2.0</td>\n",
       "    </tr>\n",
       "    <tr>\n",
       "      <th>148</th>\n",
       "      <td>6.2</td>\n",
       "      <td>3.4</td>\n",
       "      <td>5.4</td>\n",
       "      <td>2.3</td>\n",
       "    </tr>\n",
       "    <tr>\n",
       "      <th>149</th>\n",
       "      <td>5.9</td>\n",
       "      <td>3.0</td>\n",
       "      <td>5.1</td>\n",
       "      <td>1.8</td>\n",
       "    </tr>\n",
       "  </tbody>\n",
       "</table>\n",
       "<p>150 rows × 4 columns</p>\n",
       "</div>"
      ],
      "text/plain": [
       "     sepal length (cm)  sepal width (cm)  petal length (cm)  petal width (cm)\n",
       "0                  5.1               3.5                1.4               0.2\n",
       "1                  4.9               3.0                1.4               0.2\n",
       "2                  4.7               3.2                1.3               0.2\n",
       "3                  4.6               3.1                1.5               0.2\n",
       "4                  5.0               3.6                1.4               0.2\n",
       "..                 ...               ...                ...               ...\n",
       "145                6.7               3.0                5.2               2.3\n",
       "146                6.3               2.5                5.0               1.9\n",
       "147                6.5               3.0                5.2               2.0\n",
       "148                6.2               3.4                5.4               2.3\n",
       "149                5.9               3.0                5.1               1.8\n",
       "\n",
       "[150 rows x 4 columns]"
      ]
     },
     "execution_count": 68,
     "metadata": {},
     "output_type": "execute_result"
    }
   ],
   "source": [
    "X"
   ]
  },
  {
   "cell_type": "code",
   "execution_count": 65,
   "metadata": {
    "colab": {
     "base_uri": "https://localhost:8080/"
    },
    "executionInfo": {
     "elapsed": 440,
     "status": "ok",
     "timestamp": 1615946099748,
     "user": {
      "displayName": "mario puentes",
      "photoUrl": "",
      "userId": "06193586855972744289"
     },
     "user_tz": 300
    },
    "id": "o68QfHtb2WWw",
    "outputId": "d9b4d0fe-b7cb-4562-e4d5-a4a5a8da51d7"
   },
   "outputs": [
    {
     "data": {
      "text/plain": [
       "0    0.0\n",
       "1    0.0\n",
       "2    0.0\n",
       "3    0.0\n",
       "4    0.0\n",
       "Name: target, dtype: float64"
      ]
     },
     "execution_count": 65,
     "metadata": {},
     "output_type": "execute_result"
    }
   ],
   "source": [
    "y.head()"
   ]
  },
  {
   "cell_type": "markdown",
   "metadata": {
    "id": "o_NhWJe92WWx"
   },
   "source": [
    "Luego, como aprendimos, vamos a separar el dataset en conjuntos de entrenamiento `X_train, y_train` y de testeo `X_test,y_test` usando la función `train_test_split` de Scikit-Learn (¡recuerda mirar su documentación e importarla!). Esto lo hacemos para separar parte de los datos `X_test,y_test` con los cuales **no vamos a entrenar el modelo, sino que vamos a usarlos únicamente para evaluar su desempeño**.\n",
    "\n",
    "2. Separa `X` e `y`, tomando en las variables `X_train, y_train` un 70% para entrenamiento y en las variables `X_test,y_test` un 30% para evaluación. Recuerda fijar el `random_state`."
   ]
  },
  {
   "cell_type": "code",
   "execution_count": 129,
   "metadata": {
    "executionInfo": {
     "elapsed": 451,
     "status": "ok",
     "timestamp": 1615946156281,
     "user": {
      "displayName": "mario puentes",
      "photoUrl": "",
      "userId": "06193586855972744289"
     },
     "user_tz": 300
    },
    "id": "z7eLVojs2WWx"
   },
   "outputs": [],
   "source": [
    "from sklearn.model_selection import train_test_split\n",
    "\n",
    "\n",
    "X_train, X_test, y_train, y_test = train_test_split(X, y, test_size=0.30, stratify=y, random_state=42) # Separe el 10 % de los datos para test\n",
    "\n",
    "#X_train, X_validation, y_train, y_validation = train_test_split(X_train, y_train, test_size=0.30, stratify=y, random_state=42)"
   ]
  },
  {
   "cell_type": "code",
   "execution_count": 81,
   "metadata": {},
   "outputs": [
    {
     "data": {
      "text/plain": [
       "(60, 4)"
      ]
     },
     "execution_count": 81,
     "metadata": {},
     "output_type": "execute_result"
    }
   ],
   "source": [
    "X_test.shape"
   ]
  },
  {
   "cell_type": "markdown",
   "metadata": {
    "id": "be_dh4Ou2WWx"
   },
   "source": [
    "3. Crea un modelo de vecino más cercanos y entrénalo sobre el conjunto de Train."
   ]
  },
  {
   "cell_type": "code",
   "execution_count": 82,
   "metadata": {
    "executionInfo": {
     "elapsed": 462,
     "status": "ok",
     "timestamp": 1615947844559,
     "user": {
      "displayName": "mario puentes",
      "photoUrl": "",
      "userId": "06193586855972744289"
     },
     "user_tz": 300
    },
    "id": "TJqh3T512WWy"
   },
   "outputs": [],
   "source": [
    "from sklearn.neighbors import KNeighborsClassifier\n",
    "\n",
    "n_neighbors = 5\n",
    "clf_knn = KNeighborsClassifier(n_neighbors=n_neighbors)"
   ]
  },
  {
   "cell_type": "code",
   "execution_count": 83,
   "metadata": {
    "colab": {
     "base_uri": "https://localhost:8080/"
    },
    "executionInfo": {
     "elapsed": 440,
     "status": "ok",
     "timestamp": 1615947847109,
     "user": {
      "displayName": "mario puentes",
      "photoUrl": "",
      "userId": "06193586855972744289"
     },
     "user_tz": 300
    },
    "id": "rkoogfsR2WWy",
    "outputId": "79f40ad3-d8d5-4fa0-9b97-a11140c1435b"
   },
   "outputs": [
    {
     "data": {
      "text/plain": [
       "KNeighborsClassifier()"
      ]
     },
     "execution_count": 83,
     "metadata": {},
     "output_type": "execute_result"
    }
   ],
   "source": [
    "clf_knn.fit(X_train, y_train)"
   ]
  },
  {
   "cell_type": "markdown",
   "metadata": {
    "id": "IjlbjVm82WWz"
   },
   "source": [
    "4. Predice las etiquetas sobre el conjunto de Train y sobre el conjunto de Test."
   ]
  },
  {
   "cell_type": "code",
   "execution_count": 84,
   "metadata": {
    "executionInfo": {
     "elapsed": 488,
     "status": "ok",
     "timestamp": 1615947849946,
     "user": {
      "displayName": "mario puentes",
      "photoUrl": "",
      "userId": "06193586855972744289"
     },
     "user_tz": 300
    },
    "id": "lX3fMy1P2WWz"
   },
   "outputs": [],
   "source": [
    "y_train_pred = clf_knn.predict(X_train)\n",
    "y_test_pred = clf_knn.predict(X_test)"
   ]
  },
  {
   "cell_type": "markdown",
   "metadata": {
    "id": "7BK_LD0s2WWz"
   },
   "source": [
    "5. Evalúa el desempeño del modelo usando la función `accuracy_score` y la matriz de confusión sobre ambos conjuntos (Train y Test)."
   ]
  },
  {
   "cell_type": "code",
   "execution_count": 85,
   "metadata": {
    "executionInfo": {
     "elapsed": 466,
     "status": "ok",
     "timestamp": 1615947225711,
     "user": {
      "displayName": "mario puentes",
      "photoUrl": "",
      "userId": "06193586855972744289"
     },
     "user_tz": 300
    },
    "id": "4b_-9t6W2WWz"
   },
   "outputs": [],
   "source": [
    "from sklearn.metrics import accuracy_score, confusion_matrix"
   ]
  },
  {
   "cell_type": "code",
   "execution_count": 86,
   "metadata": {
    "colab": {
     "base_uri": "https://localhost:8080/"
    },
    "executionInfo": {
     "elapsed": 458,
     "status": "ok",
     "timestamp": 1615947851645,
     "user": {
      "displayName": "mario puentes",
      "photoUrl": "",
      "userId": "06193586855972744289"
     },
     "user_tz": 300
    },
    "id": "dRa6J8222WW0",
    "outputId": "7e14a1b9-d5da-4541-efec-bfed4bde7dcb"
   },
   "outputs": [
    {
     "name": "stdout",
     "output_type": "stream",
     "text": [
      "Porcentaje de aciertos sobre el set de entrenamiento: 0.9555555555555556\n",
      "Porcentaje de aciertos sobre el set de evaluación: 0.9333333333333333\n"
     ]
    }
   ],
   "source": [
    "train_acc = accuracy_score(y_train, y_train_pred)\n",
    "test_acc = accuracy_score(y_test, y_test_pred)\n",
    "\n",
    "print('Porcentaje de aciertos sobre el set de entrenamiento:', train_acc)\n",
    "print('Porcentaje de aciertos sobre el set de evaluación:', test_acc)"
   ]
  },
  {
   "cell_type": "code",
   "execution_count": 87,
   "metadata": {
    "colab": {
     "base_uri": "https://localhost:8080/"
    },
    "executionInfo": {
     "elapsed": 427,
     "status": "ok",
     "timestamp": 1615947697460,
     "user": {
      "displayName": "mario puentes",
      "photoUrl": "",
      "userId": "06193586855972744289"
     },
     "user_tz": 300
    },
    "id": "KcBiZuAK2WW0",
    "outputId": "023a4d4f-d570-4f0c-b300-e5645685ca7d"
   },
   "outputs": [
    {
     "data": {
      "text/plain": [
       "array([[30,  0,  0],\n",
       "       [ 0, 27,  3],\n",
       "       [ 0,  1, 29]])"
      ]
     },
     "execution_count": 87,
     "metadata": {},
     "output_type": "execute_result"
    }
   ],
   "source": [
    "confusion_matrix(y_train, y_train_pred)"
   ]
  },
  {
   "cell_type": "code",
   "execution_count": 88,
   "metadata": {
    "colab": {
     "base_uri": "https://localhost:8080/"
    },
    "executionInfo": {
     "elapsed": 471,
     "status": "ok",
     "timestamp": 1615947754770,
     "user": {
      "displayName": "mario puentes",
      "photoUrl": "",
      "userId": "06193586855972744289"
     },
     "user_tz": 300
    },
    "id": "wQxFcVYu2WW0",
    "outputId": "1ad7ec74-9d4b-46e0-a699-794ed58e36f5"
   },
   "outputs": [
    {
     "data": {
      "text/plain": [
       "array([[20,  0,  0],\n",
       "       [ 0, 20,  0],\n",
       "       [ 0,  4, 16]])"
      ]
     },
     "execution_count": 88,
     "metadata": {},
     "output_type": "execute_result"
    }
   ],
   "source": [
    "confusion_matrix(y_test, y_test_pred)"
   ]
  },
  {
   "cell_type": "markdown",
   "metadata": {
    "id": "78FQFQHG2WW1"
   },
   "source": [
    "**Para Pensar**:\n",
    "\n",
    "1. ¿Qué ocurre con el desempeño con número de vecinos igual a 1 y un número de vecinos grande (del orden del tamaño del dataset?\n",
    "2. ¿Cuál será el número óptimo de vecinos para este modelo?¿Cómo podrías obtenerlo?\n",
    "\n",
    "\n",
    "### 1.2 Encontrando el mejor hiperparámetro\n",
    "\n",
    "Durante el entrenamiento, el modelo ajusta ciertas característica intrínsecas que llamamos parámetros. Por ejemplo, un árbol de decisión debe decidir automáticamente con qué umbrales comparar ciertos atributos en cada nodo. Pero los hiperparámetros son características que debemos definir nosotros; por ejemplo, la profundidad del árbol o el número de vecinos. Optimización de hiperparámetros se lleva un tiempo considerable en un flujo de ML, y si bien hay técnicas más o menos automáticas para hacerlo, al final siempre tiene algo artesanal. Además, está fuertemente ligado a la evaluación de nuestro modelo: siempre optimizamos hiperparámetros dada cierta métrica. Esta métrica se define en función del problema, nuestras necesidades y posibilidades.\n",
    " \n",
    "La variación de hiperparámetros está asociada a la complejidad del modelo, al overfitting y al underfitting. Por ejemplo, en el caso de árboles de decisión, un árbol de profundidad 1 es mucho más sencillo que uno de profundidad 10. En el primer caso, el modelo tenderá a estar subajustado, mientras que en el segundo, sobreajustado. En esta sección vamos a empezar haciendo la optimización más sencilla posible, un sólo hiperparámetro. En este caso, una buena opción es probar con muchos valores del hiperparámetro, y graficar su desempeño en función de estos valores. De esta forma, variamos la complejidad del modelo y observámos como impacta en su desempeño. Estas curvas se llaman curvas de validación, y se pueden hacer automáticamente desde Scikit-Learn, pero primero las vamos a hacer *a mano* para entender bien su funcionamiento.\n",
    "\n",
    "Vamos a ver esto en el caso de un modelo de vecinos más cercanos. Para ello, debemos evaluar la exactitud y del modelo en el set de train y test para distintos valores del parámetro `n_neighbors`. Vamos entonces a repetir el esquema de: **definir, entrenar y predecir** en un loop `for` que recorre una lista con distintos valores de vecinos.\n",
    "\n",
    "**Ejercicio**: Trabaja en el siguiente bloque de codigo, de manera de completar con valores las listas `lista_accuracy_train` y `lista_accuracy_test`."
   ]
  },
  {
   "cell_type": "code",
   "execution_count": 130,
   "metadata": {
    "executionInfo": {
     "elapsed": 466,
     "status": "ok",
     "timestamp": 1615948071494,
     "user": {
      "displayName": "mario puentes",
      "photoUrl": "",
      "userId": "06193586855972744289"
     },
     "user_tz": 300
    },
    "id": "AD7I32aa2WW1"
   },
   "outputs": [],
   "source": [
    "# Definimos las listas vacias para los valores de accuracy deseados\n",
    "lista_accuracy_train = []\n",
    "lista_accuracy_test = []\n",
    "\n",
    "# Definimos la lista de valores de k que vamos a explorar\n",
    "k_vecinos = [1,2,3,4,5,6,7,8,9,10,15,20,25,30,35,40,50,60,70,80]\n",
    "\n",
    "# Generamos en loop sobre los distintos valores de k \n",
    "for k in k_vecinos:\n",
    "    \n",
    "    # Vamos a repetir el siguiente bloque de código\n",
    "    \n",
    "    # Definir el modelo con el valor de vecinos deseado\n",
    "    clf = KNeighborsClassifier(n_neighbors=k)\n",
    "    \n",
    "    # Entrenar el modelo\n",
    "    clf.fit(X_train,y_train)\n",
    "    \n",
    "    # Predecir y evaluar sobre el set de entrenamiento\n",
    "    y_train_pred = clf.predict(X_train)\n",
    "    train_acc = accuracy_score(y_train, y_train_pred)\n",
    "    \n",
    "    # Predecir y evaluar sobre el set de evaluación\n",
    "    y_test_pred = clf.predict(X_test)\n",
    "    test_acc = accuracy_score(y_test, y_test_pred)\n",
    "    \n",
    "    # Agregar la información a las listas\n",
    "    lista_accuracy_train.append(train_acc)\n",
    "    lista_accuracy_test.append(test_acc)"
   ]
  },
  {
   "cell_type": "markdown",
   "metadata": {
    "id": "box8MLKn2WW2"
   },
   "source": [
    "**Ejercicio**: Realiza un gráfico que muestre la curvas de accuracy en el set de entrenamiento (`lista_accuracy_train`) y accuracy en el set de testeo (`lista_accuracy_test`) en función del numero de vecinos (`k_vecinos`)."
   ]
  },
  {
   "cell_type": "code",
   "execution_count": 131,
   "metadata": {
    "colab": {
     "base_uri": "https://localhost:8080/",
     "height": 296
    },
    "executionInfo": {
     "elapsed": 542,
     "status": "ok",
     "timestamp": 1615948078716,
     "user": {
      "displayName": "mario puentes",
      "photoUrl": "",
      "userId": "06193586855972744289"
     },
     "user_tz": 300
    },
    "id": "7cegQSkh2WW2",
    "outputId": "cad67ad4-8cb8-4cad-a17e-82afcb69372f"
   },
   "outputs": [
    {
     "data": {
      "text/plain": [
       "Text(0, 0.5, 'Exactitud')"
      ]
     },
     "execution_count": 131,
     "metadata": {},
     "output_type": "execute_result"
    },
    {
     "data": {
      "image/png": "[encoded data removed]",
      "text/plain": [
       "<Figure size 432x288 with 1 Axes>"
      ]
     },
     "metadata": {
      "needs_background": "light"
     },
     "output_type": "display_data"
    }
   ],
   "source": [
    "plt.plot(k_vecinos,lista_accuracy_train,'o-',label='train' )\n",
    "plt.plot(k_vecinos,lista_accuracy_test,'o-',label='test')\n",
    "plt.legend()\n",
    "plt.xlabel('Número de Vecinos')\n",
    "plt.ylabel('Exactitud')"
   ]
  },
  {
   "cell_type": "code",
   "execution_count": 109,
   "metadata": {},
   "outputs": [
    {
     "data": {
      "text/plain": [
       "135"
      ]
     },
     "execution_count": 109,
     "metadata": {},
     "output_type": "execute_result"
    }
   ],
   "source": [
    "X_train.shape[0]"
   ]
  },
  {
   "cell_type": "code",
   "execution_count": 110,
   "metadata": {},
   "outputs": [
    {
     "data": {
      "text/plain": [
       "0.7407407407407407"
      ]
     },
     "execution_count": 110,
     "metadata": {},
     "output_type": "execute_result"
    }
   ],
   "source": [
    "100/X_train.shape[0]"
   ]
  },
  {
   "cell_type": "code",
   "execution_count": 111,
   "metadata": {},
   "outputs": [
    {
     "data": {
      "text/plain": [
       "15"
      ]
     },
     "execution_count": 111,
     "metadata": {},
     "output_type": "execute_result"
    }
   ],
   "source": [
    "X_test.shape[0]"
   ]
  },
  {
   "cell_type": "code",
   "execution_count": 112,
   "metadata": {},
   "outputs": [
    {
     "data": {
      "text/plain": [
       "6.666666666666667"
      ]
     },
     "execution_count": 112,
     "metadata": {},
     "output_type": "execute_result"
    }
   ],
   "source": [
    "100/X_test.shape[0]"
   ]
  },
  {
   "cell_type": "markdown",
   "metadata": {
    "id": "LJONh3SL2WW2"
   },
   "source": [
    "**Para pensar**: ¿cuál será el mejor hiperparámetro?¿En que región hay sobre-ajuste y en cuál sub-ajuste?\n",
    "\n",
    "Te dejamos una celda que puedes correr para observar distintas fronteras de decisión obtenidas para distintos valores del número de vecinos. ¿Notas para qué número de vecinos y en qué región está sobreajustando?"
   ]
  },
  {
   "cell_type": "code",
   "execution_count": 119,
   "metadata": {
    "colab": {
     "base_uri": "https://localhost:8080/",
     "height": 1000
    },
    "executionInfo": {
     "elapsed": 13548,
     "status": "ok",
     "timestamp": 1615948205082,
     "user": {
      "displayName": "mario puentes",
      "photoUrl": "",
      "userId": "06193586855972744289"
     },
     "user_tz": 300
    },
    "id": "nzPM_uwu2WW2",
    "outputId": "14fb362e-86f0-4647-ffd8-acdbbe25c70d"
   },
   "outputs": [
    {
     "data": {
      "image/png": "[encoded data removed]",
      "text/plain": [
       "<Figure size 432x288 with 1 Axes>"
      ]
     },
     "metadata": {
      "needs_background": "light"
     },
     "output_type": "display_data"
    },
    {
     "data": {
      "image/png": "[encoded data removed]",
      "text/plain": [
       "<Figure size 432x288 with 1 Axes>"
      ]
     },
     "metadata": {
      "needs_background": "light"
     },
     "output_type": "display_data"
    },
    {
     "data": {
      "image/png": "[encoded data removed]",
      "text/plain": [
       "<Figure size 432x288 with 1 Axes>"
      ]
     },
     "metadata": {
      "needs_background": "light"
     },
     "output_type": "display_data"
    },
    {
     "data": {
      "image/png": "[encoded data removed]",
      "text/plain": [
       "<Figure size 432x288 with 1 Axes>"
      ]
     },
     "metadata": {
      "needs_background": "light"
     },
     "output_type": "display_data"
    },
    {
     "data": {
      "image/png": "[encoded data removed]",
      "text/plain": [
       "<Figure size 432x288 with 1 Axes>"
      ]
     },
     "metadata": {
      "needs_background": "light"
     },
     "output_type": "display_data"
    }
   ],
   "source": [
    "from matplotlib.colors import ListedColormap\n",
    "\n",
    "X = data[['petal length (cm)', 'petal width (cm)']].values\n",
    "\n",
    "y = data.target\n",
    "h = .02  # step size in the mesh\n",
    "\n",
    "# Create color maps\n",
    "cmap_light = ListedColormap(['#FFAAAA', '#AAFFAA', '#AAAAFF'])\n",
    "cmap_bold = ListedColormap(['#FF0000', '#00FF00', '#0000FF'])\n",
    "\n",
    "for k in [1,5,10,25,50]:\n",
    "    \n",
    "    # we create an instance of Neighbours Classifier and fit the data.\n",
    "    clf = KNeighborsClassifier(n_neighbors=k)\n",
    "    clf.fit(X, y)\n",
    "\n",
    "    # Plot the decision boundary. For that, we will assign a color to each\n",
    "    # point in the mesh [x_min, x_max]x[y_min, y_max].\n",
    "    x_min, x_max = X[:, 0].min() - 1, X[:, 0].max() + 1\n",
    "    y_min, y_max = X[:, 1].min() - 1, X[:, 1].max() + 1\n",
    "    xx, yy = np.meshgrid(np.arange(x_min, x_max, h),\n",
    "                         np.arange(y_min, y_max, h))\n",
    "    Z = clf.predict(np.c_[xx.ravel(), yy.ravel()])\n",
    "\n",
    "    # Put the result into a color plot\n",
    "    Z = Z.reshape(xx.shape)\n",
    "    plt.figure()\n",
    "    plt.pcolormesh(xx, yy, Z, cmap=cmap_light, shading='auto')\n",
    "\n",
    "    # Plot also the training points\n",
    "    plt.scatter(X[:, 0], X[:, 1], c=y, cmap=cmap_bold,\n",
    "                edgecolor='k', s=20)\n",
    "    \n",
    "    plt.xlim(xx.min(), xx.max())\n",
    "    plt.ylim(yy.min(), yy.max())\n",
    "    plt.title(\"Clasificador KNN con k = %i\"% (k))"
   ]
  },
  {
   "cell_type": "markdown",
   "metadata": {
    "id": "WUYbCn792WW3"
   },
   "source": [
    "**Curvas de validacíon en Scikit-Learn**\n",
    "\n",
    "Mencionamos que puedes hacer curvas de validación en Scikit-Learn; puedes encontrar su documentación [aquí](https://scikit-learn.org/stable/modules/learning_curve.html), pero utilizan algo que todavía no vimos, Validación Cruzada. Sin embargo, puedes mirar la documentación para ir familiarizándote.\n",
    "\n",
    "**Ejercicio:** Repite entrenamiento, evaluación, optimización de hiperparámetro (profundidad) y visualización de fronteras para un`DecisionTreeClassifier`."
   ]
  },
  {
   "cell_type": "code",
   "execution_count": 120,
   "metadata": {
    "executionInfo": {
     "elapsed": 443,
     "status": "ok",
     "timestamp": 1615948592167,
     "user": {
      "displayName": "mario puentes",
      "photoUrl": "",
      "userId": "06193586855972744289"
     },
     "user_tz": 300
    },
    "id": "qWxZgnWp2WW4"
   },
   "outputs": [],
   "source": [
    "from sklearn.tree import DecisionTreeClassifier\n",
    "clf_tree = DecisionTreeClassifier(max_depth=2, random_state=42)"
   ]
  },
  {
   "cell_type": "code",
   "execution_count": 121,
   "metadata": {
    "executionInfo": {
     "elapsed": 573,
     "status": "ok",
     "timestamp": 1615948593435,
     "user": {
      "displayName": "mario puentes",
      "photoUrl": "",
      "userId": "06193586855972744289"
     },
     "user_tz": 300
    },
    "id": "0Vm-j2ez2WW4"
   },
   "outputs": [],
   "source": [
    "clf_tree.fit(X_train,y_train)\n",
    "\n",
    "y_train_pred = clf_tree.predict(X_train)\n",
    "y_test_pred = clf_tree.predict(X_test)"
   ]
  },
  {
   "cell_type": "code",
   "execution_count": 122,
   "metadata": {
    "colab": {
     "base_uri": "https://localhost:8080/"
    },
    "executionInfo": {
     "elapsed": 444,
     "status": "ok",
     "timestamp": 1615948594320,
     "user": {
      "displayName": "mario puentes",
      "photoUrl": "",
      "userId": "06193586855972744289"
     },
     "user_tz": 300
    },
    "id": "FqU6HEBQ2WW5",
    "outputId": "64d97daf-c4ea-4324-c6c4-0f33c91ce6e6"
   },
   "outputs": [
    {
     "name": "stdout",
     "output_type": "stream",
     "text": [
      "Porcentaje de aceirtos sobre el set de entrenamiento: 0.9642857142857143\n",
      "Porcentaje de aceirtos sobre el set de evaluación: 0.9210526315789473\n"
     ]
    }
   ],
   "source": [
    "train_acc = accuracy_score(y_train, y_train_pred)\n",
    "test_acc = accuracy_score(y_test, y_test_pred)\n",
    "\n",
    "print('Porcentaje de aceirtos sobre el set de entrenamiento:', train_acc)\n",
    "print('Porcentaje de aceirtos sobre el set de evaluación:', test_acc)"
   ]
  },
  {
   "cell_type": "code",
   "execution_count": 124,
   "metadata": {
    "colab": {
     "base_uri": "https://localhost:8080/"
    },
    "executionInfo": {
     "elapsed": 467,
     "status": "ok",
     "timestamp": 1615948640290,
     "user": {
      "displayName": "mario puentes",
      "photoUrl": "",
      "userId": "06193586855972744289"
     },
     "user_tz": 300
    },
    "id": "Oy-a9hO62WW6",
    "outputId": "812fbc16-9d1d-49e2-cb26-19e8e687dec4"
   },
   "outputs": [
    {
     "data": {
      "text/plain": [
       "array([[38,  0,  0],\n",
       "       [ 0, 34,  3],\n",
       "       [ 0,  1, 36]])"
      ]
     },
     "execution_count": 124,
     "metadata": {},
     "output_type": "execute_result"
    }
   ],
   "source": [
    "confusion_matrix(y_train, y_train_pred)"
   ]
  },
  {
   "cell_type": "code",
   "execution_count": 125,
   "metadata": {
    "colab": {
     "base_uri": "https://localhost:8080/"
    },
    "executionInfo": {
     "elapsed": 442,
     "status": "ok",
     "timestamp": 1615948642167,
     "user": {
      "displayName": "mario puentes",
      "photoUrl": "",
      "userId": "06193586855972744289"
     },
     "user_tz": 300
    },
    "id": "I5xU0qkr2WW6",
    "outputId": "5aa9525e-506a-4d79-8103-aada2b101068"
   },
   "outputs": [
    {
     "data": {
      "text/plain": [
       "array([[12,  0,  0],\n",
       "       [ 0, 12,  1],\n",
       "       [ 0,  2, 11]])"
      ]
     },
     "execution_count": 125,
     "metadata": {},
     "output_type": "execute_result"
    }
   ],
   "source": [
    "confusion_matrix(y_test, y_test_pred)"
   ]
  },
  {
   "cell_type": "code",
   "execution_count": 126,
   "metadata": {
    "executionInfo": {
     "elapsed": 466,
     "status": "ok",
     "timestamp": 1615948746650,
     "user": {
      "displayName": "mario puentes",
      "photoUrl": "",
      "userId": "06193586855972744289"
     },
     "user_tz": 300
    },
    "id": "Adm4jFZf2WW7"
   },
   "outputs": [],
   "source": [
    "# Definimos las listas vacias para los valores de accuracy deseados\n",
    "lista_accuracy_train = []\n",
    "lista_accuracy_test = []\n",
    "\n",
    "# Definimos la lista de valores de max_depth que vamos a explorar\n",
    "max_depths = [1,2,3,4,5,6,7,8,9,10,15,20]\n",
    "\n",
    "# Generamos en loop sobre los distintos valores de profundidad \n",
    "for max_depth in max_depths:\n",
    "    \n",
    "    # Vamos a repetir el siguiente bloque de código\n",
    "    \n",
    "    # Definir el modelo con el valor de profundidad\n",
    "    clf = DecisionTreeClassifier(max_depth = max_depth, random_state=42)\n",
    "    \n",
    "    # Entrenar el modelo\n",
    "    clf.fit(X_train,y_train)\n",
    "    \n",
    "    # Predecir y evaluar sobre el set de entrenamiento\n",
    "    y_train_pred = clf.predict(X_train)\n",
    "    train_acc = accuracy_score(y_train, y_train_pred)\n",
    "    \n",
    "    # Predecir y evaluar sobre el set de evaluación\n",
    "    y_test_pred = clf.predict(X_test)\n",
    "    test_acc = accuracy_score(y_test, y_test_pred)\n",
    "    \n",
    "    # Agregar la información a las listas\n",
    "    lista_accuracy_train.append(train_acc)\n",
    "    lista_accuracy_test.append(test_acc)"
   ]
  },
  {
   "cell_type": "code",
   "execution_count": 36,
   "metadata": {
    "colab": {
     "base_uri": "https://localhost:8080/"
    },
    "executionInfo": {
     "elapsed": 422,
     "status": "ok",
     "timestamp": 1615948775021,
     "user": {
      "displayName": "mario puentes",
      "photoUrl": "",
      "userId": "06193586855972744289"
     },
     "user_tz": 300
    },
    "id": "xCgF3cFNDRrF",
    "outputId": "355436a6-879c-4c09-ffab-611e779de645"
   },
   "outputs": [
    {
     "data": {
      "text/plain": [
       "[0.6666666666666666,\n",
       " 0.8666666666666667,\n",
       " 0.9333333333333333,\n",
       " 0.8666666666666667,\n",
       " 0.8666666666666667,\n",
       " 0.8666666666666667,\n",
       " 0.8666666666666667,\n",
       " 0.8666666666666667,\n",
       " 0.8666666666666667,\n",
       " 0.8666666666666667]"
      ]
     },
     "execution_count": 36,
     "metadata": {},
     "output_type": "execute_result"
    }
   ],
   "source": [
    "lista_accuracy_test"
   ]
  },
  {
   "cell_type": "code",
   "execution_count": 127,
   "metadata": {
    "colab": {
     "base_uri": "https://localhost:8080/",
     "height": 296
    },
    "executionInfo": {
     "elapsed": 720,
     "status": "ok",
     "timestamp": 1615948783294,
     "user": {
      "displayName": "mario puentes",
      "photoUrl": "",
      "userId": "06193586855972744289"
     },
     "user_tz": 300
    },
    "id": "5ZEvPRgB2WW7",
    "outputId": "b60ad792-e07e-4677-ed72-97f1f1683ccb"
   },
   "outputs": [
    {
     "data": {
      "text/plain": [
       "Text(0, 0.5, 'Exactitud')"
      ]
     },
     "execution_count": 127,
     "metadata": {},
     "output_type": "execute_result"
    },
    {
     "data": {
      "image/png": "[encoded data removed]",
      "text/plain": [
       "<Figure size 432x288 with 1 Axes>"
      ]
     },
     "metadata": {
      "needs_background": "light"
     },
     "output_type": "display_data"
    }
   ],
   "source": [
    "plt.plot(max_depths,lista_accuracy_train,'o-',label='train' )\n",
    "plt.plot(max_depths,lista_accuracy_test,'o-',label='test')\n",
    "plt.legend()\n",
    "plt.xlabel('Profundidad del árbol')\n",
    "plt.ylabel('Exactitud')"
   ]
  },
  {
   "cell_type": "code",
   "execution_count": 128,
   "metadata": {
    "colab": {
     "base_uri": "https://localhost:8080/",
     "height": 1000
    },
    "executionInfo": {
     "elapsed": 1982,
     "status": "ok",
     "timestamp": 1615950992849,
     "user": {
      "displayName": "mario puentes",
      "photoUrl": "",
      "userId": "06193586855972744289"
     },
     "user_tz": 300
    },
    "id": "QylnlhDx2WW8",
    "outputId": "bddc4fb6-58b5-48ce-a276-e3a1b2298af6"
   },
   "outputs": [
    {
     "data": {
      "image/png": "[encoded data removed]",
      "text/plain": [
       "<Figure size 432x288 with 1 Axes>"
      ]
     },
     "metadata": {
      "needs_background": "light"
     },
     "output_type": "display_data"
    },
    {
     "data": {
      "image/png": "[encoded data removed]",
      "text/plain": [
       "<Figure size 432x288 with 1 Axes>"
      ]
     },
     "metadata": {
      "needs_background": "light"
     },
     "output_type": "display_data"
    },
    {
     "data": {
      "image/png": "[encoded data removed]",
      "text/plain": [
       "<Figure size 432x288 with 1 Axes>"
      ]
     },
     "metadata": {
      "needs_background": "light"
     },
     "output_type": "display_data"
    },
    {
     "data": {
      "image/png": "[encoded data removed]",
      "text/plain": [
       "<Figure size 432x288 with 1 Axes>"
      ]
     },
     "metadata": {
      "needs_background": "light"
     },
     "output_type": "display_data"
    }
   ],
   "source": [
    "X = data[['petal length (cm)', 'petal width (cm)']].values\n",
    "y = data.target\n",
    "h = .02  # step size in the mesh\n",
    "\n",
    "# Create color maps\n",
    "cmap_light = ListedColormap(['#FFAAAA', '#AAFFAA', '#AAAAFF'])\n",
    "cmap_bold = ListedColormap(['#FF0000', '#00FF00', '#0000FF'])\n",
    "\n",
    "for max_depth in [1,3,5,10]:\n",
    "    \n",
    "    # we create an instance of Neighbours Classifier and fit the data.\n",
    "    clf = DecisionTreeClassifier(max_depth=max_depth, random_state=42)\n",
    "    clf.fit(X, y)\n",
    "\n",
    "    # Plot the decision boundary. For that, we will assign a color to each\n",
    "    # point in the mesh [x_min, x_max]x[y_min, y_max].\n",
    "    x_min, x_max = X[:, 0].min() - 1, X[:, 0].max() + 1\n",
    "    y_min, y_max = X[:, 1].min() - 1, X[:, 1].max() + 1\n",
    "    xx, yy = np.meshgrid(np.arange(x_min, x_max, h),\n",
    "                         np.arange(y_min, y_max, h))\n",
    "    Z = clf.predict(np.c_[xx.ravel(), yy.ravel()])\n",
    "\n",
    "    # Put the result into a color plot\n",
    "    Z = Z.reshape(xx.shape)\n",
    "    plt.figure()\n",
    "    plt.pcolormesh(xx, yy, Z, cmap=cmap_light, shading='auto')\n",
    "\n",
    "    # Plot also the training points\n",
    "    plt.scatter(X[:, 0], X[:, 1], c=y, cmap=cmap_bold,\n",
    "                edgecolor='k', s=20)\n",
    "    \n",
    "    plt.xlim(xx.min(), xx.max())\n",
    "    plt.ylim(yy.min(), yy.max())\n",
    "    plt.title(\"Clasificador DT con profundidad = %i\"% (max_depth))"
   ]
  },
  {
   "cell_type": "markdown",
   "metadata": {
    "id": "jGsqwUPY2WW8"
   },
   "source": [
    "### 2. Dataset Titanic\n",
    "\n",
    "Nuevamente, vamos a trabajar con el dataset del Titanic. La consigna consiste en:\n",
    "\n",
    "1. Generar dos casos benchmark para este dataset. ¿Cuáles se te ocurren? Hay una pista en el notebook anterior.\n",
    "1. Encontrar los mejores parámetros para profundidad y número de vecinos para un modelo de árbol de decisión y kNN, respectivamente. No te olvides de agregar un `train_test_split`, predecir sobre `X_train` y `X_test` y evaluar el desempeño de los modelos sobre esos conjuntos. \n",
    "1. Evaluar precisión, exhaustividad y F-Score para los modelos con los mejores hiperparámetros. Existen varias funciones de Scikit-Learn que puedes usar. Puedes consultar la información [aquí](https://scikit-learn.org/stable/modules/model_evaluation.html#classification-metrics). Es importante que leas **detalladamente** la documentación de la función que elijas."
   ]
  },
  {
   "cell_type": "code",
   "execution_count": 133,
   "metadata": {
    "executionInfo": {
     "elapsed": 442,
     "status": "ok",
     "timestamp": 1615948987389,
     "user": {
      "displayName": "mario puentes",
      "photoUrl": "",
      "userId": "06193586855972744289"
     },
     "user_tz": 300
    },
    "id": "nBqWXtpV2WW8"
   },
   "outputs": [],
   "source": [
    "import pandas as pd\n",
    "import numpy as np\n",
    "import matplotlib.pyplot as plt\n",
    "import seaborn as sns"
   ]
  },
  {
   "cell_type": "code",
   "execution_count": 134,
   "metadata": {
    "colab": {
     "base_uri": "https://localhost:8080/",
     "height": 173
    },
    "executionInfo": {
     "elapsed": 448,
     "status": "ok",
     "timestamp": 1615949005840,
     "user": {
      "displayName": "mario puentes",
      "photoUrl": "",
      "userId": "06193586855972744289"
     },
     "user_tz": 300
    },
    "id": "xIICGmq-2WW8",
    "outputId": "a4d530e4-15f1-4c21-fd43-48771f818f06"
   },
   "outputs": [
    {
     "data": {
      "text/html": [
       "<div>\n",
       "<style scoped>\n",
       "    .dataframe tbody tr th:only-of-type {\n",
       "        vertical-align: middle;\n",
       "    }\n",
       "\n",
       "    .dataframe tbody tr th {\n",
       "        vertical-align: top;\n",
       "    }\n",
       "\n",
       "    .dataframe thead th {\n",
       "        text-align: right;\n",
       "    }\n",
       "</style>\n",
       "<table border=\"1\" class=\"dataframe\">\n",
       "  <thead>\n",
       "    <tr style=\"text-align: right;\">\n",
       "      <th></th>\n",
       "      <th>Survived</th>\n",
       "      <th>Pclass</th>\n",
       "      <th>Sex</th>\n",
       "      <th>Age</th>\n",
       "      <th>SibSp</th>\n",
       "      <th>Parch</th>\n",
       "    </tr>\n",
       "  </thead>\n",
       "  <tbody>\n",
       "    <tr>\n",
       "      <th>0</th>\n",
       "      <td>0</td>\n",
       "      <td>3</td>\n",
       "      <td>0</td>\n",
       "      <td>22.0</td>\n",
       "      <td>1</td>\n",
       "      <td>0</td>\n",
       "    </tr>\n",
       "    <tr>\n",
       "      <th>1</th>\n",
       "      <td>1</td>\n",
       "      <td>1</td>\n",
       "      <td>1</td>\n",
       "      <td>38.0</td>\n",
       "      <td>1</td>\n",
       "      <td>0</td>\n",
       "    </tr>\n",
       "    <tr>\n",
       "      <th>2</th>\n",
       "      <td>1</td>\n",
       "      <td>3</td>\n",
       "      <td>1</td>\n",
       "      <td>26.0</td>\n",
       "      <td>0</td>\n",
       "      <td>0</td>\n",
       "    </tr>\n",
       "    <tr>\n",
       "      <th>3</th>\n",
       "      <td>1</td>\n",
       "      <td>1</td>\n",
       "      <td>1</td>\n",
       "      <td>35.0</td>\n",
       "      <td>1</td>\n",
       "      <td>0</td>\n",
       "    </tr>\n",
       "  </tbody>\n",
       "</table>\n",
       "</div>"
      ],
      "text/plain": [
       "   Survived  Pclass  Sex   Age  SibSp  Parch\n",
       "0         0       3    0  22.0      1      0\n",
       "1         1       1    1  38.0      1      0\n",
       "2         1       3    1  26.0      0      0\n",
       "3         1       1    1  35.0      1      0"
      ]
     },
     "execution_count": 134,
     "metadata": {},
     "output_type": "execute_result"
    }
   ],
   "source": [
    "# Importamos el Dataset\n",
    "df = pd.read_csv(\"ds_12_titanic.csv\")\n",
    "df.head(4)"
   ]
  },
  {
   "cell_type": "code",
   "execution_count": 135,
   "metadata": {
    "executionInfo": {
     "elapsed": 470,
     "status": "ok",
     "timestamp": 1615948990359,
     "user": {
      "displayName": "mario puentes",
      "photoUrl": "",
      "userId": "06193586855972744289"
     },
     "user_tz": 300
    },
    "id": "BHeLvwmj2WW9"
   },
   "outputs": [],
   "source": [
    "X = df.drop(\"Survived\", axis=1)\n",
    "y = df.Survived"
   ]
  },
  {
   "cell_type": "markdown",
   "metadata": {
    "id": "Omqgw-XJ2WW9"
   },
   "source": [
    "**Casos Benchmark**\n",
    "\n",
    "Predecimos que todos sobreviven"
   ]
  },
  {
   "cell_type": "code",
   "execution_count": 136,
   "metadata": {
    "executionInfo": {
     "elapsed": 541,
     "status": "ok",
     "timestamp": 1615949166663,
     "user": {
      "displayName": "mario puentes",
      "photoUrl": "",
      "userId": "06193586855972744289"
     },
     "user_tz": 300
    },
    "id": "5sIUnQAg2WW9"
   },
   "outputs": [],
   "source": [
    "y_pred = np.ones(y.size)\n",
    "#y_pred"
   ]
  },
  {
   "cell_type": "code",
   "execution_count": 137,
   "metadata": {
    "colab": {
     "base_uri": "https://localhost:8080/"
    },
    "executionInfo": {
     "elapsed": 442,
     "status": "ok",
     "timestamp": 1615949171839,
     "user": {
      "displayName": "mario puentes",
      "photoUrl": "",
      "userId": "06193586855972744289"
     },
     "user_tz": 300
    },
    "id": "EaMSswpy2WW9",
    "outputId": "6224a2be-6da0-41e9-a2f0-7fe957c3aa98"
   },
   "outputs": [
    {
     "data": {
      "text/plain": [
       "0.4061624649859944"
      ]
     },
     "execution_count": 137,
     "metadata": {},
     "output_type": "execute_result"
    }
   ],
   "source": [
    "accuracy_score(y, y_pred)"
   ]
  },
  {
   "cell_type": "code",
   "execution_count": 138,
   "metadata": {
    "colab": {
     "base_uri": "https://localhost:8080/"
    },
    "executionInfo": {
     "elapsed": 798,
     "status": "ok",
     "timestamp": 1615949182227,
     "user": {
      "displayName": "mario puentes",
      "photoUrl": "",
      "userId": "06193586855972744289"
     },
     "user_tz": 300
    },
    "id": "CUGojckc2WW-",
    "outputId": "ea3116c3-bd77-4068-ccf2-4db41132b599"
   },
   "outputs": [
    {
     "data": {
      "text/plain": [
       "array([[  0, 424],\n",
       "       [  0, 290]])"
      ]
     },
     "execution_count": 138,
     "metadata": {},
     "output_type": "execute_result"
    }
   ],
   "source": [
    "confusion_matrix(y, y_pred)"
   ]
  },
  {
   "cell_type": "markdown",
   "metadata": {
    "id": "cLrdq-yh2WW-"
   },
   "source": [
    "Y que nadie sobrevive"
   ]
  },
  {
   "cell_type": "code",
   "execution_count": 139,
   "metadata": {
    "executionInfo": {
     "elapsed": 441,
     "status": "ok",
     "timestamp": 1615949201653,
     "user": {
      "displayName": "mario puentes",
      "photoUrl": "",
      "userId": "06193586855972744289"
     },
     "user_tz": 300
    },
    "id": "RTtLEWf42WW-"
   },
   "outputs": [],
   "source": [
    "y_pred = np.zeros(y.size)"
   ]
  },
  {
   "cell_type": "code",
   "execution_count": 140,
   "metadata": {
    "colab": {
     "base_uri": "https://localhost:8080/"
    },
    "executionInfo": {
     "elapsed": 450,
     "status": "ok",
     "timestamp": 1615949205021,
     "user": {
      "displayName": "mario puentes",
      "photoUrl": "",
      "userId": "06193586855972744289"
     },
     "user_tz": 300
    },
    "id": "6EsSlI102WW-",
    "outputId": "dee82023-4418-4e04-dbd4-c23e10d22935"
   },
   "outputs": [
    {
     "data": {
      "text/plain": [
       "0.5938375350140056"
      ]
     },
     "execution_count": 140,
     "metadata": {},
     "output_type": "execute_result"
    }
   ],
   "source": [
    "accuracy_score(y, y_pred)"
   ]
  },
  {
   "cell_type": "code",
   "execution_count": 141,
   "metadata": {
    "colab": {
     "base_uri": "https://localhost:8080/"
    },
    "executionInfo": {
     "elapsed": 451,
     "status": "ok",
     "timestamp": 1615949207198,
     "user": {
      "displayName": "mario puentes",
      "photoUrl": "",
      "userId": "06193586855972744289"
     },
     "user_tz": 300
    },
    "id": "kkkF7m-O2WW_",
    "outputId": "86321d6a-040a-4d39-a636-f7122152faab"
   },
   "outputs": [
    {
     "data": {
      "text/plain": [
       "array([[424,   0],\n",
       "       [290,   0]])"
      ]
     },
     "execution_count": 141,
     "metadata": {},
     "output_type": "execute_result"
    }
   ],
   "source": [
    "confusion_matrix(y, y_pred)"
   ]
  },
  {
   "cell_type": "markdown",
   "metadata": {
    "id": "wbIIHTUN2WW_"
   },
   "source": [
    "**Entrenamiento del Modelo y evaluación**"
   ]
  },
  {
   "cell_type": "code",
   "execution_count": 142,
   "metadata": {
    "executionInfo": {
     "elapsed": 448,
     "status": "ok",
     "timestamp": 1615949217822,
     "user": {
      "displayName": "mario puentes",
      "photoUrl": "",
      "userId": "06193586855972744289"
     },
     "user_tz": 300
    },
    "id": "rdULeTJY2WW_"
   },
   "outputs": [],
   "source": [
    "from sklearn.model_selection import train_test_split\n",
    "\n",
    "X_train, X_test, y_train, y_test = train_test_split(X, y, test_size=0.33, random_state=42)"
   ]
  },
  {
   "cell_type": "code",
   "execution_count": 143,
   "metadata": {
    "executionInfo": {
     "elapsed": 453,
     "status": "ok",
     "timestamp": 1615949222765,
     "user": {
      "displayName": "mario puentes",
      "photoUrl": "",
      "userId": "06193586855972744289"
     },
     "user_tz": 300
    },
    "id": "1_tvDhx92WXA"
   },
   "outputs": [],
   "source": [
    "from sklearn.tree import DecisionTreeClassifier\n",
    "from sklearn.neighbors import KNeighborsClassifier\n",
    "\n",
    "clf_tree = DecisionTreeClassifier()\n",
    "clf_knn = KNeighborsClassifier()"
   ]
  },
  {
   "cell_type": "markdown",
   "metadata": {
    "id": "YzPG204N2WXA"
   },
   "source": [
    "**Optimización para vecinos más cercanos**"
   ]
  },
  {
   "cell_type": "code",
   "execution_count": 144,
   "metadata": {
    "executionInfo": {
     "elapsed": 775,
     "status": "ok",
     "timestamp": 1615949271552,
     "user": {
      "displayName": "mario puentes",
      "photoUrl": "",
      "userId": "06193586855972744289"
     },
     "user_tz": 300
    },
    "id": "rnvgR14N2WXA"
   },
   "outputs": [],
   "source": [
    "# Definimos las listas vacias para los valores de accuracy deseados\n",
    "lista_accuracy_train = []\n",
    "lista_accuracy_test = []\n",
    "\n",
    "# Definimos la lista de valores de k que vamos a explorar\n",
    "k_vecinos = [1,2,3,4,5,6,7,8,9,10,15,20,25,30,35,40,50]\n",
    "\n",
    "# Generamos en loop sobre los distintos valores de k \n",
    "for k in k_vecinos:\n",
    "    \n",
    "    # Vamos a repetir el siguiente bloque de código\n",
    "    \n",
    "    # Definir el modelo con el valor de vecinos deseado\n",
    "    clf = KNeighborsClassifier(n_neighbors=k)\n",
    "    \n",
    "    # Entrenar el modelo\n",
    "    clf.fit(X_train,y_train)\n",
    "    \n",
    "    # Predecir y evaluar sobre el set de entrenamiento\n",
    "    y_train_pred = clf.predict(X_train)\n",
    "    train_acc = accuracy_score(y_train, y_train_pred)\n",
    "    \n",
    "    # Predecir y evaluar sobre el set de evaluación\n",
    "    y_test_pred = clf.predict(X_test)\n",
    "    test_acc = accuracy_score(y_test, y_test_pred)\n",
    "    \n",
    "    # Agregar la información a las listas\n",
    "    lista_accuracy_train.append(train_acc)\n",
    "    lista_accuracy_test.append(test_acc)"
   ]
  },
  {
   "cell_type": "code",
   "execution_count": 145,
   "metadata": {
    "colab": {
     "base_uri": "https://localhost:8080/",
     "height": 282
    },
    "executionInfo": {
     "elapsed": 1075,
     "status": "ok",
     "timestamp": 1615949273382,
     "user": {
      "displayName": "mario puentes",
      "photoUrl": "",
      "userId": "06193586855972744289"
     },
     "user_tz": 300
    },
    "id": "6ipd-LF92WXA",
    "outputId": "3676d13f-9c86-40f3-df9b-2561bb674aa2"
   },
   "outputs": [
    {
     "data": {
      "text/plain": [
       "<matplotlib.legend.Legend at 0x12f659d90>"
      ]
     },
     "execution_count": 145,
     "metadata": {},
     "output_type": "execute_result"
    },
    {
     "data": {
      "image/png": "[encoded data removed]",
      "text/plain": [
       "<Figure size 432x288 with 1 Axes>"
      ]
     },
     "metadata": {
      "needs_background": "light"
     },
     "output_type": "display_data"
    }
   ],
   "source": [
    "plt.plot(k_vecinos,lista_accuracy_train,'o-',label='train' )\n",
    "plt.plot(k_vecinos,lista_accuracy_test,'o-',label='test')\n",
    "plt.legend()"
   ]
  },
  {
   "cell_type": "markdown",
   "metadata": {
    "id": "3ZIpm2Nm2WXA"
   },
   "source": [
    "**Optimización para árboles**"
   ]
  },
  {
   "cell_type": "code",
   "execution_count": 146,
   "metadata": {
    "executionInfo": {
     "elapsed": 472,
     "status": "ok",
     "timestamp": 1615949314830,
     "user": {
      "displayName": "mario puentes",
      "photoUrl": "",
      "userId": "06193586855972744289"
     },
     "user_tz": 300
    },
    "id": "ZgBlBJcw2WXA"
   },
   "outputs": [],
   "source": [
    "# Definimos las listas vacias para los valores de accuracy deseados\n",
    "lista_accuracy_train = []\n",
    "lista_accuracy_test = []\n",
    "\n",
    "# Definimos la lista de valores de max_depth que vamos a explorar\n",
    "max_depths = np.arange(1,20)\n",
    "\n",
    "# Generamos en loop sobre los distintos valores de profundidad \n",
    "for max_depth in max_depths:\n",
    "    \n",
    "    # Vamos a repetir el siguiente bloque de código\n",
    "    \n",
    "    # Definir el modelo con el valor de profundidad\n",
    "    clf = DecisionTreeClassifier(max_depth = max_depth, random_state=42)\n",
    "    \n",
    "    # Entrenar el modelo\n",
    "    clf.fit(X_train,y_train)\n",
    "    \n",
    "    # Predecir y evaluar sobre el set de entrenamiento\n",
    "    y_train_pred = clf.predict(X_train)\n",
    "    train_acc = accuracy_score(y_train, y_train_pred)\n",
    "    \n",
    "    # Predecir y evaluar sobre el set de evaluación\n",
    "    y_test_pred = clf.predict(X_test)\n",
    "    test_acc = accuracy_score(y_test, y_test_pred)\n",
    "    \n",
    "    # Agregar la información a las listas\n",
    "    lista_accuracy_train.append(train_acc)\n",
    "    lista_accuracy_test.append(test_acc)"
   ]
  },
  {
   "cell_type": "code",
   "execution_count": 147,
   "metadata": {
    "colab": {
     "base_uri": "https://localhost:8080/",
     "height": 282
    },
    "executionInfo": {
     "elapsed": 1022,
     "status": "ok",
     "timestamp": 1615949319289,
     "user": {
      "displayName": "mario puentes",
      "photoUrl": "",
      "userId": "06193586855972744289"
     },
     "user_tz": 300
    },
    "id": "e8mGjr1G2WXB",
    "outputId": "dcc2824a-b600-4b17-9dfd-2fa6231aacd8"
   },
   "outputs": [
    {
     "data": {
      "text/plain": [
       "<matplotlib.legend.Legend at 0x12f640850>"
      ]
     },
     "execution_count": 147,
     "metadata": {},
     "output_type": "execute_result"
    },
    {
     "data": {
      "image/png": "[encoded data removed]",
      "text/plain": [
       "<Figure size 432x288 with 1 Axes>"
      ]
     },
     "metadata": {
      "needs_background": "light"
     },
     "output_type": "display_data"
    }
   ],
   "source": [
    "plt.plot(max_depths,lista_accuracy_train,'o-',label='train' )\n",
    "plt.plot(max_depths,lista_accuracy_test,'o-',label='test')\n",
    "plt.legend()"
   ]
  },
  {
   "cell_type": "markdown",
   "metadata": {
    "id": "6y9s-TAn2WXB"
   },
   "source": [
    "**Precisión, Exhaustividad y F-Score**"
   ]
  },
  {
   "cell_type": "code",
   "execution_count": 148,
   "metadata": {
    "colab": {
     "base_uri": "https://localhost:8080/"
    },
    "executionInfo": {
     "elapsed": 522,
     "status": "ok",
     "timestamp": 1615949386239,
     "user": {
      "displayName": "mario puentes",
      "photoUrl": "",
      "userId": "06193586855972744289"
     },
     "user_tz": 300
    },
    "id": "Jin9DygP2WXB",
    "outputId": "33501356-94ca-461a-b6b0-ea267826cd57"
   },
   "outputs": [
    {
     "data": {
      "text/plain": [
       "KNeighborsClassifier()"
      ]
     },
     "execution_count": 148,
     "metadata": {},
     "output_type": "execute_result"
    }
   ],
   "source": [
    "clf_tree_best = DecisionTreeClassifier(max_depth=8)\n",
    "clf_knn_best = KNeighborsClassifier(n_neighbors=5)\n",
    "\n",
    "clf_tree_best.fit(X_train, y_train)\n",
    "clf_knn_best.fit(X_train, y_train)"
   ]
  },
  {
   "cell_type": "code",
   "execution_count": 149,
   "metadata": {
    "executionInfo": {
     "elapsed": 441,
     "status": "ok",
     "timestamp": 1615937301268,
     "user": {
      "displayName": "mario puentes",
      "photoUrl": "",
      "userId": "06193586855972744289"
     },
     "user_tz": 300
    },
    "id": "Pe0uY2GA2WXB"
   },
   "outputs": [],
   "source": [
    "from sklearn.metrics import precision_recall_fscore_support"
   ]
  },
  {
   "cell_type": "markdown",
   "metadata": {
    "id": "2WQ3wnUW2WXC"
   },
   "source": [
    "**Para el modelo árbol**"
   ]
  },
  {
   "cell_type": "code",
   "execution_count": 150,
   "metadata": {
    "colab": {
     "base_uri": "https://localhost:8080/"
    },
    "executionInfo": {
     "elapsed": 556,
     "status": "ok",
     "timestamp": 1615949389268,
     "user": {
      "displayName": "mario puentes",
      "photoUrl": "",
      "userId": "06193586855972744289"
     },
     "user_tz": 300
    },
    "id": "jObXqiDB2WXC",
    "outputId": "588ceb62-bad6-4c4b-dc89-bf1d1877d086"
   },
   "outputs": [
    {
     "data": {
      "text/plain": [
       "(array([0.78807947, 0.78823529]),\n",
       " array([0.86861314, 0.67676768]),\n",
       " array([0.82638889, 0.72826087]),\n",
       " array([137,  99]))"
      ]
     },
     "execution_count": 150,
     "metadata": {},
     "output_type": "execute_result"
    }
   ],
   "source": [
    "y_test_pred = clf_tree_best.predict(X_test)\n",
    "\n",
    "precision_recall_fscore_support(y_test, y_test_pred, pos_label= 1)"
   ]
  },
  {
   "cell_type": "markdown",
   "metadata": {
    "id": "KT3DdfUj2WXC"
   },
   "source": [
    "**Para el modelo de vecinos**"
   ]
  },
  {
   "cell_type": "code",
   "execution_count": 151,
   "metadata": {
    "colab": {
     "base_uri": "https://localhost:8080/"
    },
    "executionInfo": {
     "elapsed": 486,
     "status": "ok",
     "timestamp": 1615949395304,
     "user": {
      "displayName": "mario puentes",
      "photoUrl": "",
      "userId": "06193586855972744289"
     },
     "user_tz": 300
    },
    "id": "6mNrz4hb2WXC",
    "outputId": "444bcc9a-87bd-44e3-8be0-9187b4a3e62c"
   },
   "outputs": [
    {
     "data": {
      "text/plain": [
       "(array([0.74213836, 0.75324675]),\n",
       " array([0.86131387, 0.58585859]),\n",
       " array([0.7972973 , 0.65909091]),\n",
       " array([137,  99]))"
      ]
     },
     "execution_count": 151,
     "metadata": {},
     "output_type": "execute_result"
    }
   ],
   "source": [
    "y_test_pred = clf_knn_best.predict(X_test)\n",
    "\n",
    "precision_recall_fscore_support(y_test, y_test_pred, pos_label= 1)"
   ]
  },
  {
   "cell_type": "code",
   "execution_count": 88,
   "metadata": {
    "collapsed": true,
    "executionInfo": {
     "elapsed": 499,
     "status": "ok",
     "timestamp": 1615937316706,
     "user": {
      "displayName": "mario puentes",
      "photoUrl": "",
      "userId": "06193586855972744289"
     },
     "user_tz": 300
    },
    "id": "rgdVHCz82WXC"
   },
   "outputs": [],
   "source": []
  }
 ],
 "metadata": {
  "colab": {
   "name": "DS_Bitácora_13_Evaluación_RESUELTO.ipynb",
   "provenance": []
  },
  "kernelspec": {
   "display_name": "Python 3",
   "language": "python",
   "name": "python3"
  },
  "language_info": {
   "codemirror_mode": {
    "name": "ipython",
    "version": 3
   },
   "file_extension": ".py",
   "mimetype": "text/x-python",
   "name": "python",
   "nbconvert_exporter": "python",
   "pygments_lexer": "ipython3",
   "version": "3.8.2"
  }
 },
 "nbformat": 4,
 "nbformat_minor": 1
}
