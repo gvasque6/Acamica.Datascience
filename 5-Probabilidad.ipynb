{
 "cells": [
  {
   "cell_type": "markdown",
   "metadata": {
    "id": "ZXy7X_Ygs673"
   },
   "source": [
    "# Probabilidad y Estadística\n",
    "\n",
    "El objetivo del siguiente notebook es afianzar algunos conceptos de Probabilidad y, de paso, empezar a ver cómo se hacen gráficos con Matplotlib, una nueva librería que veremos más en detalle en la próxima bitácora y encuentro. Por ahora, solamente tienen que instalarla y correr las celdas. ¡No te preocupes si no entiendes lo que hacen esas celdas! Lo importante es que prestes atención a sus resultados.\n",
    "\n",
    "## 1. Distribuciones de probabilidad\n",
    "\n",
    "El concepto de distribución de probabilidad es un concepto central en probabilidad y estadística y, por lo tanto, hay mucho para decir. Nos limitamos acá a los puntos más importantes.\n",
    "\n",
    "\n",
    "### 1.1 Distrubución Uniforme Discreta\n",
    "\n",
    "Comencemos por un ejemplo: un dado de seis caras. La probabilidad de que al tirar el dado *salga* una cara es $1/6$. Si graficamos la probabilidad para cada resultado posible de tirar un dado, obtendríamos un gráfico como el siguiente:"
   ]
  },
  {
   "cell_type": "code",
   "execution_count": 1,
   "metadata": {
    "executionInfo": {
     "elapsed": 1230,
     "status": "ok",
     "timestamp": 1613678185297,
     "user": {
      "displayName": "mario puentes",
      "photoUrl": "",
      "userId": "06193586855972744289"
     },
     "user_tz": 300
    },
    "id": "FaExrRTTs68K"
   },
   "outputs": [],
   "source": [
    "import numpy as np\n",
    "import matplotlib.pyplot as plt"
   ]
  },
  {
   "cell_type": "code",
   "execution_count": 2,
   "metadata": {
    "id": "wd4M7gEas68O",
    "outputId": "e9ecec0c-1f0f-4fc9-c2eb-f3e940b1ca33"
   },
   "outputs": [
    {
     "data": {
      "image/png": "[encoded data removed]",
      "text/plain": [
       "<Figure size 432x288 with 1 Axes>"
      ]
     },
     "metadata": {
      "needs_background": "light"
     },
     "output_type": "display_data"
    }
   ],
   "source": [
    "valores = np.arange(1,7)\n",
    "probas = np.zeros(6) + 1/6\n",
    "plt.bar(valores, probas)\n",
    "plt.title('Distribución de probabilidad uniforme: lanzamiento de un dado')\n",
    "# plt.savefig('distribucion_dado.png', dpi = 400)\n",
    "plt.show()"
   ]
  },
  {
   "cell_type": "markdown",
   "metadata": {
    "id": "G3xGj-Ifs68T"
   },
   "source": [
    "En este caso, decimos que la distribución de probabilidad es *uniforme discreta*, ya que le asigna la misma probabilidad a los seis valores que pueden salir al tirar el dado. Si el dado estuviera cargado, ya no sería uniforme.\n",
    "\n",
    "**Algunos detalles**:\n",
    "1. El resultado de tirar un dado es un ejemplo de una *variable aleatoria*.\n",
    "2. En el caso del dado, la variable aleatoria puede tomar valores *discretos* y *acotados* (limitados): 1, 2, 3, 4, 5 y 6\n",
    "3. Existen variables aleatorias donde los posibles valores que puede tomar son continuos y no acotados. Veremos la distribución más famosa de ellas a continuación."
   ]
  },
  {
   "cell_type": "markdown",
   "metadata": {
    "id": "r9pHG_e6s68U"
   },
   "source": [
    "### 1.2 Distribución Normal o Gaussiana\n",
    "\n",
    "La distribución normal o gaussiana debe ser la distribución más famosa dentro de las distribuciones. Es una distribución de variable continua y aparece en una infinidad de ámbitos de la ciencia. Muchas variables asociadas a fenómenos naturales siguen una distribución gaussiana; un ejemplo típico es la estatura de las personas. La forma que tiene esta distribución está dada por la siguiente fórmula:\n",
    "\n",
    "$$f(x|\\mu, \\sigma^2)=\\frac{1}{\\sqrt{2 \\pi \\sigma^2}}e^{\\frac{-(x - \\mu)^2}{2\\sigma^2}}$$\n",
    "\n",
    "¡No te asustes si no la entiendes! Durante el encuentro, veremos más en detalle algunos aspectos de esta distribución. Pero es importante resaltar que tiene sólo dos parámetros: su valor medio $\\mu$ y su desviacíon estándar $\\sigma$. Estos valores son *teóricos*, es decir, son propios de la distribución de probabilidad. \n",
    "\n",
    "Recomendamos entrar en la página de Wikipedia de la [Distribución Normal](https://es.wikipedia.org/wiki/Distribuci%C3%B3n_normal) y prestar atención al primer gráfico - dónde podrán ver la forma teórica de la distribución - y a la sección \"Propiedades\".\n",
    "\n",
    "\n",
    "**Distribución Normal en NumPy**\n",
    "\n",
    "Como mencionamos en el encuentro anterior, NumPy nos provee de herramientas para generar valores aleatorios de distribuciones. A continuación generamos, usando `np.random.normal()`, muestras de dos distribuciones normales, con el mismo valor medio pero distinta desviación estándar. **Consultar** la ayuda de la función para entender bien qué hace."
   ]
  },
  {
   "cell_type": "code",
   "execution_count": 3,
   "metadata": {
    "id": "BRXI-c8Cs68X",
    "outputId": "36dd12ea-7c21-44d6-e92e-a24a0324ae73",
    "scrolled": true
   },
   "outputs": [
    {
     "name": "stdout",
     "output_type": "stream",
     "text": [
      "[-2.66332133e+00  4.29285535e+00  5.49846488e+00  8.22530714e-03\n",
      " -2.52623848e+00 -3.39915095e+00  6.82386181e+00  2.45692023e+00\n",
      "  4.30233835e+00  4.11456052e+00  3.89029074e+00 -4.21098224e-01\n",
      "  8.28582526e+00  6.41953480e+00 -4.34709393e+00  1.13165469e+01\n",
      "  7.28827264e+00  2.89260129e-01  1.08199676e+01 -1.87591303e+00\n",
      "  2.40967927e+00  5.99857803e+00 -3.61600056e+00 -3.10082973e-01\n",
      "  3.02887731e+00 -1.57491233e+00  1.73546225e+00  3.16038392e+00\n",
      "  1.05966126e+00  8.87001191e+00 -6.69904440e+00  6.77889370e-01\n",
      " -4.46369686e-01  1.57733466e+01  3.39046339e+00  5.67016505e+00\n",
      "  7.23678738e+00 -1.29634128e+00 -2.25321044e+00  9.89356819e+00\n",
      " -9.85072173e-01 -8.99294396e-01  8.69033176e-01 -6.01204807e+00\n",
      " -5.68122348e+00 -8.47244947e+00 -3.95647510e+00  9.04682699e+00\n",
      "  7.12960622e+00 -2.25610504e+00  9.68294894e-01  2.64858461e+00\n",
      "  4.11662096e-01  2.47140662e-01  4.37171744e+00  1.77682679e-01\n",
      " -2.09282438e+00 -2.00098593e-01  8.34284454e-01 -3.18310608e+00\n",
      " -1.01918752e+00 -5.67545569e+00  6.51953505e+00  7.95013597e+00\n",
      " -8.38869088e+00 -7.83523275e+00  6.33102970e-01 -5.82074384e+00\n",
      "  2.82314943e+00  3.68139157e+00  1.15346993e+01  1.84492353e+00\n",
      "  1.29075932e+01  6.82092037e+00  2.13559606e+00 -8.29815403e+00\n",
      " -4.36949351e+00  8.58553999e+00  4.71011934e+00  9.43546252e-01\n",
      "  9.67543052e-01  8.26418288e+00  7.23585351e+00  2.07387102e+00\n",
      "  6.74385896e+00  3.74937569e-02  3.78674472e+00  8.14071849e+00\n",
      "  2.79499170e+00  6.92022479e+00  8.19725148e-01  7.22560991e+00\n",
      "  1.05481929e+01  5.51305213e+00 -8.51977510e-01  1.25273987e+00\n",
      " -1.52314782e+00  3.88581525e+00 -3.30310658e-02  3.03787307e+00\n",
      "  3.35861391e+00  7.89611303e+00  1.63393350e+00  6.80572899e+00\n",
      "  7.75530365e+00  9.29536654e-01  1.31235255e+00 -9.73039663e+00\n",
      " -6.15224596e+00  5.85473283e+00  5.45522699e+00  4.51914063e+00\n",
      " -3.29095005e+00  6.83010002e+00 -2.84316142e+00 -3.06835237e+00\n",
      " -3.38877509e+00  3.70901293e+00 -1.20196609e+00  9.35841793e+00\n",
      "  7.77019267e+00  3.55250443e+00  5.66367406e+00 -3.68953843e+00\n",
      "  5.24960678e-01  3.85517156e+00 -2.81689034e-01  6.33520775e+00\n",
      "  5.92774011e+00  1.70307896e+00  1.30451140e+00 -1.03280985e-01\n",
      " -4.94584164e+00  3.29562801e+00  1.28143181e+00 -6.58382740e+00\n",
      " -2.97884825e+00 -1.12344745e+00  2.49210466e-01  4.79849830e+00\n",
      "  9.43658620e+00 -6.94324373e-01  3.46606737e+00 -2.83708745e+00\n",
      " -9.86059721e-01  3.17200792e+00  1.66339598e+00  5.35186650e+00\n",
      "  3.74382929e-01  1.61807592e-01  9.88858550e+00  5.29379050e+00\n",
      "  1.03638223e-01  4.64206849e-02  2.91309792e+00 -1.97778113e+00\n",
      " -1.34229949e+00 -6.81672775e+00  1.12157108e+01 -9.84106886e+00\n",
      "  2.89327904e-01  3.80560135e+00 -6.49953143e+00 -3.71323991e+00\n",
      "  6.96285254e+00  1.04330377e+01 -8.72618988e-01  4.20186718e-01\n",
      "  4.37933690e+00  9.87944448e+00  6.13552515e+00  6.87819402e+00\n",
      "  3.03532211e-01  9.12453266e+00  9.82917024e+00  1.55623942e+00\n",
      "  2.22299063e+00 -1.69283865e+00  8.46814091e-01 -5.26754798e+00\n",
      " -5.93377757e+00  6.62726639e-01  7.10850623e+00  5.08993509e+00\n",
      " -8.94370904e-01  2.34235197e+00  5.57141649e+00  2.97648240e+00\n",
      "  2.28841102e+00  1.03331124e+01  2.70407874e+00  4.35274999e+00\n",
      "  1.07356876e+01  4.29843366e+00 -1.73170078e+00  8.29169790e+00\n",
      "  2.35436492e+00  3.23009409e+00  2.89014475e-01 -2.00414342e+00\n",
      "  4.55220062e+00  3.79510165e+00  4.74534656e+00  1.83223007e+00\n",
      " -4.47061832e+00  4.93207846e+00  4.81696932e+00 -3.62451166e+00\n",
      " -3.78258976e+00 -2.34541699e+00  1.25457349e+00 -4.11960667e+00\n",
      "  2.46628781e+00 -3.79989105e+00 -1.42647502e+00  8.02428923e+00\n",
      "  4.52732145e+00  1.52078737e+00 -1.94394484e+00 -1.46553545e+00\n",
      "  1.78512359e+00  5.22130898e+00  5.46493926e+00  3.22282542e+00\n",
      " -1.84577367e+00  2.32055829e+00  3.66781954e+00  5.93376221e+00\n",
      "  5.96626272e+00  6.44228994e+00  3.69303199e+00  7.00420354e+00\n",
      " -1.53285585e+00 -5.68169845e-01  2.78588238e+00  2.03109449e+00\n",
      " -1.63369980e+00  1.43899100e+01 -5.09480805e+00  1.02485816e-01\n",
      "  1.99974876e+00 -3.95543627e+00 -2.19552767e+00  8.97633013e-01\n",
      "  2.24806199e+00 -8.80205117e-02  3.61618281e+00  1.24663044e+01\n",
      "  6.39352316e+00 -6.09119993e-01 -1.00441018e+00  1.01731572e+01\n",
      "  2.49782841e+00  3.51001990e+00  1.94701162e+00  9.47294521e+00\n",
      " -1.35554737e-01  2.30808480e+00  7.39273455e+00  1.96094800e+00\n",
      " -3.21727407e+00 -6.34691238e-01  7.75079182e+00  4.17146973e+00\n",
      "  8.00642851e+00  4.96784657e+00 -1.39480423e-01  7.99632112e+00\n",
      " -2.01432681e+00  1.25250301e+00  5.70154891e+00  4.40082211e+00\n",
      "  1.92052442e+00  1.06030216e+00  2.00594624e-01  6.16043817e+00\n",
      " -1.74788412e+00  8.28494170e+00 -8.14726283e-01  4.32665288e+00\n",
      "  1.61527390e+01 -2.07648836e+00  2.19275939e+00  2.58368607e+00\n",
      "  1.03263757e+01 -6.64049006e+00 -3.54453832e+00  4.80834058e+00\n",
      "  2.81716178e+00  6.57143386e+00 -2.25511414e+00  7.79386723e+00\n",
      " -1.61522485e+00 -3.86298914e+00 -3.38887213e+00 -2.02367115e+00\n",
      "  4.50895315e+00 -2.82188050e+00  2.69615130e+00 -1.41578035e+00\n",
      " -2.69295068e+00  7.28667442e+00  3.05228088e+00  4.13776486e+00\n",
      "  5.67677989e+00 -3.05904319e+00  5.94539384e+00  4.02046362e+00\n",
      " -3.43177269e+00 -2.17185438e-01 -1.48630537e+00  1.49149009e+00\n",
      "  6.62743735e+00  8.20501592e+00  1.62191765e+00  6.50106257e+00\n",
      " -1.45081900e+00  1.01823682e+01  3.73804998e+00  3.06879507e+00\n",
      " -4.74070516e+00  8.06464270e+00  3.80004873e+00  7.98806036e-01\n",
      "  2.97112483e+00 -4.43197023e-01 -7.96903392e+00  6.00096483e+00\n",
      "  1.19463350e+01  6.49646473e+00  3.94653455e+00  3.89192948e+00\n",
      "  3.60227195e+00  8.18093444e+00  1.58147756e+00  6.32782091e+00\n",
      "  4.65789856e+00  7.00966053e+00  3.73884029e+00  1.28400546e+00\n",
      "  2.54831417e+00  4.90944994e+00 -8.70941669e+00  9.22261545e+00\n",
      " -2.30973265e+00  4.64909470e+00 -1.02375489e+01 -2.28370259e+00\n",
      "  3.55065625e+00  2.16496820e+00  4.38976603e-01  1.96539739e+00\n",
      "  2.55720547e+00  2.59645571e+00  4.82343795e-01 -1.26752937e+00\n",
      "  1.53039668e+00 -8.39990921e+00  7.28805010e+00  6.12238930e+00\n",
      "  2.36548875e+00 -4.26772184e+00  4.35257027e-01 -4.54375150e+00\n",
      "  5.73273764e+00  9.02645450e+00  5.28014446e+00 -1.14662241e+00\n",
      " -9.77850588e-02  2.82083364e+00 -1.48702132e+00 -7.24395225e+00\n",
      "  1.72493004e+01 -6.44247702e+00  8.63109514e+00 -1.21439894e+00\n",
      "  1.82264852e+00 -5.43794104e+00  9.83496110e+00  3.12702512e+00\n",
      "  3.04728824e+00  3.75842897e+00  1.30275709e+01  3.06447188e+00\n",
      " -3.27014180e+00  6.34292221e+00 -1.91563942e+00  4.11545302e+00\n",
      "  2.14935204e-01  5.82851281e-01 -5.91736381e+00 -2.01674429e+00\n",
      "  2.88133449e+00 -6.44808920e+00 -1.20073605e+00 -2.48380234e-01\n",
      "  2.19497331e+00  5.25636436e+00 -2.44948313e+00  9.89491902e+00] [-8.62210566e-01  1.06153215e+00 -1.56198100e-01  1.09156985e+00\n",
      "  8.03442785e-01  2.72022027e+00  2.48276939e+00  1.37661866e+00\n",
      "  7.27435485e-01  1.69552472e+00  1.18321014e+00 -7.24837574e-01\n",
      "  1.18154469e+00  4.99858091e+00  1.08383022e+00  3.43961484e+00\n",
      " -1.55368532e-01 -5.24162591e-01  3.14892510e+00  1.31666714e-02\n",
      "  1.90303172e+00 -1.54248054e+00  2.59615169e+00  6.73309774e+00\n",
      "  2.26420971e+00  4.21757623e+00  4.81578667e+00  3.27214092e+00\n",
      "  2.99619975e+00  2.12750460e+00  2.18005982e+00  3.44340684e-01\n",
      "  7.92149057e-01  4.12682828e-01 -6.28063470e-01  2.91025222e+00\n",
      "  6.40011804e-01  2.13389326e+00  4.04006949e+00  1.60653294e+00\n",
      "  5.03257222e+00  2.59999933e+00  3.06960966e+00  6.63235224e-02\n",
      "  3.39696617e+00 -1.32260568e+00  1.00250752e+00  1.27502429e+00\n",
      "  3.56702669e+00  3.01705053e+00  2.46577540e-01  3.85414636e-01\n",
      " -8.59778484e-01  3.46742331e-02  1.55365816e+00 -2.39235655e-01\n",
      "  2.07155615e+00  2.61565766e+00  1.11583283e+00  3.11062486e+00\n",
      "  2.21382770e+00  1.50008577e-01  3.67324200e+00 -8.70241386e-01\n",
      "  8.29959912e-01  2.77224658e+00  2.73131314e+00  2.69707095e+00\n",
      "  2.31245063e+00 -3.81089715e-01  2.05508954e+00  1.73812729e+00\n",
      "  3.23949938e+00  9.03264864e-01  2.88462873e+00  3.00322585e+00\n",
      "  2.42387041e+00  2.87565609e-01 -1.22262175e+00  2.13629358e+00\n",
      "  4.46400552e-01  4.97815040e+00  2.81308125e+00  2.85192430e+00\n",
      "  2.18697290e+00  2.73874273e+00  6.24848701e+00 -1.14591384e+00\n",
      "  4.93849310e+00  3.76828810e+00  3.77254601e+00  2.68344213e+00\n",
      "  1.89060969e-01  1.76382089e+00  1.14375529e+00  4.64439720e+00\n",
      "  3.93266433e+00  2.33524013e+00  3.95682666e+00  1.55639047e+00\n",
      "  3.00712710e+00  8.09230391e-01  2.60453952e+00  2.56399948e+00\n",
      "  1.91327358e+00  3.22405668e+00  1.07001852e+00  3.41974566e+00\n",
      "  4.87839110e+00  3.55751853e+00  2.11513542e+00  1.71432593e+00\n",
      "  1.97527694e+00  3.96219865e+00  4.14692477e+00  4.31422735e+00\n",
      "  2.03590633e+00  3.73290280e+00  5.42383239e+00  1.28753530e-02\n",
      "  8.78338313e-01  3.37765449e+00 -1.17726931e+00 -2.67685603e-01\n",
      "  3.18011432e+00  1.09290820e+00  9.28929959e-01  1.20262426e+00\n",
      "  5.22959202e-01  2.80979886e+00  2.14643165e+00  1.91725918e+00\n",
      "  8.75034638e-01  3.30103564e+00 -3.08824283e+00  3.17407682e-01\n",
      "  1.90732637e-01  5.01410026e+00  3.43695500e+00  5.07448358e-01\n",
      "  6.07606496e+00  2.72968172e+00  3.47682313e+00 -5.02752244e-01\n",
      "  2.25414059e+00  1.89815365e+00  2.91610011e+00  2.04336419e+00\n",
      "  2.74713824e+00  2.45688586e+00 -4.45104124e-01 -4.05100065e-01\n",
      "  2.38431458e+00  5.43361903e+00  1.44719113e+00 -1.47836330e+00\n",
      " -9.55581285e-01 -1.02146853e-01 -3.54799803e+00  1.49637903e+00\n",
      "  2.20330641e+00  6.67548396e-01  4.09755695e+00  2.92865948e+00\n",
      "  1.65303358e-02  3.37546763e+00  3.28487684e+00 -8.18278625e-01\n",
      " -1.63578680e+00 -4.97247015e-03  2.91217454e+00  2.06871230e+00\n",
      "  2.78169961e+00  6.52470834e+00  1.78923196e+00  7.77167937e-01\n",
      "  2.80594895e+00  1.24343464e+00  3.55662945e+00  5.83231497e-02\n",
      "  2.22405234e+00  5.63244369e+00  1.69994031e+00  2.75663917e+00\n",
      " -1.26729750e+00  1.60659777e+00  1.99516985e+00  1.81218916e+00\n",
      "  7.90641380e-01  2.03515465e+00  1.14191805e-01  3.83419729e+00\n",
      "  1.71209479e+00  3.16935578e+00  4.30902633e+00  3.17077721e+00\n",
      "  3.27210187e+00 -3.39825851e-01  1.39620264e+00  8.91492457e-01\n",
      "  4.53297052e-01  6.11000809e+00  3.06165952e+00  2.06462117e+00\n",
      "  3.48014223e+00 -3.11218219e-01  4.09367372e+00  2.52915189e+00\n",
      " -2.16320425e-01  2.90650652e+00  4.08837298e+00  2.19026005e+00\n",
      "  2.70654703e+00  5.98533316e+00  1.42892573e+00  3.46949321e+00\n",
      " -1.29341557e+00  1.43950796e+00  1.77167152e+00  2.52905570e+00\n",
      "  6.87621641e-01  2.18453789e+00  3.25939473e+00  2.57884681e+00\n",
      "  4.99943097e-01  4.78792018e+00  3.49544392e+00  3.21934591e-01\n",
      "  1.69845296e+00  4.55365367e+00  1.51075472e-01  3.49082811e-01\n",
      "  2.17898749e+00  3.66406543e+00  2.86991734e+00  1.57347020e+00\n",
      "  2.60438459e+00  1.88619625e+00  2.15316980e+00  8.01575397e-02\n",
      "  1.01493198e+00  3.38113494e-01  3.70048051e+00  1.81739383e+00\n",
      " -5.39363483e-01  3.88340510e+00  3.45778388e+00  5.04541844e+00\n",
      " -3.08545941e-01  4.21067679e+00  1.85159108e-01  2.26657096e+00\n",
      " -1.58287802e+00  2.73278062e+00  3.70268998e+00  4.15815595e+00\n",
      "  1.70447187e+00  2.71955163e+00  1.64294722e+00  3.31836731e+00\n",
      " -6.63126228e-01  1.70251454e+00  9.81923233e-01  7.64956675e-01\n",
      "  4.49612747e-01  4.65421907e+00  2.71090993e+00  4.57566852e-01\n",
      "  2.07400237e+00  4.37623643e+00  5.36673895e+00  1.76337751e+00\n",
      " -5.08342231e-02  7.24411069e+00  3.95032911e+00  4.84401866e+00\n",
      " -2.54118709e+00  2.50741793e+00 -2.63650286e+00  4.39394216e-01\n",
      "  3.48218324e+00  2.19304109e+00  5.24501965e-01  4.89429592e+00\n",
      "  5.27730336e-01  1.18171244e-01  2.35765283e-01  4.97477411e+00\n",
      "  1.80507986e+00  2.27840885e+00  3.21066809e+00  1.98311065e+00\n",
      " -7.09115988e-01  3.78621502e+00 -3.05021521e-01  8.01283502e-01\n",
      "  1.79844539e+00  4.97489970e-01  3.29407058e+00  4.28204410e-01\n",
      "  2.62087176e+00 -1.90576355e-01  1.98805271e+00  1.98874344e+00\n",
      "  2.42581307e+00  8.26610601e-01  4.17133052e+00  1.27306681e+00\n",
      "  1.23790875e+00 -4.74994829e-01  2.95215444e+00  2.29706352e+00\n",
      "  4.27689509e-01  1.22594781e+00  4.98930110e+00  1.85546004e+00\n",
      "  1.19140915e+00 -1.61911313e+00  2.99900712e+00  1.23092682e+00\n",
      "  4.10395079e+00  8.61416260e-02  3.65892826e+00  8.27834648e-01\n",
      " -4.80111000e-01  1.00126838e+00  1.70766042e-01  1.32645823e+00\n",
      "  1.57149016e+00  1.37095521e+00  3.64161106e+00  8.75744684e-02\n",
      "  2.70994250e+00  2.58047915e-01  2.85248076e+00  4.98348163e+00\n",
      "  8.25146572e-01  1.45112990e+00  1.82751493e+00 -9.35718221e-01\n",
      "  6.72032693e+00  2.58411019e+00  3.69785137e+00  4.83972113e+00\n",
      "  1.18592440e+00  1.66859281e+00 -2.06923895e+00 -1.21062508e+00\n",
      " -1.00916864e+00  2.18652555e+00 -5.20776204e-01  4.99407791e+00\n",
      "  8.78500199e-01  1.42818034e+00  4.49828214e+00  3.03404775e+00\n",
      "  1.16893962e-01  1.85977241e+00 -1.10531208e+00  2.30037488e+00\n",
      "  2.06376341e+00  5.89126116e+00  2.67992411e+00  4.14011762e-01\n",
      "  3.42847607e+00  1.14918286e+00  1.08780187e+00  2.70354343e+00\n",
      "  2.20732767e+00  2.67785706e+00  1.65220862e+00  3.48031935e+00\n",
      "  4.24500314e+00 -1.23295884e-01  1.01049114e+00  1.37428287e+00\n",
      " -1.37434144e+00  2.35178565e+00  3.72843962e+00  1.90295897e+00\n",
      "  7.71552093e-01  4.66214600e+00  3.09346843e+00  4.74433049e+00\n",
      " -1.07529054e+00  3.07663299e+00  1.13479909e+00  4.07690381e+00\n",
      " -1.01547536e-01  1.60205650e+00 -1.01280673e+00  7.36780033e-01\n",
      " -1.02482610e-01  5.93984391e+00  2.93613077e+00  3.03269661e+00\n",
      "  2.57247626e+00  3.05935807e+00  3.31911093e+00  3.02247192e+00]\n"
     ]
    }
   ],
   "source": [
    "mu = 2.0\n",
    "sigma_1 = 5.0\n",
    "sigma_2 = 2.0\n",
    "muestras_1 = np.random.normal(loc = mu, scale = sigma_1, size = 400)\n",
    "muestras_2 = np.random.normal(loc = mu, scale = sigma_2, size = 400)\n",
    "print(muestras_1, muestras_2)"
   ]
  },
  {
   "cell_type": "markdown",
   "metadata": {
    "id": "rdUl6mVws68Y"
   },
   "source": [
    "Notar que son dos \"tiras\" de números, bastante largas y que a simple vista no nos dicen mucho. Mejor, podemos graficar su histograma. Veremos bien qué es un histograma en la próxima bitácora. Por ahora, basta saber que es una forma de visualizar cómo está distribuida una tira de números. Lo que hace es tomar un número determinado de intervalos (`bins = 20`) y contar cuántas muestras caen en cada intervalo."
   ]
  },
  {
   "cell_type": "code",
   "execution_count": 4,
   "metadata": {
    "id": "_Z1q5dz4s68Z",
    "outputId": "29932c49-36b5-4ad3-937f-27212b3979c3"
   },
   "outputs": [
    {
     "data": {
      "image/png": "[encoded data removed]",
      "text/plain": [
       "<Figure size 432x288 with 1 Axes>"
      ]
     },
     "metadata": {
      "needs_background": "light"
     },
     "output_type": "display_data"
    }
   ],
   "source": [
    "plt.hist(muestras_1, bins = 20, alpha = 0.5, label = 'Histrograma Muestra 1')\n",
    "plt.hist(muestras_2, bins = 20, alpha = 0.5, label = 'Histrograma Muestra 2')\n",
    "plt.legend()\n",
    "plt.grid()\n",
    "plt.show()"
   ]
  },
  {
   "cell_type": "markdown",
   "metadata": {
    "id": "gIHlwR1Xs68b"
   },
   "source": [
    "**Ejercicio:** Volver a \"generar\" las muestas y hacer sus histogramas. ¿Cambió?¿Por qué? Googlear que es una *semilla* (`seed`) en NumPy e implementar. También, cambiar la cantidad de muestras, modificando el argumento `size`. \n",
    "\n",
    "### 1.3 Relación entre Probabilidad y Estadística\n",
    "\n",
    "**Promedio y desviación estándar en una distribución Normal**\n",
    "\n",
    "En una distribución normal, el promedio de las muestras obtenidas *tiende* al valor medio $\\mu$ de la distribución, y la desviación estándar *tiende* a la desviacíon estándar $\\sigma$ de la distribución. Notar, entonces, que existen valores calculados (promedio, desviación estándar) y valores teóricos ($\\mu$ y $\\sigma$). Confundirlos entre sí es un error común.\n",
    "\n",
    "Veamos un ejemplo. Nuevamente, obtenemos muestras de una distribución normal:"
   ]
  },
  {
   "cell_type": "code",
   "execution_count": 5,
   "metadata": {
    "executionInfo": {
     "elapsed": 1099,
     "status": "ok",
     "timestamp": 1613678204681,
     "user": {
      "displayName": "mario puentes",
      "photoUrl": "",
      "userId": "06193586855972744289"
     },
     "user_tz": 300
    },
    "id": "dz8XZWols68d"
   },
   "outputs": [],
   "source": [
    "mu = 8.5\n",
    "sigma = 3.0\n",
    "muestras = np.random.normal(loc = mu, scale = sigma, size = 100)"
   ]
  },
  {
   "cell_type": "markdown",
   "metadata": {
    "id": "Tk3BYov4s68f"
   },
   "source": [
    "Y calculamos su promedio y desviación estándar, y comparamos con $\\mu$ y $\\sigma$."
   ]
  },
  {
   "cell_type": "code",
   "execution_count": 6,
   "metadata": {
    "id": "vV9NZQ78s68g",
    "outputId": "04aef177-045d-4e2a-c104-42dc149ba1e4"
   },
   "outputs": [
    {
     "name": "stdout",
     "output_type": "stream",
     "text": [
      "Valor medio teorico: 8.5 . Valor medio calculado: 7.931329047098874\n",
      "Desviacion estandar teorica: 3.0 . Desviacion estandar calculada: 3.2836009760125524\n"
     ]
    }
   ],
   "source": [
    "print('Valor medio teorico:', mu, '. Valor medio calculado:', muestras.mean())\n",
    "print('Desviacion estandar teorica:', sigma, '. Desviacion estandar calculada:', muestras.std())"
   ]
  },
  {
   "cell_type": "markdown",
   "metadata": {
    "id": "XaAyECxds68h"
   },
   "source": [
    "Comparemos el histograma de las muestras y la distribución teórica, que graficaremos haciendo uso de la librería `SciPy`:"
   ]
  },
  {
   "cell_type": "code",
   "execution_count": 7,
   "metadata": {
    "colab": {
     "base_uri": "https://localhost:8080/",
     "height": 281
    },
    "executionInfo": {
     "elapsed": 1139,
     "status": "ok",
     "timestamp": 1613678206939,
     "user": {
      "displayName": "mario puentes",
      "photoUrl": "",
      "userId": "06193586855972744289"
     },
     "user_tz": 300
    },
    "id": "ZaS6bS98s68i",
    "outputId": "36ad0233-688e-49d7-b044-4dd5dc247106"
   },
   "outputs": [
    {
     "data": {
      "image/png": "[encoded data removed]",
      "text/plain": [
       "<Figure size 432x288 with 1 Axes>"
      ]
     },
     "metadata": {
      "needs_background": "light"
     },
     "output_type": "display_data"
    }
   ],
   "source": [
    "from scipy.stats import norm\n",
    "\n",
    "plt.hist(muestras, bins=20, density=True, alpha=0.6, color='g')\n",
    "\n",
    "xmin, xmax = plt.xlim()\n",
    "x = np.linspace(xmin, xmax, 100)\n",
    "p = norm.pdf(x, mu, sigma)\n",
    "plt.plot(x, p, 'k', linewidth=2, label = 'Distribución Teórica')\n",
    "\n",
    "title = \"Muestras obtenidas de una distribución normal con mu = %.2f,  sigma = %.2f\" % (mu, sigma)\n",
    "\n",
    "plt.title(title)\n",
    "plt.legend()\n",
    "plt.show()"
   ]
  },
  {
   "cell_type": "markdown",
   "metadata": {
    "id": "OKGCGNtIs68k"
   },
   "source": [
    "**Nota:** si estás atento/a a la escala en el eje *y*, notarás que es distinta a la escala de los histogramas anteriores. Esto se debe a que, en un histograma, además de graficar la cantidad de muestras que entran en cada intervalo, podemos también graficar la **proporción** de muestras que entran en cada intervalo.\n",
    "\n",
    "**Para pensar y probar:** \n",
    "1. ¿Por qué no coinciden $\\mu$ y $\\sigma$ con los valores calculados?¿Qué podemos hacer para que se parezcan cada vez más?¿Y qué ocurre en ese caso con el histograma y la distribución teórica?\n",
    "2. Con respecto al ejercicio que acabamos de hacer, ¿cuáles son los *parámetros* asociados al mundo de las probabilidades y cuáles son los *valores estadísticos* asociados al mundo de la estadística?\n",
    "\n",
    "\n",
    "### Ejercitación\n",
    " \n",
    "Los siguientes ejercicios pueden parecer muy difíciles, pero te aseguramos que no lo son tanto. ¡Lo importante es que los intentes!\n",
    "\n",
    "**Ejercicio 1 - Challenge:** Muchos juegos de mesa requieren tirar dados y sumar sus resultados. Por ejemplo, el [Catán](https://es.wikipedia.org/wiki/Los_Colonos_de_Cat%C3%A1n). Es evidente que, mientras en un dado la probabilidad de que salga cada cara es la misma, en esta variable aleatoria todos los resultados no son igual de probables (¿Cuáles son los posibles resultados?). Entonces, para mejorar tu estrategia en estos juegos, es útil saber cuál es la probabilidad asociada a cada resultado. Para ello, debes calcular su distribución de probabilidad. Entonces, \n",
    "\n",
    "Obtener la distribución de la variable aleatoria *suma del resultado de tirar dos dados*. Para ello puedes intentar alguna o ambas de las siguientes opciones:\n",
    "1. **Obtener la distribución teórica:** para ello, basta contar los casos *a mano* con lápiz y papel. Por ejemplo:\n",
    "    1. Uno (1) es un resultado imposible\n",
    "    2. Dos (2) solamente puede ser obtenida con ambos dados en 1, 1 + 1\n",
    "    3. Tres (3) tiene dos opciones, 2 + 1 y 1 + 2\n",
    "    4. Cuatro (4) tiene tres opciones: 3 + 1, 2 + 2, 1 + 3\n",
    "    \n",
    "    y así para el resto de los posibles resultados. Completa la lista hasta el 12 y cuenta cuántas combinaciones existen para cada resultado. ¿Cuántos combinaciones debe haber en total, teniendo en cuenta que cada dado tiene seis caras? Al final, debes llevarlos a porcentaje. Por ejemplo, si en total son 100 posibles combinaciones, y el 12 tiene 10 posibles combinaciones, su probabilidad es 10/100 = 0.1\n",
    "    \n",
    "2. **Simular y obtener una distribución aproximada:** otra opción es simular esta situación. Viste en el notebook de la bitácora anterior cómo simular un dado. Ahora simula dos dados y obtiene la suma de sus resultados.\n",
    "\n",
    "¿Te animas a comparar ambos métodos?"
   ]
  },
  {
   "cell_type": "code",
   "execution_count": 8,
   "metadata": {
    "id": "2aB4jOAvs68m",
    "outputId": "566974c8-3559-4272-bc4a-36b7c1b01c0e"
   },
   "outputs": [
    {
     "data": {
      "image/png": "[encoded data removed]",
      "text/plain": [
       "<Figure size 432x288 with 1 Axes>"
      ]
     },
     "metadata": {
      "needs_background": "light"
     },
     "output_type": "display_data"
    }
   ],
   "source": [
    "muestras_dado_1 = np.random.randint(1,7, size = 1000000)\n",
    "muestras_dado_2 = np.random.randint(1,7, size = 1000000)\n",
    "\n",
    "suma = muestras_dado_1 + muestras_dado_2\n",
    "\n",
    "resultados = np.arange(2,13)\n",
    "valores_teoricos = np.array([1,2,3,4,5,6,5,4,3,2,1])/36\n",
    "\n",
    "plt.hist(suma, bins = np.arange(1.5,13.5,1), density=True, rwidth = 0.8, alpha = 0.75)\n",
    "plt.scatter(resultados, valores_teoricos, marker = '+', c = 'red', label = 'valores teoricos')\n",
    "plt.legend()\n",
    "plt.show()"
   ]
  },
  {
   "cell_type": "markdown",
   "metadata": {
    "id": "NLpYhX5js68p"
   },
   "source": [
    "**Ejercicio 2:** Obtiene, simulando, la distribución de la variable aleatoria *máximo valor obtenido al tirar dos dados.* Por ejemplo, si obtenemos 2 y 5, el resultado es 5. Nuevamente, si lo deseas, también puedes contar casos y obtener la distribución teórica."
   ]
  },
  {
   "cell_type": "code",
   "execution_count": 9,
   "metadata": {
    "colab": {
     "base_uri": "https://localhost:8080/",
     "height": 283
    },
    "executionInfo": {
     "elapsed": 896,
     "status": "ok",
     "timestamp": 1613678319125,
     "user": {
      "displayName": "mario puentes",
      "photoUrl": "",
      "userId": "06193586855972744289"
     },
     "user_tz": 300
    },
    "id": "RenUXYIbs68r",
    "outputId": "064b4bc4-3c34-4cee-db83-6be54bb8fbe6"
   },
   "outputs": [
    {
     "name": "stdout",
     "output_type": "stream",
     "text": [
      "(2, 100000)\n"
     ]
    },
    {
     "data": {
      "image/png": "[encoded data removed]",
      "text/plain": [
       "<Figure size 432x288 with 1 Axes>"
      ]
     },
     "metadata": {
      "needs_background": "light"
     },
     "output_type": "display_data"
    }
   ],
   "source": [
    "muestras_dado_1 = np.random.randint(1,7, size = 100000)\n",
    "muestras_dado_2 = np.random.randint(1,7, size = 100000)\n",
    "\n",
    "muestras = np.array([muestras_dado_1, muestras_dado_2])\n",
    "print(muestras.shape)\n",
    "\n",
    "maximos = np.max(muestras, axis = 0)\n",
    "\n",
    "resultados = np.arange(1,7)\n",
    "valores_teoricos = np.array([1,3,5,7,9,11])/36\n",
    "\n",
    "plt.hist(maximos, bins = np.arange(0.5,7.5,1), density=True, rwidth = 0.8, alpha = 0.75)\n",
    "plt.scatter(resultados, valores_teoricos, marker = '+', c = 'red', label = 'valores teoricos')\n",
    "plt.show()"
   ]
  },
  {
   "cell_type": "markdown",
   "metadata": {
    "id": "cn3MPePqs68t"
   },
   "source": [
    "## 2. Correlación\n",
    "\n",
    "El objetivo de esta sección es que te familiarices con los conceptos de **Covarianza** y **Correlación**. Si bien las fórmulas parecen difíciles, esperemos que veas que nada es tan grave como parece. También que prestes atención a cómo a veces es útil simular datos para aprender o acercarse a algunas técnicas.\n",
    "\n",
    "Tenemos dos variables aleatorias $X$ e $Y$, de las cuales tenemos $n$ muestras de cada una, $x_1,x_2,..., x_n$ e $y_1,y_2,..., y_n$. Sus valores medios son $\\bar{x}$ e $\\bar{y}$, respectivamente. Definimos la Covarianza como\n",
    "\n",
    "$$Cov(X,Y) = \\sum_{i=1}^{n} \\frac{(x_i - \\bar{x})(y_i - \\bar{y})}{n}$$\n",
    "\n",
    "A veces verás que, en lugar de dividir por $n$, se divide por $n - 1$ ó $n - 2$, pero eso no es importante ahora. Según Wikipedia, \"la covarianza es un valor que indica el grado de variación conjunta de dos variables aleatorias respecto a sus medias. Es el dato básico para determinar si existe una dependencia entre ambas variables y además es el dato necesario para estimar otros parámetros básicos, como el coeficiente de correlación lineal o la recta de regresión.\". \n",
    "\n",
    "Si bien la fórmula puede parecer difícil, veamos qué nos dice de nuestros datos simulando algunos casos sencillos.\n",
    "\n",
    "Empezamos generandos muestras al azar de dos variables aleatorias no relacionadas entre sí. "
   ]
  },
  {
   "cell_type": "code",
   "execution_count": 10,
   "metadata": {
    "executionInfo": {
     "elapsed": 527,
     "status": "ok",
     "timestamp": 1613678474234,
     "user": {
      "displayName": "mario puentes",
      "photoUrl": "",
      "userId": "06193586855972744289"
     },
     "user_tz": 300
    },
    "id": "ms5QVuc3s68v"
   },
   "outputs": [],
   "source": [
    "import matplotlib.pyplot as plt\n",
    "import numpy as np"
   ]
  },
  {
   "cell_type": "code",
   "execution_count": 11,
   "metadata": {
    "colab": {
     "base_uri": "https://localhost:8080/",
     "height": 269
    },
    "executionInfo": {
     "elapsed": 481,
     "status": "ok",
     "timestamp": 1613678479496,
     "user": {
      "displayName": "mario puentes",
      "photoUrl": "",
      "userId": "06193586855972744289"
     },
     "user_tz": 300
    },
    "id": "1vtUyU0Fs68w",
    "outputId": "955b8a5a-1e30-4814-acfb-5cd64f554cf6"
   },
   "outputs": [
    {
     "data": {
      "image/png": "[encoded data removed]",
      "text/plain": [
       "<Figure size 432x288 with 1 Axes>"
      ]
     },
     "metadata": {
      "needs_background": "light"
     },
     "output_type": "display_data"
    }
   ],
   "source": [
    "n = 1000\n",
    "sigma_1 = 2\n",
    "sigma_2 = 20\n",
    "x = np.random.normal(size = n, scale = sigma_1)\n",
    "y = np.random.normal(size = n, scale = sigma_2)\n",
    "\n",
    "# Graficamos\n",
    "plt.scatter(x, y)\n",
    "plt.grid()\n",
    "plt.xlim([-60,60])\n",
    "plt.ylim([-60,60])\n",
    "plt.show()"
   ]
  },
  {
   "cell_type": "markdown",
   "metadata": {
    "id": "L5wf1SoFs68y"
   },
   "source": [
    "¿Hay alguna relación entre ellos? Por relación nos referimos a \"variación conjunta\". Y por \"variación conjunta\" podemos imaginarnos que si una de las variables aumenta, la otra también lo hace. Y si una variable disminuye su valor, la otra también lo hace. La covarianza intenta cuantificar esa relación."
   ]
  },
  {
   "cell_type": "code",
   "execution_count": 12,
   "metadata": {
    "id": "ilV6UA8ns68z",
    "outputId": "be15e06a-a94b-425e-d9d7-9e8de7686672"
   },
   "outputs": [
    {
     "name": "stdout",
     "output_type": "stream",
     "text": [
      "0.4544035669570597\n"
     ]
    }
   ],
   "source": [
    "cov = np.sum((x - x.mean())*(y - y.mean()))/x.size\n",
    "print(cov)"
   ]
  },
  {
   "cell_type": "markdown",
   "metadata": {
    "id": "o4dD3RH0s680"
   },
   "source": [
    "La covarianza, sin embargo, tiene un pequeño problema: depende de la escala de nuestros datos. Entonces, para deshacernos de la escala, se puede definir la Correlación, que no es otra cosa que la covarianza dividida la desviación estándar de cada variable aletaria.\n",
    "\n",
    "$$Corr(X,Y) = \\frac{Cov(X,Y)}{\\sigma_X \\sigma_Y}$$"
   ]
  },
  {
   "cell_type": "code",
   "execution_count": 13,
   "metadata": {
    "id": "JCluMJAYs681",
    "outputId": "f13084db-5f13-4296-e2ba-413aaa15817b"
   },
   "outputs": [
    {
     "name": "stdout",
     "output_type": "stream",
     "text": [
      "0.010995110363003857\n"
     ]
    }
   ],
   "source": [
    "corr = cov/(x.std()*y.std())\n",
    "print(corr)"
   ]
  },
  {
   "cell_type": "markdown",
   "metadata": {
    "id": "qAmnbOjts682"
   },
   "source": [
    "Y con eso nos deshacemos de la escala. Un valor cercano a cero nos indica que no existe una relación (¿lineal?) entre las variables.\n",
    "\n",
    "**Probar** con distintas escalas (modificando `sigma_1` y `sigma_2`) y verán que `cov` tomará valores en un rango muy amplio, mientras que `corr` se mantendrá cercana a cero.\n",
    "\n",
    "### 2.1 Relación lineal\n",
    "\n",
    "Veamos otro ejemplo: sabemos que existe una relación lineal entre $X$ e $Y$, es decir, podemos aproximar $Y =aX+b$, donde $a$ y $b$ son la pendiente y la ordenada al origen."
   ]
  },
  {
   "cell_type": "code",
   "execution_count": 14,
   "metadata": {
    "id": "zwAW8Hy0s683",
    "outputId": "b8d64c37-6c93-4db6-a7b1-a2920444b401"
   },
   "outputs": [
    {
     "data": {
      "image/png": "[encoded data removed]",
      "text/plain": [
       "<Figure size 432x288 with 1 Axes>"
      ]
     },
     "metadata": {
      "needs_background": "light"
     },
     "output_type": "display_data"
    }
   ],
   "source": [
    "n = 100\n",
    "x = np.linspace(-1,1,n) + 0.25*np.random.normal(size = n)\n",
    "y = 4.5*x + 0.25*np.random.normal(size = n)\n",
    "\n",
    "# Graficamos\n",
    "plt.scatter(x, y)\n",
    "plt.grid()\n",
    "plt.show()"
   ]
  },
  {
   "cell_type": "markdown",
   "metadata": {
    "id": "i_exI4Tos684"
   },
   "source": [
    "La covarianza nos da"
   ]
  },
  {
   "cell_type": "code",
   "execution_count": 15,
   "metadata": {
    "id": "JakTxgBFs685",
    "outputId": "fceb0ba3-2f3c-432b-b9af-049a993d3f50"
   },
   "outputs": [
    {
     "name": "stdout",
     "output_type": "stream",
     "text": [
      "1.9732655098654412\n"
     ]
    }
   ],
   "source": [
    "cov = np.sum((x - x.mean())*(y - y.mean()))/x.size\n",
    "print(cov)"
   ]
  },
  {
   "cell_type": "code",
   "execution_count": 16,
   "metadata": {
    "id": "D9R1yD-3s686",
    "outputId": "c9677619-32fa-4902-f3c7-fe19ad46d16b"
   },
   "outputs": [
    {
     "data": {
      "text/plain": [
       "0.9958506225368458"
      ]
     },
     "execution_count": 16,
     "metadata": {},
     "output_type": "execute_result"
    }
   ],
   "source": [
    "corr = cov/(x.std()*y.std())\n",
    "corr"
   ]
  },
  {
   "cell_type": "markdown",
   "metadata": {
    "id": "iRtcVbNFs687"
   },
   "source": [
    "Ahora, en cambio, el valor es cercano a uno, indicando una relación lineal creciente entre ambas variables.\n",
    "\n",
    "**Probar** cambiando la pendiente de la función lineal (el número que multiplica a `x` en `y = ...`) y mirar qué pasa. ¿Qué pasa si la pendiente es negativa?"
   ]
  },
  {
   "cell_type": "markdown",
   "metadata": {
    "id": "uUca37lbs688"
   },
   "source": [
    "#### Conclusiones\n",
    "\n",
    "1. La covarianza es una medida de la variación conjunta de dos variables. Pero tiene un problema: depende de la escala.\n",
    "2. Para \"deshacernos\" de la escala, definimos la correlación, que es simplemente la covarianza dividida por el producto de la desviación estándar de cada variable. **Para pensar:** ¿por qué la desviación estándar está asociada a la escala de una variable?\n",
    "3. La correlación es un valor entre -1 y 1. La correlación toma un valor cercano a uno cuando hay una relación lineal creciente entre las variables, cero cuando no hay relación y -1 cuando hay una relación lineal decreciente.\n",
    "4. Esta correlación tiene un nombre particular: **Correlación de Pearson**."
   ]
  },
  {
   "cell_type": "markdown",
   "metadata": {
    "id": "_hN-0uFLs689"
   },
   "source": [
    "### 2.2 Covarianza y Correlación con NumPy\n",
    "\n",
    "**Esta sección es opcional**\n",
    "\n",
    "NumPy ya tiene incorporadas funciones que calculan la covarianza y la correlación entre dos variables. La única diferencia es que, en lugar de devolver un único valor, devuelve cuatro valores, que corresponden a la covarianza/correlación entre $X$ con $X$, $X$ con $Y$, $Y$ con $X$, e $Y$ con $Y$. ¿Por qué, en la correlación, algunos valores son exactamente uno (1.)?"
   ]
  },
  {
   "cell_type": "code",
   "execution_count": 17,
   "metadata": {
    "colab": {
     "base_uri": "https://localhost:8080/"
    },
    "executionInfo": {
     "elapsed": 414,
     "status": "ok",
     "timestamp": 1613678990948,
     "user": {
      "displayName": "mario puentes",
      "photoUrl": "",
      "userId": "06193586855972744289"
     },
     "user_tz": 300
    },
    "id": "1OFvlXU7s68-",
    "outputId": "aedde9dd-f1e7-46e6-8b1c-f1b1a4368ff8"
   },
   "outputs": [
    {
     "data": {
      "text/plain": [
       "array([[0.44805779, 1.99319748],\n",
       "       [1.99319748, 8.94083802]])"
      ]
     },
     "execution_count": 17,
     "metadata": {},
     "output_type": "execute_result"
    }
   ],
   "source": [
    "np.cov([x,y])"
   ]
  },
  {
   "cell_type": "code",
   "execution_count": 18,
   "metadata": {
    "id": "ViVxY4egs68_",
    "outputId": "f5551959-03c8-4ae6-cce1-1ad27d19dcd6"
   },
   "outputs": [
    {
     "data": {
      "text/plain": [
       "array([[1.        , 0.99585062],\n",
       "       [0.99585062, 1.        ]])"
      ]
     },
     "execution_count": 18,
     "metadata": {},
     "output_type": "execute_result"
    }
   ],
   "source": [
    "np.corrcoef([x,y])"
   ]
  },
  {
   "cell_type": "markdown",
   "metadata": {
    "id": "nRjvpDfLs69B"
   },
   "source": [
    "### 2.3 Relación No-Lineal entre variables\n",
    "\n",
    "¿Qué ocurre cuando la relación no es lineal entre las variables? Veámoslo con un ejemplo.\n"
   ]
  },
  {
   "cell_type": "code",
   "execution_count": 25,
   "metadata": {
    "id": "vWQQxdYOs69C",
    "outputId": "6ac94671-0f3d-473c-8484-931273d8e774"
   },
   "outputs": [
    {
     "data": {
      "image/png": "[encoded data removed]",
      "text/plain": [
       "<Figure size 432x288 with 1 Axes>"
      ]
     },
     "metadata": {
      "needs_background": "light"
     },
     "output_type": "display_data"
    }
   ],
   "source": [
    "n = 1000\n",
    "x = np.linspace(-5, 5, n) + 0.25 * np.random.normal(size=n)\n",
    "y = x**2 + 0.25 * np.random.normal(size = n)\n",
    "\n",
    "# Graficamos\n",
    "plt.scatter(x, y)\n",
    "plt.grid()\n",
    "plt.show()"
   ]
  },
  {
   "cell_type": "markdown",
   "metadata": {
    "id": "fdPnA5iqs69D"
   },
   "source": [
    "La covarianza nos da"
   ]
  },
  {
   "cell_type": "code",
   "execution_count": 26,
   "metadata": {
    "id": "zR4VrYAOs69E",
    "outputId": "710ba2d7-a969-4ba2-87ef-8a83a6e10adc"
   },
   "outputs": [
    {
     "name": "stdout",
     "output_type": "stream",
     "text": [
      "0.1005474180613628\n"
     ]
    }
   ],
   "source": [
    "cov = np.sum((x - x.mean())*(y - y.mean()))/x.size\n",
    "print(cov)"
   ]
  },
  {
   "cell_type": "code",
   "execution_count": 27,
   "metadata": {
    "id": "sATfp3wVs69F",
    "outputId": "b52b4b14-5ef6-4de8-b6b3-2fa7c0972b73"
   },
   "outputs": [
    {
     "data": {
      "text/plain": [
       "0.004585882459418405"
      ]
     },
     "execution_count": 27,
     "metadata": {},
     "output_type": "execute_result"
    }
   ],
   "source": [
    "corr = cov/(x.std()*y.std())\n",
    "corr"
   ]
  },
  {
   "cell_type": "code",
   "execution_count": 60,
   "metadata": {},
   "outputs": [],
   "source": [
    "x = np.linspace(0, 13, n)\n",
    "y1 = x\n",
    "y2 = x ** 3\n",
    "y3 = np.sin(x)"
   ]
  },
  {
   "cell_type": "code",
   "execution_count": 61,
   "metadata": {},
   "outputs": [
    {
     "data": {
      "image/png": "[encoded data removed]",
      "text/plain": [
       "<Figure size 432x288 with 1 Axes>"
      ]
     },
     "metadata": {
      "needs_background": "light"
     },
     "output_type": "display_data"
    }
   ],
   "source": [
    "plt.scatter(x,y1, label='lineal')\n",
    "#plt.scatter(x,y2, label='cúbica')\n",
    "plt.scatter(x,y3, label='sin')\n",
    "plt.legend()\n",
    "plt.grid()\n",
    "plt.show()"
   ]
  },
  {
   "cell_type": "code",
   "execution_count": 62,
   "metadata": {},
   "outputs": [
    {
     "data": {
      "text/plain": [
       "array([[ 1.        , -0.35136384],\n",
       "       [-0.35136384,  1.        ]])"
      ]
     },
     "execution_count": 62,
     "metadata": {},
     "output_type": "execute_result"
    }
   ],
   "source": [
    "np.corrcoef([y1,y3])"
   ]
  },
  {
   "cell_type": "markdown",
   "metadata": {
    "id": "trap3P27s69G"
   },
   "source": [
    "Notar que la correlación de un valor alrededor de cero, indicando que no hay una correlación entre ambas variables. Pero esto NO indica que no hay una *relación* entre esas variables, solamente nos dice que no es lineal. Por eso es muy importante graficar.\n",
    "\n",
    "**Probar** cambiando la relación matemática entre `x` e `y` y mirar qué pasa.\n",
    "\n",
    "Para tratar con relaciones no lineal entre variables, existen otros tipos de correlaciones. La que vimos se llama **Correlación de Pearson**, que es la más famosa. Pero también existen otras, Spearman y Kendall, que son muy útiles cuando existe una relación no lineal entre variables.\n",
    "\n",
    "### 3. Correlación en Pandas\n",
    "\n",
    "Probablemente ya estés un poco mareado/a con tantos términos, conceptos y líneas de código. Si no entendiste del todo lo anterior, no te preocupes. Vamos a ver cómo lo aplicamos en un conjunto de datos. ¡Verás que es muy sencillo!\n",
    "\n",
    "Para eso, volvemos a usar el Iris Dataset del encuentro anterior."
   ]
  },
  {
   "cell_type": "code",
   "execution_count": 22,
   "metadata": {
    "id": "xXPhrjnhs69H"
   },
   "outputs": [],
   "source": [
    "import pandas as pd"
   ]
  },
  {
   "cell_type": "code",
   "execution_count": 63,
   "metadata": {
    "id": "D-thSvmTs69I",
    "outputId": "9422a70d-f00e-41a5-9cef-2366aa3d3573"
   },
   "outputs": [
    {
     "data": {
      "text/html": [
       "<div>\n",
       "<style scoped>\n",
       "    .dataframe tbody tr th:only-of-type {\n",
       "        vertical-align: middle;\n",
       "    }\n",
       "\n",
       "    .dataframe tbody tr th {\n",
       "        vertical-align: top;\n",
       "    }\n",
       "\n",
       "    .dataframe thead th {\n",
       "        text-align: right;\n",
       "    }\n",
       "</style>\n",
       "<table border=\"1\" class=\"dataframe\">\n",
       "  <thead>\n",
       "    <tr style=\"text-align: right;\">\n",
       "      <th></th>\n",
       "      <th>SepalLengthCm</th>\n",
       "      <th>SepalWidthCm</th>\n",
       "      <th>PetalLengthCm</th>\n",
       "      <th>PetalWidthCm</th>\n",
       "      <th>Species</th>\n",
       "    </tr>\n",
       "  </thead>\n",
       "  <tbody>\n",
       "    <tr>\n",
       "      <th>0</th>\n",
       "      <td>5.1</td>\n",
       "      <td>3.5</td>\n",
       "      <td>1.4</td>\n",
       "      <td>0.2</td>\n",
       "      <td>Iris-setosa</td>\n",
       "    </tr>\n",
       "    <tr>\n",
       "      <th>1</th>\n",
       "      <td>4.9</td>\n",
       "      <td>3.0</td>\n",
       "      <td>1.4</td>\n",
       "      <td>0.2</td>\n",
       "      <td>Iris-setosa</td>\n",
       "    </tr>\n",
       "    <tr>\n",
       "      <th>2</th>\n",
       "      <td>4.7</td>\n",
       "      <td>3.2</td>\n",
       "      <td>1.3</td>\n",
       "      <td>0.2</td>\n",
       "      <td>Iris-setosa</td>\n",
       "    </tr>\n",
       "    <tr>\n",
       "      <th>3</th>\n",
       "      <td>4.6</td>\n",
       "      <td>3.1</td>\n",
       "      <td>1.5</td>\n",
       "      <td>0.2</td>\n",
       "      <td>Iris-setosa</td>\n",
       "    </tr>\n",
       "    <tr>\n",
       "      <th>4</th>\n",
       "      <td>5.0</td>\n",
       "      <td>3.6</td>\n",
       "      <td>1.4</td>\n",
       "      <td>0.2</td>\n",
       "      <td>Iris-setosa</td>\n",
       "    </tr>\n",
       "  </tbody>\n",
       "</table>\n",
       "</div>"
      ],
      "text/plain": [
       "   SepalLengthCm  SepalWidthCm  PetalLengthCm  PetalWidthCm      Species\n",
       "0            5.1           3.5            1.4           0.2  Iris-setosa\n",
       "1            4.9           3.0            1.4           0.2  Iris-setosa\n",
       "2            4.7           3.2            1.3           0.2  Iris-setosa\n",
       "3            4.6           3.1            1.5           0.2  Iris-setosa\n",
       "4            5.0           3.6            1.4           0.2  Iris-setosa"
      ]
     },
     "execution_count": 63,
     "metadata": {},
     "output_type": "execute_result"
    }
   ],
   "source": [
    "data = pd.read_csv('DS_Bitácora_04_Iris.csv')\n",
    "data.drop(columns = 'Id', inplace = True)\n",
    "data.head()"
   ]
  },
  {
   "cell_type": "markdown",
   "metadata": {
    "id": "cWgzJpRds69J"
   },
   "source": [
    "Para obtener las correlaciones entre las distintas variables, simplemente tenemos que hacer:"
   ]
  },
  {
   "cell_type": "code",
   "execution_count": 64,
   "metadata": {
    "id": "wGAPih7ls69K",
    "outputId": "8ead23d5-d965-4ca4-9fdb-f553980d944e"
   },
   "outputs": [
    {
     "data": {
      "text/html": [
       "<div>\n",
       "<style scoped>\n",
       "    .dataframe tbody tr th:only-of-type {\n",
       "        vertical-align: middle;\n",
       "    }\n",
       "\n",
       "    .dataframe tbody tr th {\n",
       "        vertical-align: top;\n",
       "    }\n",
       "\n",
       "    .dataframe thead th {\n",
       "        text-align: right;\n",
       "    }\n",
       "</style>\n",
       "<table border=\"1\" class=\"dataframe\">\n",
       "  <thead>\n",
       "    <tr style=\"text-align: right;\">\n",
       "      <th></th>\n",
       "      <th>SepalLengthCm</th>\n",
       "      <th>SepalWidthCm</th>\n",
       "      <th>PetalLengthCm</th>\n",
       "      <th>PetalWidthCm</th>\n",
       "    </tr>\n",
       "  </thead>\n",
       "  <tbody>\n",
       "    <tr>\n",
       "      <th>SepalLengthCm</th>\n",
       "      <td>1.000000</td>\n",
       "      <td>-0.109369</td>\n",
       "      <td>0.871754</td>\n",
       "      <td>0.817954</td>\n",
       "    </tr>\n",
       "    <tr>\n",
       "      <th>SepalWidthCm</th>\n",
       "      <td>-0.109369</td>\n",
       "      <td>1.000000</td>\n",
       "      <td>-0.420516</td>\n",
       "      <td>-0.356544</td>\n",
       "    </tr>\n",
       "    <tr>\n",
       "      <th>PetalLengthCm</th>\n",
       "      <td>0.871754</td>\n",
       "      <td>-0.420516</td>\n",
       "      <td>1.000000</td>\n",
       "      <td>0.962757</td>\n",
       "    </tr>\n",
       "    <tr>\n",
       "      <th>PetalWidthCm</th>\n",
       "      <td>0.817954</td>\n",
       "      <td>-0.356544</td>\n",
       "      <td>0.962757</td>\n",
       "      <td>1.000000</td>\n",
       "    </tr>\n",
       "  </tbody>\n",
       "</table>\n",
       "</div>"
      ],
      "text/plain": [
       "               SepalLengthCm  SepalWidthCm  PetalLengthCm  PetalWidthCm\n",
       "SepalLengthCm       1.000000     -0.109369       0.871754      0.817954\n",
       "SepalWidthCm       -0.109369      1.000000      -0.420516     -0.356544\n",
       "PetalLengthCm       0.871754     -0.420516       1.000000      0.962757\n",
       "PetalWidthCm        0.817954     -0.356544       0.962757      1.000000"
      ]
     },
     "execution_count": 64,
     "metadata": {},
     "output_type": "execute_result"
    }
   ],
   "source": [
    "data.corr()"
   ]
  },
  {
   "cell_type": "markdown",
   "metadata": {
    "id": "iDDhqEyEs69L"
   },
   "source": [
    "**Para responder**: ¿Cuáles variables están correlacionadas entre sí?¿Por qué los elementos de la diagonal son exactamente uno (1.0)?\n",
    "\n",
    "Dentro de dos encuentros veremos una forma más eficiente de visualizar esta información, ¡pero ya puedes aplicarla!"
   ]
  },
  {
   "cell_type": "code",
   "execution_count": 66,
   "metadata": {},
   "outputs": [
    {
     "data": {
      "text/html": [
       "<div>\n",
       "<style scoped>\n",
       "    .dataframe tbody tr th:only-of-type {\n",
       "        vertical-align: middle;\n",
       "    }\n",
       "\n",
       "    .dataframe tbody tr th {\n",
       "        vertical-align: top;\n",
       "    }\n",
       "\n",
       "    .dataframe thead th {\n",
       "        text-align: right;\n",
       "    }\n",
       "</style>\n",
       "<table border=\"1\" class=\"dataframe\">\n",
       "  <thead>\n",
       "    <tr style=\"text-align: right;\">\n",
       "      <th></th>\n",
       "      <th>SepalLengthCm</th>\n",
       "      <th>SepalWidthCm</th>\n",
       "      <th>PetalLengthCm</th>\n",
       "      <th>PetalWidthCm</th>\n",
       "      <th>Species</th>\n",
       "    </tr>\n",
       "  </thead>\n",
       "  <tbody>\n",
       "    <tr>\n",
       "      <th>0</th>\n",
       "      <td>5.1</td>\n",
       "      <td>3.5</td>\n",
       "      <td>1.4</td>\n",
       "      <td>0.2</td>\n",
       "      <td>Iris-setosa</td>\n",
       "    </tr>\n",
       "    <tr>\n",
       "      <th>1</th>\n",
       "      <td>4.9</td>\n",
       "      <td>3.0</td>\n",
       "      <td>1.4</td>\n",
       "      <td>0.2</td>\n",
       "      <td>Iris-setosa</td>\n",
       "    </tr>\n",
       "    <tr>\n",
       "      <th>2</th>\n",
       "      <td>4.7</td>\n",
       "      <td>3.2</td>\n",
       "      <td>1.3</td>\n",
       "      <td>0.2</td>\n",
       "      <td>Iris-setosa</td>\n",
       "    </tr>\n",
       "    <tr>\n",
       "      <th>3</th>\n",
       "      <td>4.6</td>\n",
       "      <td>3.1</td>\n",
       "      <td>1.5</td>\n",
       "      <td>0.2</td>\n",
       "      <td>Iris-setosa</td>\n",
       "    </tr>\n",
       "    <tr>\n",
       "      <th>4</th>\n",
       "      <td>5.0</td>\n",
       "      <td>3.6</td>\n",
       "      <td>1.4</td>\n",
       "      <td>0.2</td>\n",
       "      <td>Iris-setosa</td>\n",
       "    </tr>\n",
       "  </tbody>\n",
       "</table>\n",
       "</div>"
      ],
      "text/plain": [
       "   SepalLengthCm  SepalWidthCm  PetalLengthCm  PetalWidthCm      Species\n",
       "0            5.1           3.5            1.4           0.2  Iris-setosa\n",
       "1            4.9           3.0            1.4           0.2  Iris-setosa\n",
       "2            4.7           3.2            1.3           0.2  Iris-setosa\n",
       "3            4.6           3.1            1.5           0.2  Iris-setosa\n",
       "4            5.0           3.6            1.4           0.2  Iris-setosa"
      ]
     },
     "execution_count": 66,
     "metadata": {},
     "output_type": "execute_result"
    }
   ],
   "source": [
    "data.head()"
   ]
  },
  {
   "cell_type": "code",
   "execution_count": 68,
   "metadata": {},
   "outputs": [
    {
     "data": {
      "text/plain": [
       "SepalLengthCm    float64\n",
       "SepalWidthCm     float64\n",
       "PetalLengthCm    float64\n",
       "PetalWidthCm     float64\n",
       "Species           object\n",
       "dtype: object"
      ]
     },
     "execution_count": 68,
     "metadata": {},
     "output_type": "execute_result"
    }
   ],
   "source": [
    "data.dtypes"
   ]
  },
  {
   "cell_type": "code",
   "execution_count": 69,
   "metadata": {},
   "outputs": [
    {
     "data": {
      "text/html": [
       "<div>\n",
       "<style scoped>\n",
       "    .dataframe tbody tr th:only-of-type {\n",
       "        vertical-align: middle;\n",
       "    }\n",
       "\n",
       "    .dataframe tbody tr th {\n",
       "        vertical-align: top;\n",
       "    }\n",
       "\n",
       "    .dataframe thead th {\n",
       "        text-align: right;\n",
       "    }\n",
       "</style>\n",
       "<table border=\"1\" class=\"dataframe\">\n",
       "  <thead>\n",
       "    <tr style=\"text-align: right;\">\n",
       "      <th></th>\n",
       "      <th>SepalLengthCm</th>\n",
       "      <th>SepalWidthCm</th>\n",
       "      <th>PetalLengthCm</th>\n",
       "      <th>PetalWidthCm</th>\n",
       "    </tr>\n",
       "  </thead>\n",
       "  <tbody>\n",
       "    <tr>\n",
       "      <th>count</th>\n",
       "      <td>150.000000</td>\n",
       "      <td>150.000000</td>\n",
       "      <td>150.000000</td>\n",
       "      <td>150.000000</td>\n",
       "    </tr>\n",
       "    <tr>\n",
       "      <th>mean</th>\n",
       "      <td>5.843333</td>\n",
       "      <td>3.054000</td>\n",
       "      <td>3.758667</td>\n",
       "      <td>1.198667</td>\n",
       "    </tr>\n",
       "    <tr>\n",
       "      <th>std</th>\n",
       "      <td>0.828066</td>\n",
       "      <td>0.433594</td>\n",
       "      <td>1.764420</td>\n",
       "      <td>0.763161</td>\n",
       "    </tr>\n",
       "    <tr>\n",
       "      <th>min</th>\n",
       "      <td>4.300000</td>\n",
       "      <td>2.000000</td>\n",
       "      <td>1.000000</td>\n",
       "      <td>0.100000</td>\n",
       "    </tr>\n",
       "    <tr>\n",
       "      <th>25%</th>\n",
       "      <td>5.100000</td>\n",
       "      <td>2.800000</td>\n",
       "      <td>1.600000</td>\n",
       "      <td>0.300000</td>\n",
       "    </tr>\n",
       "    <tr>\n",
       "      <th>50%</th>\n",
       "      <td>5.800000</td>\n",
       "      <td>3.000000</td>\n",
       "      <td>4.350000</td>\n",
       "      <td>1.300000</td>\n",
       "    </tr>\n",
       "    <tr>\n",
       "      <th>75%</th>\n",
       "      <td>6.400000</td>\n",
       "      <td>3.300000</td>\n",
       "      <td>5.100000</td>\n",
       "      <td>1.800000</td>\n",
       "    </tr>\n",
       "    <tr>\n",
       "      <th>max</th>\n",
       "      <td>7.900000</td>\n",
       "      <td>4.400000</td>\n",
       "      <td>6.900000</td>\n",
       "      <td>2.500000</td>\n",
       "    </tr>\n",
       "  </tbody>\n",
       "</table>\n",
       "</div>"
      ],
      "text/plain": [
       "       SepalLengthCm  SepalWidthCm  PetalLengthCm  PetalWidthCm\n",
       "count     150.000000    150.000000     150.000000    150.000000\n",
       "mean        5.843333      3.054000       3.758667      1.198667\n",
       "std         0.828066      0.433594       1.764420      0.763161\n",
       "min         4.300000      2.000000       1.000000      0.100000\n",
       "25%         5.100000      2.800000       1.600000      0.300000\n",
       "50%         5.800000      3.000000       4.350000      1.300000\n",
       "75%         6.400000      3.300000       5.100000      1.800000\n",
       "max         7.900000      4.400000       6.900000      2.500000"
      ]
     },
     "execution_count": 69,
     "metadata": {},
     "output_type": "execute_result"
    }
   ],
   "source": [
    "data.describe()"
   ]
  },
  {
   "cell_type": "code",
   "execution_count": 70,
   "metadata": {},
   "outputs": [
    {
     "data": {
      "text/html": [
       "<div>\n",
       "<style scoped>\n",
       "    .dataframe tbody tr th:only-of-type {\n",
       "        vertical-align: middle;\n",
       "    }\n",
       "\n",
       "    .dataframe tbody tr th {\n",
       "        vertical-align: top;\n",
       "    }\n",
       "\n",
       "    .dataframe thead th {\n",
       "        text-align: right;\n",
       "    }\n",
       "</style>\n",
       "<table border=\"1\" class=\"dataframe\">\n",
       "  <thead>\n",
       "    <tr style=\"text-align: right;\">\n",
       "      <th></th>\n",
       "      <th>SepalLengthCm</th>\n",
       "      <th>SepalWidthCm</th>\n",
       "      <th>PetalLengthCm</th>\n",
       "      <th>PetalWidthCm</th>\n",
       "    </tr>\n",
       "  </thead>\n",
       "  <tbody>\n",
       "    <tr>\n",
       "      <th>SepalLengthCm</th>\n",
       "      <td>1.000000</td>\n",
       "      <td>-0.109369</td>\n",
       "      <td>0.871754</td>\n",
       "      <td>0.817954</td>\n",
       "    </tr>\n",
       "    <tr>\n",
       "      <th>SepalWidthCm</th>\n",
       "      <td>-0.109369</td>\n",
       "      <td>1.000000</td>\n",
       "      <td>-0.420516</td>\n",
       "      <td>-0.356544</td>\n",
       "    </tr>\n",
       "    <tr>\n",
       "      <th>PetalLengthCm</th>\n",
       "      <td>0.871754</td>\n",
       "      <td>-0.420516</td>\n",
       "      <td>1.000000</td>\n",
       "      <td>0.962757</td>\n",
       "    </tr>\n",
       "    <tr>\n",
       "      <th>PetalWidthCm</th>\n",
       "      <td>0.817954</td>\n",
       "      <td>-0.356544</td>\n",
       "      <td>0.962757</td>\n",
       "      <td>1.000000</td>\n",
       "    </tr>\n",
       "  </tbody>\n",
       "</table>\n",
       "</div>"
      ],
      "text/plain": [
       "               SepalLengthCm  SepalWidthCm  PetalLengthCm  PetalWidthCm\n",
       "SepalLengthCm       1.000000     -0.109369       0.871754      0.817954\n",
       "SepalWidthCm       -0.109369      1.000000      -0.420516     -0.356544\n",
       "PetalLengthCm       0.871754     -0.420516       1.000000      0.962757\n",
       "PetalWidthCm        0.817954     -0.356544       0.962757      1.000000"
      ]
     },
     "execution_count": 70,
     "metadata": {},
     "output_type": "execute_result"
    }
   ],
   "source": [
    "data.corr()"
   ]
  },
  {
   "cell_type": "code",
   "execution_count": 71,
   "metadata": {},
   "outputs": [
    {
     "data": {
      "text/html": [
       "<div>\n",
       "<style scoped>\n",
       "    .dataframe tbody tr th:only-of-type {\n",
       "        vertical-align: middle;\n",
       "    }\n",
       "\n",
       "    .dataframe tbody tr th {\n",
       "        vertical-align: top;\n",
       "    }\n",
       "\n",
       "    .dataframe thead th {\n",
       "        text-align: right;\n",
       "    }\n",
       "</style>\n",
       "<table border=\"1\" class=\"dataframe\">\n",
       "  <thead>\n",
       "    <tr style=\"text-align: right;\">\n",
       "      <th></th>\n",
       "      <th>SepalLengthCm</th>\n",
       "      <th>SepalWidthCm</th>\n",
       "      <th>PetalLengthCm</th>\n",
       "      <th>PetalWidthCm</th>\n",
       "      <th>Species</th>\n",
       "    </tr>\n",
       "  </thead>\n",
       "  <tbody>\n",
       "    <tr>\n",
       "      <th>0</th>\n",
       "      <td>5.1</td>\n",
       "      <td>3.5</td>\n",
       "      <td>1.4</td>\n",
       "      <td>0.2</td>\n",
       "      <td>Iris-setosa</td>\n",
       "    </tr>\n",
       "    <tr>\n",
       "      <th>1</th>\n",
       "      <td>4.9</td>\n",
       "      <td>3.0</td>\n",
       "      <td>1.4</td>\n",
       "      <td>0.2</td>\n",
       "      <td>Iris-setosa</td>\n",
       "    </tr>\n",
       "    <tr>\n",
       "      <th>2</th>\n",
       "      <td>4.7</td>\n",
       "      <td>3.2</td>\n",
       "      <td>1.3</td>\n",
       "      <td>0.2</td>\n",
       "      <td>Iris-setosa</td>\n",
       "    </tr>\n",
       "    <tr>\n",
       "      <th>3</th>\n",
       "      <td>4.6</td>\n",
       "      <td>3.1</td>\n",
       "      <td>1.5</td>\n",
       "      <td>0.2</td>\n",
       "      <td>Iris-setosa</td>\n",
       "    </tr>\n",
       "    <tr>\n",
       "      <th>4</th>\n",
       "      <td>5.0</td>\n",
       "      <td>3.6</td>\n",
       "      <td>1.4</td>\n",
       "      <td>0.2</td>\n",
       "      <td>Iris-setosa</td>\n",
       "    </tr>\n",
       "    <tr>\n",
       "      <th>...</th>\n",
       "      <td>...</td>\n",
       "      <td>...</td>\n",
       "      <td>...</td>\n",
       "      <td>...</td>\n",
       "      <td>...</td>\n",
       "    </tr>\n",
       "    <tr>\n",
       "      <th>145</th>\n",
       "      <td>6.7</td>\n",
       "      <td>3.0</td>\n",
       "      <td>5.2</td>\n",
       "      <td>2.3</td>\n",
       "      <td>Iris-virginica</td>\n",
       "    </tr>\n",
       "    <tr>\n",
       "      <th>146</th>\n",
       "      <td>6.3</td>\n",
       "      <td>2.5</td>\n",
       "      <td>5.0</td>\n",
       "      <td>1.9</td>\n",
       "      <td>Iris-virginica</td>\n",
       "    </tr>\n",
       "    <tr>\n",
       "      <th>147</th>\n",
       "      <td>6.5</td>\n",
       "      <td>3.0</td>\n",
       "      <td>5.2</td>\n",
       "      <td>2.0</td>\n",
       "      <td>Iris-virginica</td>\n",
       "    </tr>\n",
       "    <tr>\n",
       "      <th>148</th>\n",
       "      <td>6.2</td>\n",
       "      <td>3.4</td>\n",
       "      <td>5.4</td>\n",
       "      <td>2.3</td>\n",
       "      <td>Iris-virginica</td>\n",
       "    </tr>\n",
       "    <tr>\n",
       "      <th>149</th>\n",
       "      <td>5.9</td>\n",
       "      <td>3.0</td>\n",
       "      <td>5.1</td>\n",
       "      <td>1.8</td>\n",
       "      <td>Iris-virginica</td>\n",
       "    </tr>\n",
       "  </tbody>\n",
       "</table>\n",
       "<p>150 rows × 5 columns</p>\n",
       "</div>"
      ],
      "text/plain": [
       "     SepalLengthCm  SepalWidthCm  PetalLengthCm  PetalWidthCm         Species\n",
       "0              5.1           3.5            1.4           0.2     Iris-setosa\n",
       "1              4.9           3.0            1.4           0.2     Iris-setosa\n",
       "2              4.7           3.2            1.3           0.2     Iris-setosa\n",
       "3              4.6           3.1            1.5           0.2     Iris-setosa\n",
       "4              5.0           3.6            1.4           0.2     Iris-setosa\n",
       "..             ...           ...            ...           ...             ...\n",
       "145            6.7           3.0            5.2           2.3  Iris-virginica\n",
       "146            6.3           2.5            5.0           1.9  Iris-virginica\n",
       "147            6.5           3.0            5.2           2.0  Iris-virginica\n",
       "148            6.2           3.4            5.4           2.3  Iris-virginica\n",
       "149            5.9           3.0            5.1           1.8  Iris-virginica\n",
       "\n",
       "[150 rows x 5 columns]"
      ]
     },
     "execution_count": 71,
     "metadata": {},
     "output_type": "execute_result"
    }
   ],
   "source": [
    "data"
   ]
  },
  {
   "cell_type": "code",
   "execution_count": 75,
   "metadata": {},
   "outputs": [],
   "source": [
    "max_sepalLengthCm = 7.9\n",
    "min_max_sepalLengthCm = 4.3"
   ]
  },
  {
   "cell_type": "code",
   "execution_count": 81,
   "metadata": {},
   "outputs": [],
   "source": [
    "data['max_sepalLengthCm_1'] = data['SepalLengthCm'] / max_sepalLengthCm\n",
    "data['max_sepalLengthCm_2'] = (data['SepalLengthCm'] - min_max_sepalLengthCm) / max_sepalLengthCm"
   ]
  },
  {
   "cell_type": "code",
   "execution_count": 82,
   "metadata": {},
   "outputs": [
    {
     "data": {
      "text/html": [
       "<div>\n",
       "<style scoped>\n",
       "    .dataframe tbody tr th:only-of-type {\n",
       "        vertical-align: middle;\n",
       "    }\n",
       "\n",
       "    .dataframe tbody tr th {\n",
       "        vertical-align: top;\n",
       "    }\n",
       "\n",
       "    .dataframe thead th {\n",
       "        text-align: right;\n",
       "    }\n",
       "</style>\n",
       "<table border=\"1\" class=\"dataframe\">\n",
       "  <thead>\n",
       "    <tr style=\"text-align: right;\">\n",
       "      <th></th>\n",
       "      <th>SepalLengthCm</th>\n",
       "      <th>SepalWidthCm</th>\n",
       "      <th>PetalLengthCm</th>\n",
       "      <th>PetalWidthCm</th>\n",
       "      <th>max_sepalLengthCm_1</th>\n",
       "      <th>max_sepalLengthCm_2</th>\n",
       "    </tr>\n",
       "  </thead>\n",
       "  <tbody>\n",
       "    <tr>\n",
       "      <th>count</th>\n",
       "      <td>150.000000</td>\n",
       "      <td>150.000000</td>\n",
       "      <td>150.000000</td>\n",
       "      <td>150.000000</td>\n",
       "      <td>150.000000</td>\n",
       "      <td>150.000000</td>\n",
       "    </tr>\n",
       "    <tr>\n",
       "      <th>mean</th>\n",
       "      <td>5.843333</td>\n",
       "      <td>3.054000</td>\n",
       "      <td>3.758667</td>\n",
       "      <td>1.198667</td>\n",
       "      <td>0.739662</td>\n",
       "      <td>0.195359</td>\n",
       "    </tr>\n",
       "    <tr>\n",
       "      <th>std</th>\n",
       "      <td>0.828066</td>\n",
       "      <td>0.433594</td>\n",
       "      <td>1.764420</td>\n",
       "      <td>0.763161</td>\n",
       "      <td>0.104818</td>\n",
       "      <td>0.104818</td>\n",
       "    </tr>\n",
       "    <tr>\n",
       "      <th>min</th>\n",
       "      <td>4.300000</td>\n",
       "      <td>2.000000</td>\n",
       "      <td>1.000000</td>\n",
       "      <td>0.100000</td>\n",
       "      <td>0.544304</td>\n",
       "      <td>0.000000</td>\n",
       "    </tr>\n",
       "    <tr>\n",
       "      <th>25%</th>\n",
       "      <td>5.100000</td>\n",
       "      <td>2.800000</td>\n",
       "      <td>1.600000</td>\n",
       "      <td>0.300000</td>\n",
       "      <td>0.645570</td>\n",
       "      <td>0.101266</td>\n",
       "    </tr>\n",
       "    <tr>\n",
       "      <th>50%</th>\n",
       "      <td>5.800000</td>\n",
       "      <td>3.000000</td>\n",
       "      <td>4.350000</td>\n",
       "      <td>1.300000</td>\n",
       "      <td>0.734177</td>\n",
       "      <td>0.189873</td>\n",
       "    </tr>\n",
       "    <tr>\n",
       "      <th>75%</th>\n",
       "      <td>6.400000</td>\n",
       "      <td>3.300000</td>\n",
       "      <td>5.100000</td>\n",
       "      <td>1.800000</td>\n",
       "      <td>0.810127</td>\n",
       "      <td>0.265823</td>\n",
       "    </tr>\n",
       "    <tr>\n",
       "      <th>max</th>\n",
       "      <td>7.900000</td>\n",
       "      <td>4.400000</td>\n",
       "      <td>6.900000</td>\n",
       "      <td>2.500000</td>\n",
       "      <td>1.000000</td>\n",
       "      <td>0.455696</td>\n",
       "    </tr>\n",
       "  </tbody>\n",
       "</table>\n",
       "</div>"
      ],
      "text/plain": [
       "       SepalLengthCm  SepalWidthCm  PetalLengthCm  PetalWidthCm  \\\n",
       "count     150.000000    150.000000     150.000000    150.000000   \n",
       "mean        5.843333      3.054000       3.758667      1.198667   \n",
       "std         0.828066      0.433594       1.764420      0.763161   \n",
       "min         4.300000      2.000000       1.000000      0.100000   \n",
       "25%         5.100000      2.800000       1.600000      0.300000   \n",
       "50%         5.800000      3.000000       4.350000      1.300000   \n",
       "75%         6.400000      3.300000       5.100000      1.800000   \n",
       "max         7.900000      4.400000       6.900000      2.500000   \n",
       "\n",
       "       max_sepalLengthCm_1  max_sepalLengthCm_2  \n",
       "count           150.000000           150.000000  \n",
       "mean              0.739662             0.195359  \n",
       "std               0.104818             0.104818  \n",
       "min               0.544304             0.000000  \n",
       "25%               0.645570             0.101266  \n",
       "50%               0.734177             0.189873  \n",
       "75%               0.810127             0.265823  \n",
       "max               1.000000             0.455696  "
      ]
     },
     "execution_count": 82,
     "metadata": {},
     "output_type": "execute_result"
    }
   ],
   "source": [
    "data.describe()"
   ]
  },
  {
   "cell_type": "code",
   "execution_count": 83,
   "metadata": {},
   "outputs": [
    {
     "name": "stdout",
     "output_type": "stream",
     "text": [
      "<class 'pandas.core.frame.DataFrame'>\n",
      "RangeIndex: 150 entries, 0 to 149\n",
      "Data columns (total 7 columns):\n",
      " #   Column               Non-Null Count  Dtype  \n",
      "---  ------               --------------  -----  \n",
      " 0   SepalLengthCm        150 non-null    float64\n",
      " 1   SepalWidthCm         150 non-null    float64\n",
      " 2   PetalLengthCm        150 non-null    float64\n",
      " 3   PetalWidthCm         150 non-null    float64\n",
      " 4   Species              150 non-null    object \n",
      " 5   max_sepalLengthCm_1  150 non-null    float64\n",
      " 6   max_sepalLengthCm_2  150 non-null    float64\n",
      "dtypes: float64(6), object(1)\n",
      "memory usage: 8.3+ KB\n"
     ]
    }
   ],
   "source": [
    "data.info()"
   ]
  },
  {
   "cell_type": "code",
   "execution_count": null,
   "metadata": {},
   "outputs": [],
   "source": []
  }
 ],
 "metadata": {
  "colab": {
   "name": "DS_Bitácora_05_Probabilidad_RESUELTO.ipynb",
   "provenance": []
  },
  "kernelspec": {
   "display_name": "Python 3",
   "language": "python",
   "name": "python3"
  },
  "language_info": {
   "codemirror_mode": {
    "name": "ipython",
    "version": 3
   },
   "file_extension": ".py",
   "mimetype": "text/x-python",
   "name": "python",
   "nbconvert_exporter": "python",
   "pygments_lexer": "ipython3",
   "version": "3.8.2"
  }
 },
 "nbformat": 4,
 "nbformat_minor": 1
}
